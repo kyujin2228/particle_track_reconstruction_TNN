{
 "cells": [
  {
   "cell_type": "markdown",
   "metadata": {},
   "source": [
    "# Test Training (Original)"
   ]
  },
  {
   "cell_type": "code",
   "execution_count": 2,
   "metadata": {},
   "outputs": [
    {
     "name": "stdout",
     "output_type": "stream",
     "text": [
      "Printing configs: \n",
      "train_dir: data/train\n",
      "valid_dir: data/valid\n",
      "dataset: mu200_1pT\n",
      "log_dir: logs/test/run1/\n",
      "run_type: new_run\n",
      "gpu: -1\n",
      "n_files: 4\n",
      "n_valid: 2\n",
      "n_train: 2\n",
      "batch_size: 1\n",
      "lr_c: 0.01\n",
      "n_iters: 3\n",
      "n_epoch: 2\n",
      "TEST_every: 2\n",
      "hid_dim: 4\n",
      "network: QGNN\n",
      "optimizer: Adam\n",
      "loss_func: BinaryCrossentropy\n",
      "n_thread: 4\n",
      "log_verbosity: 2\n",
      "EN_qc: {'PQC_id': '10', 'IEC_id': 'simple_encoding_y', 'MC_id': 'measure_all', 'n_layers': 3, 'repetitions': 0, 'n_qubits': 4}\n",
      "NN_qc: {'PQC_id': '10', 'IEC_id': 'simple_encoding_y', 'MC_id': 'measure_all', 'n_layers': 3, 'repetitions': 0, 'n_qubits': 4}\n",
      "Log dir: logs/test/run1/\n",
      "Training data input dir: data/train\n",
      "Validation data input dir: data/train\n",
      "2023-07-18 16:10:10.452393 Deleted old log: logs/test/run1/log_parameters_2.csv\n",
      "2023-07-18 16:10:10.452461 Deleted old log: logs/test/run1/log_gradients_5.csv\n",
      "2023-07-18 16:10:10.452504 Deleted old log: logs/test/run1/log_gradients_1.csv\n",
      "2023-07-18 16:10:10.452541 Deleted old log: logs/test/run1/log_gradients_11.csv\n",
      "2023-07-18 16:10:10.452575 Deleted old log: logs/test/run1/log_gradients_0.csv\n",
      "2023-07-18 16:10:10.452617 Deleted old log: logs/test/run1/log_gradients_8.csv\n",
      "2023-07-18 16:10:10.452655 Deleted old log: logs/test/run1/log_parameters_11.csv\n",
      "2023-07-18 16:10:10.452690 Deleted old log: logs/test/run1/log_gradients_2.csv\n",
      "2023-07-18 16:10:10.452723 Deleted old log: logs/test/run1/log_parameters_7.csv\n",
      "2023-07-18 16:10:10.452756 Deleted old log: logs/test/run1/log_parameters_9.csv\n",
      "2023-07-18 16:10:10.452792 Deleted old log: logs/test/run1/summary.csv\n",
      "2023-07-18 16:10:10.452826 Deleted old log: logs/test/run1/log_gradients_7.csv\n",
      "2023-07-18 16:10:10.452870 Deleted old log: logs/test/run1/log_parameters_8.csv\n",
      "2023-07-18 16:10:10.452930 Deleted old log: logs/test/run1/log_gradients_3.csv\n",
      "2023-07-18 16:10:10.452967 Deleted old log: logs/test/run1/log_parameters_5.csv\n",
      "2023-07-18 16:10:10.453001 Deleted old log: logs/test/run1/log_training.csv\n",
      "2023-07-18 16:10:10.453035 Deleted old log: logs/test/run1/log_gradients_9.csv\n",
      "2023-07-18 16:10:10.453068 Deleted old log: logs/test/run1/log_parameters_10.csv\n",
      "2023-07-18 16:10:10.453128 Deleted old log: logs/test/run1/log_gradients_6.csv\n",
      "2023-07-18 16:10:10.453245 Deleted old log: logs/test/run1/log_parameters_1.csv\n",
      "2023-07-18 16:10:10.453301 Deleted old log: logs/test/run1/log_gradients_4.csv\n",
      "2023-07-18 16:10:10.453344 Deleted old log: logs/test/run1/log_validation.csv\n",
      "2023-07-18 16:10:10.453380 Deleted old log: logs/test/run1/log_parameters_6.csv\n",
      "2023-07-18 16:10:10.453415 Deleted old log: logs/test/run1/log_gradients_10.csv\n",
      "2023-07-18 16:10:10.453448 Deleted old log: logs/test/run1/log_parameters_4.csv\n",
      "2023-07-18 16:10:10.453488 Deleted old log: logs/test/run1/log_parameters_3.csv\n",
      "2023-07-18 16:10:10.453523 Deleted old log: logs/test/run1/log_parameters_0.csv\n",
      "Model: \"GNN\"\n",
      "_________________________________________________________________\n",
      " Layer (type)                Output Shape              Param #   \n",
      "=================================================================\n",
      " InputNet (Dense)            multiple                  16        \n",
      "                                                                 \n",
      " EdgeNet (EdgeNet)           multiple                  81        \n",
      "                                                                 \n",
      " NodeNet (NodeNet)           multiple                  124       \n",
      "                                                                 \n",
      "=================================================================\n",
      "Total params: 221\n",
      "Trainable params: 221\n",
      "Non-trainable params: 0\n",
      "_________________________________________________________________\n",
      "None\n",
      "2023-07-18 16:10:17.042715 Starting testing the valid set with 2 subgraphs!\n"
     ]
    },
    {
     "name": "stderr",
     "output_type": "stream",
     "text": [
      "/home/yujin/Research/qtrkx-gnn-tracking/test.py:91: RuntimeWarning: invalid value encountered in long_scalars\n",
      "  precision_7 = tp/(tp+fp) # also named purity\n"
     ]
    },
    {
     "name": "stdout",
     "output_type": "stream",
     "text": [
      "2023-07-18 16:10:29.846160: validation Test:  Loss: 0.7088,  AUC: 0.4969, Acc: 46.4760,  Precision: 0.7155 -- Elapsed: 0m12s\n",
      "2023-07-18 16:10:29.849393 Starting testing the train set with 2 subgraphs!\n"
     ]
    },
    {
     "name": "stderr",
     "output_type": "stream",
     "text": [
      "/home/yujin/Research/qtrkx-gnn-tracking/test.py:91: RuntimeWarning: invalid value encountered in long_scalars\n",
      "  precision_7 = tp/(tp+fp) # also named purity\n"
     ]
    },
    {
     "name": "stdout",
     "output_type": "stream",
     "text": [
      "2023-07-18 16:10:45.335281: training Test:  Loss: 0.7014,  AUC: 0.4895, Acc: 50.6042,  Precision: 0.7267 -- Elapsed: 0m15s\n",
      "2023-07-18 16:10:45.340468: Training is starting!\n",
      "2023-07-18 16:10:56.177821: Epoch: 1, Batch: 1, Loss: 0.7051, Elapsed: 0m10s\n",
      "WARNING:tensorflow:5 out of the last 29 calls to <function Adjoint.differentiate_analytic at 0x7fcd61e7fe50> triggered tf.function retracing. Tracing is expensive and the excessive number of tracings could be due to (1) creating @tf.function repeatedly in a loop, (2) passing tensors with different shapes, (3) passing Python objects instead of tensors. For (1), please define your @tf.function outside of the loop. For (2), @tf.function has reduce_retracing=True option that can avoid unnecessary retracing. For (3), please refer to https://www.tensorflow.org/guide/function#controlling_retracing and https://www.tensorflow.org/api_docs/python/tf/function for  more details.\n",
      "2023-07-18 16:11:10.115317: Epoch: 1, Batch: 2, Loss: 0.6930, Elapsed: 0m13s\n",
      "2023-07-18 16:11:10.120911 Starting testing the valid set with 2 subgraphs!\n"
     ]
    },
    {
     "name": "stderr",
     "output_type": "stream",
     "text": [
      "/home/yujin/Research/qtrkx-gnn-tracking/test.py:91: RuntimeWarning: invalid value encountered in long_scalars\n",
      "  precision_7 = tp/(tp+fp) # also named purity\n"
     ]
    },
    {
     "name": "stdout",
     "output_type": "stream",
     "text": [
      "2023-07-18 16:11:21.824451: validation Test:  Loss: 0.6925,  AUC: 0.5774, Acc: 51.5744,  Precision: 0.6273 -- Elapsed: 0m11s\n",
      "2023-07-18 16:11:21.827017 Starting testing the train set with 2 subgraphs!\n"
     ]
    },
    {
     "name": "stderr",
     "output_type": "stream",
     "text": [
      "/home/yujin/Research/qtrkx-gnn-tracking/test.py:91: RuntimeWarning: invalid value encountered in long_scalars\n",
      "  precision_7 = tp/(tp+fp) # also named purity\n"
     ]
    },
    {
     "name": "stdout",
     "output_type": "stream",
     "text": [
      "2023-07-18 16:11:36.885247: training Test:  Loss: 0.6902,  AUC: 0.5590, Acc: 51.8126,  Precision: 0.5418 -- Elapsed: 0m15s\n",
      "2023-07-18 16:11:47.264297: Epoch: 2, Batch: 1, Loss: 0.6917, Elapsed: 0m10s\n",
      "2023-07-18 16:12:00.542095: Epoch: 2, Batch: 2, Loss: 0.6860, Elapsed: 0m13s\n",
      "2023-07-18 16:12:00.547969 Starting testing the valid set with 2 subgraphs!\n"
     ]
    },
    {
     "name": "stderr",
     "output_type": "stream",
     "text": [
      "/home/yujin/Research/qtrkx-gnn-tracking/test.py:91: RuntimeWarning: invalid value encountered in long_scalars\n",
      "  precision_7 = tp/(tp+fp) # also named purity\n"
     ]
    },
    {
     "name": "stdout",
     "output_type": "stream",
     "text": [
      "2023-07-18 16:12:12.169269: validation Test:  Loss: 0.6821,  AUC: 0.6159, Acc: 57.3270,  Precision: 0.6678 -- Elapsed: 0m11s\n",
      "2023-07-18 16:12:12.172156 Starting testing the train set with 2 subgraphs!\n",
      "2023-07-18 16:12:27.085834: training Test:  Loss: 0.6833,  AUC: 0.5954, Acc: 56.7131,  Precision: 0.5992 -- Elapsed: 0m14s\n",
      "2023-07-18 16:12:27.088664: Training completed!\n"
     ]
    },
    {
     "name": "stderr",
     "output_type": "stream",
     "text": [
      "/home/yujin/Research/qtrkx-gnn-tracking/test.py:91: RuntimeWarning: invalid value encountered in long_scalars\n",
      "  precision_7 = tp/(tp+fp) # also named purity\n"
     ]
    }
   ],
   "source": [
    "%run /home/yujin/Research/qtrkx-gnn-tracking/train.py /home/yujin/Research/qtrkx-gnn-tracking/configs/test_env.yaml 1"
   ]
  },
  {
   "cell_type": "markdown",
   "metadata": {},
   "source": [
    "# Test Training (TNN)"
   ]
  },
  {
   "cell_type": "code",
   "execution_count": 1,
   "metadata": {},
   "outputs": [
    {
     "name": "stdout",
     "output_type": "stream",
     "text": [
      "Printing configs: \n",
      "train_dir: data/train\n",
      "valid_dir: data/valid\n",
      "dataset: mu200_1pT\n",
      "log_dir: logs/test/run1/\n",
      "run_type: new_run\n",
      "gpu: -1\n",
      "n_files: 4\n",
      "n_valid: 2\n",
      "n_train: 2\n",
      "batch_size: 1\n",
      "lr_c: 0.01\n",
      "n_iters: 3\n",
      "n_epoch: 2\n",
      "TEST_every: 2\n",
      "hid_dim: 8\n",
      "network: QGNN\n",
      "optimizer: Adam\n",
      "loss_func: BinaryCrossentropy\n",
      "n_thread: 4\n",
      "log_verbosity: 2\n",
      "EN_qc: {'PQC_id': 'TNN', 'IEC_id': 'simple_encoding_y', 'MC_id': 'measure_TNN', 'n_layers': 1, 'repetitions': 0, 'n_qubits': 8}\n",
      "NN_qc: {'PQC_id': 'TNN', 'IEC_id': 'simple_encoding_y', 'MC_id': 'measure_TNN', 'n_layers': 1, 'repetitions': 0, 'n_qubits': 8}\n",
      "Log dir: logs/test/run1/\n",
      "Training data input dir: data/train\n",
      "Validation data input dir: data/train\n",
      "2023-07-18 21:04:53.128721 Deleted old log: logs/test/run1/log_parameters_2.csv\n",
      "2023-07-18 21:04:53.129103 Deleted old log: logs/test/run1/log_gradients_5.csv\n",
      "2023-07-18 21:04:53.129361 Deleted old log: logs/test/run1/log_gradients_1.csv\n",
      "2023-07-18 21:04:53.129573 Deleted old log: logs/test/run1/log_gradients_11.csv\n",
      "2023-07-18 21:04:53.129905 Deleted old log: logs/test/run1/log_gradients_0.csv\n",
      "2023-07-18 21:04:53.130006 Deleted old log: logs/test/run1/log_gradients_8.csv\n",
      "2023-07-18 21:04:53.130206 Deleted old log: logs/test/run1/log_parameters_11.csv\n",
      "2023-07-18 21:04:53.130313 Deleted old log: logs/test/run1/log_gradients_2.csv\n",
      "2023-07-18 21:04:53.130436 Deleted old log: logs/test/run1/log_parameters_7.csv\n",
      "2023-07-18 21:04:53.130516 Deleted old log: logs/test/run1/log_parameters_9.csv\n",
      "2023-07-18 21:04:53.130615 Deleted old log: logs/test/run1/summary.csv\n",
      "2023-07-18 21:04:53.130711 Deleted old log: logs/test/run1/log_gradients_7.csv\n",
      "2023-07-18 21:04:53.130877 Deleted old log: logs/test/run1/log_parameters_8.csv\n",
      "2023-07-18 21:04:53.130964 Deleted old log: logs/test/run1/log_gradients_3.csv\n",
      "2023-07-18 21:04:53.131037 Deleted old log: logs/test/run1/log_parameters_5.csv\n",
      "2023-07-18 21:04:53.131224 Deleted old log: logs/test/run1/log_training.csv\n",
      "2023-07-18 21:04:53.131305 Deleted old log: logs/test/run1/log_gradients_9.csv\n",
      "2023-07-18 21:04:53.131485 Deleted old log: logs/test/run1/log_parameters_10.csv\n",
      "2023-07-18 21:04:53.131613 Deleted old log: logs/test/run1/log_gradients_6.csv\n",
      "2023-07-18 21:04:53.131705 Deleted old log: logs/test/run1/log_parameters_1.csv\n",
      "2023-07-18 21:04:53.131807 Deleted old log: logs/test/run1/log_gradients_4.csv\n",
      "2023-07-18 21:04:53.131908 Deleted old log: logs/test/run1/log_validation.csv\n",
      "2023-07-18 21:04:53.131984 Deleted old log: logs/test/run1/log_parameters_6.csv\n",
      "2023-07-18 21:04:53.132114 Deleted old log: logs/test/run1/log_gradients_10.csv\n",
      "2023-07-18 21:04:53.132192 Deleted old log: logs/test/run1/log_parameters_4.csv\n",
      "2023-07-18 21:04:53.132267 Deleted old log: logs/test/run1/log_parameters_3.csv\n",
      "2023-07-18 21:04:53.132344 Deleted old log: logs/test/run1/log_parameters_0.csv\n",
      "[(theta0, theta1, theta2, theta3, theta4, theta5, theta6, theta7, theta8, theta9, theta10, theta11, theta12, theta13, theta14), (theta3, theta4, theta5, theta6, theta7, theta8, theta9, theta10, theta11, theta12, theta13, theta14, theta15, theta16, theta17), (theta6, theta7, theta8, theta9, theta10, theta11, theta12, theta13, theta14, theta15, theta16, theta17, theta18, theta19, theta20)]\n",
      "[(theta0, theta1, theta2, theta3, theta4, theta5, theta6, theta7, theta8, theta9, theta10, theta11, theta12, theta13, theta14), (theta3, theta4, theta5, theta6, theta7, theta8, theta9, theta10, theta11, theta12, theta13, theta14, theta15, theta16, theta17), (theta6, theta7, theta8, theta9, theta10, theta11, theta12, theta13, theta14, theta15, theta16, theta17, theta18, theta19, theta20)]\n",
      "WARNING:tensorflow:From /home/yujin/miniconda3/envs/qtrkx/lib/python3.9/site-packages/tensorflow/python/autograph/pyct/static_analysis/liveness.py:83: Analyzer.lamba_check (from tensorflow.python.autograph.pyct.static_analysis.liveness) is deprecated and will be removed after 2023-09-23.\n",
      "Instructions for updating:\n",
      "Lambda fuctions will be no more assumed to be used in the statement where they are used, or at least in the same block. https://github.com/tensorflow/tensorflow/issues/56089\n",
      "Model: \"GNN\"\n",
      "_________________________________________________________________\n",
      " Layer (type)                Output Shape              Param #   \n",
      "=================================================================\n",
      " InputNet (Dense)            multiple                  32        \n",
      "                                                                 \n",
      " EdgeNet (EdgeNet)           multiple                  233       \n",
      "                                                                 \n",
      " NodeNet (NodeNet)           multiple                  349       \n",
      "                                                                 \n",
      "=================================================================\n",
      "Total params: 614\n",
      "Trainable params: 614\n",
      "Non-trainable params: 0\n",
      "_________________________________________________________________\n",
      "None\n",
      "2023-07-18 21:06:53.243816 Starting testing the valid set with 2 subgraphs!\n"
     ]
    },
    {
     "name": "stderr",
     "output_type": "stream",
     "text": [
      "/home/yujin/Research/qtrkx-gnn-tracking/test.py:91: RuntimeWarning: invalid value encountered in long_scalars\n",
      "  precision_7 = tp/(tp+fp) # also named purity\n"
     ]
    },
    {
     "name": "stdout",
     "output_type": "stream",
     "text": [
      "2023-07-18 21:08:07.840377: validation Test:  Loss: 0.7004,  AUC: 0.3764, Acc: 54.4860,  Precision: 0.5449 -- Elapsed: 1m14s\n",
      "2023-07-18 21:08:07.843028 Starting testing the train set with 2 subgraphs!\n"
     ]
    },
    {
     "name": "stderr",
     "output_type": "stream",
     "text": [
      "/home/yujin/Research/qtrkx-gnn-tracking/test.py:91: RuntimeWarning: invalid value encountered in long_scalars\n",
      "  precision_7 = tp/(tp+fp) # also named purity\n"
     ]
    },
    {
     "name": "stdout",
     "output_type": "stream",
     "text": [
      "2023-07-18 21:09:39.447305: training Test:  Loss: 0.7161,  AUC: 0.3767, Acc: 50.1723,  Precision: 0.5017 -- Elapsed: 1m31s\n",
      "2023-07-18 21:09:39.453957: Training is starting!\n",
      "2023-07-18 21:11:49.363405: Epoch: 1, Batch: 1, Loss: 0.7239, Elapsed: 2m9s\n",
      "2023-07-18 21:13:13.509805: Epoch: 1, Batch: 2, Loss: 0.6995, Elapsed: 1m24s\n",
      "2023-07-18 21:13:13.516419 Starting testing the valid set with 2 subgraphs!\n"
     ]
    },
    {
     "name": "stderr",
     "output_type": "stream",
     "text": [
      "/home/yujin/Research/qtrkx-gnn-tracking/test.py:91: RuntimeWarning: invalid value encountered in long_scalars\n",
      "  precision_7 = tp/(tp+fp) # also named purity\n"
     ]
    },
    {
     "name": "stdout",
     "output_type": "stream",
     "text": [
      "2023-07-18 21:14:23.475878: validation Test:  Loss: 0.6918,  AUC: 0.4581, Acc: 54.4860,  Precision: 0.5449 -- Elapsed: 1m9s\n",
      "2023-07-18 21:14:23.476292 Starting testing the train set with 2 subgraphs!\n"
     ]
    },
    {
     "name": "stderr",
     "output_type": "stream",
     "text": [
      "/home/yujin/Research/qtrkx-gnn-tracking/test.py:91: RuntimeWarning: invalid value encountered in long_scalars\n",
      "  precision_7 = tp/(tp+fp) # also named purity\n"
     ]
    },
    {
     "name": "stdout",
     "output_type": "stream",
     "text": [
      "2023-07-18 21:15:52.774818: training Test:  Loss: 0.7012,  AUC: 0.4463, Acc: 50.1723,  Precision: 0.5017 -- Elapsed: 1m29s\n",
      "2023-07-18 21:17:40.620855: Epoch: 2, Batch: 1, Loss: 0.7058, Elapsed: 1m47s\n",
      "2023-07-18 21:19:03.400821: Epoch: 2, Batch: 2, Loss: 0.6919, Elapsed: 1m22s\n",
      "2023-07-18 21:19:03.407942 Starting testing the valid set with 2 subgraphs!\n"
     ]
    },
    {
     "name": "stderr",
     "output_type": "stream",
     "text": [
      "/home/yujin/Research/qtrkx-gnn-tracking/test.py:91: RuntimeWarning: invalid value encountered in long_scalars\n",
      "  precision_7 = tp/(tp+fp) # also named purity\n"
     ]
    },
    {
     "name": "stdout",
     "output_type": "stream",
     "text": [
      "2023-07-18 21:20:13.923119: validation Test:  Loss: 0.6881,  AUC: 0.5851, Acc: 54.3898,  Precision: 0.5444 -- Elapsed: 1m10s\n",
      "2023-07-18 21:20:13.923543 Starting testing the train set with 2 subgraphs!\n",
      "2023-07-18 21:21:41.902082: training Test:  Loss: 0.6931,  AUC: 0.5678, Acc: 50.1106,  Precision: 0.5014 -- Elapsed: 1m27s\n",
      "2023-07-18 21:21:41.902225: Training completed!\n"
     ]
    },
    {
     "name": "stderr",
     "output_type": "stream",
     "text": [
      "/home/yujin/Research/qtrkx-gnn-tracking/test.py:91: RuntimeWarning: invalid value encountered in long_scalars\n",
      "  precision_7 = tp/(tp+fp) # also named purity\n"
     ]
    }
   ],
   "source": [
    "# with su4\n",
    "%run /home/yujin/Research/qtrkx-gnn-tracking/train.py /home/yujin/Research/qtrkx-gnn-tracking/configs/test_env_N8.yaml 1"
   ]
  },
  {
   "cell_type": "code",
   "execution_count": 1,
   "metadata": {},
   "outputs": [
    {
     "name": "stdout",
     "output_type": "stream",
     "text": [
      "Printing configs: \n",
      "train_dir: data/train\n",
      "valid_dir: data/valid\n",
      "dataset: mu200_1pT\n",
      "log_dir: logs/test/run1/\n",
      "run_type: new_run\n",
      "gpu: -1\n",
      "n_files: 4\n",
      "n_valid: 2\n",
      "n_train: 2\n",
      "batch_size: 1\n",
      "lr_c: 0.01\n",
      "n_iters: 3\n",
      "n_epoch: 2\n",
      "TEST_every: 2\n",
      "hid_dim: 8\n",
      "network: QGNN\n",
      "optimizer: Adam\n",
      "loss_func: BinaryCrossentropy\n",
      "n_thread: 4\n",
      "log_verbosity: 2\n",
      "EN_qc: {'PQC_id': 'TNN', 'IEC_id': 'simple_encoding_y', 'MC_id': 'measure_TNN', 'n_layers': 1, 'repetitions': 0, 'n_qubits': 8}\n",
      "NN_qc: {'PQC_id': 'TNN', 'IEC_id': 'simple_encoding_y', 'MC_id': 'measure_TNN', 'n_layers': 1, 'repetitions': 0, 'n_qubits': 8}\n",
      "Log dir: logs/test/run1/\n",
      "Training data input dir: data/train\n",
      "Validation data input dir: data/train\n",
      "2023-07-18 16:04:31.537176 Deleted old log: logs/test/run1/log_parameters_2.csv\n",
      "2023-07-18 16:04:31.537239 Deleted old log: logs/test/run1/log_parameters_11.csv\n",
      "2023-07-18 16:04:31.537279 Deleted old log: logs/test/run1/log_parameters_7.csv\n",
      "2023-07-18 16:04:31.537314 Deleted old log: logs/test/run1/log_parameters_9.csv\n",
      "2023-07-18 16:04:31.537352 Deleted old log: logs/test/run1/summary.csv\n",
      "2023-07-18 16:04:31.537388 Deleted old log: logs/test/run1/log_parameters_8.csv\n",
      "2023-07-18 16:04:31.537423 Deleted old log: logs/test/run1/log_parameters_5.csv\n",
      "2023-07-18 16:04:31.537458 Deleted old log: logs/test/run1/log_training.csv\n",
      "2023-07-18 16:04:31.537492 Deleted old log: logs/test/run1/log_parameters_10.csv\n",
      "2023-07-18 16:04:31.537525 Deleted old log: logs/test/run1/log_parameters_1.csv\n",
      "2023-07-18 16:04:31.537558 Deleted old log: logs/test/run1/log_validation.csv\n",
      "2023-07-18 16:04:31.537591 Deleted old log: logs/test/run1/log_parameters_6.csv\n",
      "2023-07-18 16:04:31.537624 Deleted old log: logs/test/run1/log_parameters_4.csv\n",
      "2023-07-18 16:04:31.537657 Deleted old log: logs/test/run1/log_parameters_3.csv\n",
      "2023-07-18 16:04:31.537690 Deleted old log: logs/test/run1/log_parameters_0.csv\n",
      "WARNING:tensorflow:From /home/yujin/miniconda3/envs/qtrkx/lib/python3.9/site-packages/tensorflow/python/autograph/pyct/static_analysis/liveness.py:83: Analyzer.lamba_check (from tensorflow.python.autograph.pyct.static_analysis.liveness) is deprecated and will be removed after 2023-09-23.\n",
      "Instructions for updating:\n",
      "Lambda fuctions will be no more assumed to be used in the statement where they are used, or at least in the same block. https://github.com/tensorflow/tensorflow/issues/56089\n",
      "Model: \"GNN\"\n",
      "_________________________________________________________________\n",
      " Layer (type)                Output Shape              Param #   \n",
      "=================================================================\n",
      " InputNet (Dense)            multiple                  32        \n",
      "                                                                 \n",
      " EdgeNet (EdgeNet)           multiple                  233       \n",
      "                                                                 \n",
      " NodeNet (NodeNet)           multiple                  349       \n",
      "                                                                 \n",
      "=================================================================\n",
      "Total params: 614\n",
      "Trainable params: 614\n",
      "Non-trainable params: 0\n",
      "_________________________________________________________________\n",
      "None\n",
      "2023-07-18 16:04:45.096708 Starting testing the valid set with 2 subgraphs!\n",
      "2023-07-18 16:05:01.341388: validation Test:  Loss: 0.6927,  AUC: 0.6035, Acc: 54.8002,  Precision: 0.5467 -- Elapsed: 0m16s\n",
      "2023-07-18 16:05:01.344425 Starting testing the train set with 2 subgraphs!\n",
      "2023-07-18 16:05:20.765540: training Test:  Loss: 0.7167,  AUC: 0.5613, Acc: 50.2802,  Precision: 0.5023 -- Elapsed: 0m19s\n",
      "2023-07-18 16:05:20.772182: Training is starting!\n",
      "2023-07-18 16:05:36.630826: Epoch: 1, Batch: 1, Loss: 0.7049, Elapsed: 0m15s\n",
      "2023-07-18 16:06:02.992720: Epoch: 1, Batch: 2, Loss: 0.7166, Elapsed: 0m26s\n",
      "2023-07-18 16:06:02.999123 Starting testing the valid set with 2 subgraphs!\n"
     ]
    },
    {
     "name": "stderr",
     "output_type": "stream",
     "text": [
      "/home/yujin/Research/qtrkx-gnn-tracking/test.py:91: RuntimeWarning: invalid value encountered in long_scalars\n",
      "  precision_7 = tp/(tp+fp) # also named purity\n"
     ]
    },
    {
     "name": "stdout",
     "output_type": "stream",
     "text": [
      "2023-07-18 16:06:19.323021: validation Test:  Loss: 0.6855,  AUC: 0.5951, Acc: 55.8135,  Precision: 0.5526 -- Elapsed: 0m16s\n",
      "2023-07-18 16:06:19.326321 Starting testing the train set with 2 subgraphs!\n"
     ]
    },
    {
     "name": "stderr",
     "output_type": "stream",
     "text": [
      "/home/yujin/Research/qtrkx-gnn-tracking/test.py:91: RuntimeWarning: invalid value encountered in long_scalars\n",
      "  precision_7 = tp/(tp+fp) # also named purity\n"
     ]
    },
    {
     "name": "stdout",
     "output_type": "stream",
     "text": [
      "2023-07-18 16:06:39.542345: training Test:  Loss: 0.7037,  AUC: 0.5553, Acc: 50.9693,  Precision: 0.5058 -- Elapsed: 0m20s\n",
      "2023-07-18 16:07:00.471271: Epoch: 2, Batch: 1, Loss: 0.7110, Elapsed: 0m20s\n",
      "2023-07-18 16:07:15.495134: Epoch: 2, Batch: 2, Loss: 0.6910, Elapsed: 0m15s\n",
      "2023-07-18 16:07:15.502503 Starting testing the valid set with 2 subgraphs!\n"
     ]
    },
    {
     "name": "stderr",
     "output_type": "stream",
     "text": [
      "/home/yujin/Research/qtrkx-gnn-tracking/test.py:91: RuntimeWarning: invalid value encountered in long_scalars\n",
      "  precision_7 = tp/(tp+fp) # also named purity\n"
     ]
    },
    {
     "name": "stdout",
     "output_type": "stream",
     "text": [
      "2023-07-18 16:07:31.384289: validation Test:  Loss: 0.6816,  AUC: 0.6048, Acc: 56.3843,  Precision: 0.5561 -- Elapsed: 0m15s\n",
      "2023-07-18 16:07:31.387062 Starting testing the train set with 2 subgraphs!\n",
      "2023-07-18 16:07:50.401473: training Test:  Loss: 0.6940,  AUC: 0.5865, Acc: 51.8178,  Precision: 0.5102 -- Elapsed: 0m19s\n",
      "2023-07-18 16:07:50.404183: Training completed!\n"
     ]
    },
    {
     "name": "stderr",
     "output_type": "stream",
     "text": [
      "/home/yujin/Research/qtrkx-gnn-tracking/test.py:91: RuntimeWarning: invalid value encountered in long_scalars\n",
      "  precision_7 = tp/(tp+fp) # also named purity\n"
     ]
    }
   ],
   "source": [
    "# with ttn\n",
    "%run /home/yujin/Research/qtrkx-gnn-tracking/train.py /home/yujin/Research/qtrkx-gnn-tracking/configs/test_env_N8.yaml 1"
   ]
  },
  {
   "cell_type": "code",
   "execution_count": null,
   "metadata": {},
   "outputs": [],
   "source": []
  },
  {
   "cell_type": "markdown",
   "metadata": {},
   "source": [
    "# Circuit Test"
   ]
  },
  {
   "cell_type": "code",
   "execution_count": 1,
   "metadata": {},
   "outputs": [
    {
     "ename": "ValueError",
     "evalue": "Duplicate qids for <(cirq.CNOT**0.3)>. Expected unique qids but got <[cirq.LineQubit(1), cirq.LineQubit(1)]>.",
     "output_type": "error",
     "traceback": [
      "\u001b[0;31m---------------------------------------------------------------------------\u001b[0m",
      "\u001b[0;31mValueError\u001b[0m                                Traceback (most recent call last)",
      "Cell \u001b[0;32mIn[1], line 8\u001b[0m\n\u001b[1;32m      6\u001b[0m circuit\u001b[39m.\u001b[39mappend(cirq\u001b[39m.\u001b[39mH(qubits[\u001b[39m1\u001b[39m]))\n\u001b[1;32m      7\u001b[0m circuit\u001b[39m.\u001b[39mappend(cirq\u001b[39m.\u001b[39mXPowGate(exponent\u001b[39m=\u001b[39m\u001b[39m0.25\u001b[39m)(qubits[\u001b[39m2\u001b[39m]))\n\u001b[0;32m----> 8\u001b[0m circuit\u001b[39m.\u001b[39mappend((cirq\u001b[39m.\u001b[39;49mXPowGate(exponent\u001b[39m=\u001b[39;49m\u001b[39m0.3\u001b[39;49m))(qubits[\u001b[39m1\u001b[39;49m])\u001b[39m.\u001b[39;49mcontrolled_by(qubits[\u001b[39m1\u001b[39;49m]))\n\u001b[1;32m      9\u001b[0m \u001b[39m# circuit.append(cirq.CZ(qubits[0],qubits[1]))\u001b[39;00m\n\u001b[1;32m     10\u001b[0m circuit\u001b[39m.\u001b[39mappend((cirq\u001b[39m.\u001b[39mZPowGate(exponent\u001b[39m=\u001b[39m\u001b[39m0.3\u001b[39m))(qubits[\u001b[39m2\u001b[39m])\u001b[39m.\u001b[39mcontrolled_by(qubits[\u001b[39m1\u001b[39m]))\n",
      "File \u001b[0;32m~/miniconda3/envs/qtrkx/lib/python3.9/site-packages/cirq/ops/gate_operation.py:345\u001b[0m, in \u001b[0;36mGateOperation.controlled_by\u001b[0;34m(self, control_values, *control_qubits)\u001b[0m\n\u001b[1;32m    343\u001b[0m     \u001b[39mreturn\u001b[39;00m \u001b[39mself\u001b[39m\n\u001b[1;32m    344\u001b[0m qubits \u001b[39m=\u001b[39m \u001b[39mtuple\u001b[39m(control_qubits)\n\u001b[0;32m--> 345\u001b[0m \u001b[39mreturn\u001b[39;00m \u001b[39mself\u001b[39;49m\u001b[39m.\u001b[39;49m_gate\u001b[39m.\u001b[39;49mcontrolled(\n\u001b[1;32m    346\u001b[0m     num_controls\u001b[39m=\u001b[39;49m\u001b[39mlen\u001b[39;49m(qubits),\n\u001b[1;32m    347\u001b[0m     control_values\u001b[39m=\u001b[39;49mcontrol_values,\n\u001b[1;32m    348\u001b[0m     control_qid_shape\u001b[39m=\u001b[39;49m\u001b[39mtuple\u001b[39;49m(q\u001b[39m.\u001b[39;49mdimension \u001b[39mfor\u001b[39;49;00m q \u001b[39min\u001b[39;49;00m qubits),\n\u001b[1;32m    349\u001b[0m )\u001b[39m.\u001b[39;49mon(\u001b[39m*\u001b[39;49m(qubits \u001b[39m+\u001b[39;49m \u001b[39mself\u001b[39;49m\u001b[39m.\u001b[39;49m_qubits))\n",
      "File \u001b[0;32m~/miniconda3/envs/qtrkx/lib/python3.9/site-packages/cirq/ops/common_gates.py:1434\u001b[0m, in \u001b[0;36mCXPowGate.on\u001b[0;34m(self, *args, **kwargs)\u001b[0m\n\u001b[1;32m   1432\u001b[0m \u001b[39mdef\u001b[39;00m \u001b[39mon\u001b[39m(\u001b[39mself\u001b[39m, \u001b[39m*\u001b[39margs: \u001b[39m'\u001b[39m\u001b[39mcirq.Qid\u001b[39m\u001b[39m'\u001b[39m, \u001b[39m*\u001b[39m\u001b[39m*\u001b[39mkwargs: \u001b[39m'\u001b[39m\u001b[39mcirq.Qid\u001b[39m\u001b[39m'\u001b[39m) \u001b[39m-\u001b[39m\u001b[39m>\u001b[39m raw_types\u001b[39m.\u001b[39mOperation:\n\u001b[1;32m   1433\u001b[0m     \u001b[39mif\u001b[39;00m \u001b[39mnot\u001b[39;00m kwargs:\n\u001b[0;32m-> 1434\u001b[0m         \u001b[39mreturn\u001b[39;00m \u001b[39msuper\u001b[39;49m()\u001b[39m.\u001b[39;49mon(\u001b[39m*\u001b[39;49margs)\n\u001b[1;32m   1435\u001b[0m     \u001b[39mif\u001b[39;00m \u001b[39mnot\u001b[39;00m args \u001b[39mand\u001b[39;00m \u001b[39mset\u001b[39m(kwargs\u001b[39m.\u001b[39mkeys()) \u001b[39m==\u001b[39m {\u001b[39m'\u001b[39m\u001b[39mcontrol\u001b[39m\u001b[39m'\u001b[39m, \u001b[39m'\u001b[39m\u001b[39mtarget\u001b[39m\u001b[39m'\u001b[39m}:\n\u001b[1;32m   1436\u001b[0m         \u001b[39mreturn\u001b[39;00m \u001b[39msuper\u001b[39m()\u001b[39m.\u001b[39mon(kwargs[\u001b[39m'\u001b[39m\u001b[39mcontrol\u001b[39m\u001b[39m'\u001b[39m], kwargs[\u001b[39m'\u001b[39m\u001b[39mtarget\u001b[39m\u001b[39m'\u001b[39m])\n",
      "File \u001b[0;32m~/miniconda3/envs/qtrkx/lib/python3.9/site-packages/cirq/ops/raw_types.py:214\u001b[0m, in \u001b[0;36mGate.on\u001b[0;34m(self, *qubits)\u001b[0m\n\u001b[1;32m    211\u001b[0m \u001b[39m# Avoids circular import.\u001b[39;00m\n\u001b[1;32m    212\u001b[0m \u001b[39mfrom\u001b[39;00m \u001b[39mcirq\u001b[39;00m\u001b[39m.\u001b[39;00m\u001b[39mops\u001b[39;00m \u001b[39mimport\u001b[39;00m gate_operation\n\u001b[0;32m--> 214\u001b[0m \u001b[39mreturn\u001b[39;00m gate_operation\u001b[39m.\u001b[39;49mGateOperation(\u001b[39mself\u001b[39;49m, \u001b[39mlist\u001b[39;49m(qubits))\n",
      "File \u001b[0;32m~/miniconda3/envs/qtrkx/lib/python3.9/site-packages/cirq/ops/gate_operation.py:61\u001b[0m, in \u001b[0;36mGateOperation.__init__\u001b[0;34m(self, gate, qubits)\u001b[0m\n\u001b[1;32m     54\u001b[0m \u001b[39mdef\u001b[39;00m \u001b[39m__init__\u001b[39m(\u001b[39mself\u001b[39m, gate: \u001b[39m'\u001b[39m\u001b[39mcirq.Gate\u001b[39m\u001b[39m'\u001b[39m, qubits: Sequence[\u001b[39m'\u001b[39m\u001b[39mcirq.Qid\u001b[39m\u001b[39m'\u001b[39m]) \u001b[39m-\u001b[39m\u001b[39m>\u001b[39m \u001b[39mNone\u001b[39;00m:\n\u001b[1;32m     55\u001b[0m \u001b[39m    \u001b[39m\u001b[39m\"\"\"Inits GateOperation.\u001b[39;00m\n\u001b[1;32m     56\u001b[0m \n\u001b[1;32m     57\u001b[0m \u001b[39m    Args:\u001b[39;00m\n\u001b[1;32m     58\u001b[0m \u001b[39m        gate: The gate to apply.\u001b[39;00m\n\u001b[1;32m     59\u001b[0m \u001b[39m        qubits: The qubits to operate on.\u001b[39;00m\n\u001b[1;32m     60\u001b[0m \u001b[39m    \"\"\"\u001b[39;00m\n\u001b[0;32m---> 61\u001b[0m     gate\u001b[39m.\u001b[39;49mvalidate_args(qubits)\n\u001b[1;32m     62\u001b[0m     \u001b[39mself\u001b[39m\u001b[39m.\u001b[39m_gate \u001b[39m=\u001b[39m gate\n\u001b[1;32m     63\u001b[0m     \u001b[39mself\u001b[39m\u001b[39m.\u001b[39m_qubits \u001b[39m=\u001b[39m \u001b[39mtuple\u001b[39m(qubits)\n",
      "File \u001b[0;32m~/miniconda3/envs/qtrkx/lib/python3.9/site-packages/cirq/ops/raw_types.py:203\u001b[0m, in \u001b[0;36mGate.validate_args\u001b[0;34m(self, qubits)\u001b[0m\n\u001b[1;32m    186\u001b[0m \u001b[39mdef\u001b[39;00m \u001b[39mvalidate_args\u001b[39m(\u001b[39mself\u001b[39m, qubits: Sequence[\u001b[39m'\u001b[39m\u001b[39mcirq.Qid\u001b[39m\u001b[39m'\u001b[39m]) \u001b[39m-\u001b[39m\u001b[39m>\u001b[39m \u001b[39mNone\u001b[39;00m:\n\u001b[1;32m    187\u001b[0m \u001b[39m    \u001b[39m\u001b[39m\"\"\"Checks if this gate can be applied to the given qubits.\u001b[39;00m\n\u001b[1;32m    188\u001b[0m \n\u001b[1;32m    189\u001b[0m \u001b[39m    By default checks that:\u001b[39;00m\n\u001b[0;32m   (...)\u001b[0m\n\u001b[1;32m    201\u001b[0m \u001b[39m        ValueError: The gate can't be applied to the qubits.\u001b[39;00m\n\u001b[1;32m    202\u001b[0m \u001b[39m    \"\"\"\u001b[39;00m\n\u001b[0;32m--> 203\u001b[0m     _validate_qid_shape(\u001b[39mself\u001b[39;49m, qubits)\n",
      "File \u001b[0;32m~/miniconda3/envs/qtrkx/lib/python3.9/site-packages/cirq/ops/raw_types.py:856\u001b[0m, in \u001b[0;36m_validate_qid_shape\u001b[0;34m(val, qubits)\u001b[0m\n\u001b[1;32m    849\u001b[0m     \u001b[39mraise\u001b[39;00m \u001b[39mValueError\u001b[39;00m(\n\u001b[1;32m    850\u001b[0m         \u001b[39m'\u001b[39m\u001b[39mWrong shape of qids for <\u001b[39m\u001b[39m{!r}\u001b[39;00m\u001b[39m>. \u001b[39m\u001b[39m'\u001b[39m\n\u001b[1;32m    851\u001b[0m         \u001b[39m'\u001b[39m\u001b[39mExpected \u001b[39m\u001b[39m{}\u001b[39;00m\u001b[39m but got \u001b[39m\u001b[39m{}\u001b[39;00m\u001b[39m <\u001b[39m\u001b[39m{!r}\u001b[39;00m\u001b[39m>.\u001b[39m\u001b[39m'\u001b[39m\u001b[39m.\u001b[39mformat(\n\u001b[1;32m    852\u001b[0m             val, qid_shape, \u001b[39mtuple\u001b[39m(qid\u001b[39m.\u001b[39mdimension \u001b[39mfor\u001b[39;00m qid \u001b[39min\u001b[39;00m qubits), qubits\n\u001b[1;32m    853\u001b[0m         )\n\u001b[1;32m    854\u001b[0m     )\n\u001b[1;32m    855\u001b[0m \u001b[39mif\u001b[39;00m \u001b[39mlen\u001b[39m(\u001b[39mset\u001b[39m(qubits)) \u001b[39m!=\u001b[39m \u001b[39mlen\u001b[39m(qubits):\n\u001b[0;32m--> 856\u001b[0m     \u001b[39mraise\u001b[39;00m \u001b[39mValueError\u001b[39;00m(\n\u001b[1;32m    857\u001b[0m         \u001b[39mf\u001b[39m\u001b[39m'\u001b[39m\u001b[39mDuplicate qids for <\u001b[39m\u001b[39m{\u001b[39;00mval\u001b[39m!r}\u001b[39;00m\u001b[39m>. Expected unique qids but got <\u001b[39m\u001b[39m{\u001b[39;00mqubits\u001b[39m!r}\u001b[39;00m\u001b[39m>.\u001b[39m\u001b[39m'\u001b[39m\n\u001b[1;32m    858\u001b[0m     )\n",
      "\u001b[0;31mValueError\u001b[0m: Duplicate qids for <(cirq.CNOT**0.3)>. Expected unique qids but got <[cirq.LineQubit(1), cirq.LineQubit(1)]>."
     ]
    }
   ],
   "source": [
    "import cirq\n",
    "import numpy as np\n",
    "circuit = cirq.Circuit()\n",
    "qubits = cirq.LineQubit.range(3)\n",
    "circuit.append(cirq.H(qubits[0]))\n",
    "circuit.append(cirq.H(qubits[1]))\n",
    "circuit.append(cirq.XPowGate(exponent=0.25)(qubits[2]))\n",
    "circuit.append((cirq.XPowGate(exponent=0.3))(qubits[1]).controlled_by(qubits[1]))\n",
    "# circuit.append(cirq.CZ(qubits[0],qubits[1]))\n",
    "circuit.append((cirq.ZPowGate(exponent=0.3))(qubits[2]).controlled_by(qubits[1]))\n",
    "# circuit.append(cirq.X**(0.3 / np.pi))\n",
    "print(circuit)\n",
    "a= cirq.rz(0.3)\n",
    "b = cirq.Z**(0.3 / np.pi)\n",
    "c = cirq.XPowGate(exponent=0.3/np.pi)\n",
    "cirq.equal_up_to_global_phase(cirq.unitary(a), cirq.unitary(c))\n",
    "cirq.equal_up_to_global_phase(cirq.unitary(a), cirq.unitary(b))"
   ]
  },
  {
   "cell_type": "code",
   "execution_count": null,
   "metadata": {},
   "outputs": [],
   "source": []
  },
  {
   "cell_type": "code",
   "execution_count": 9,
   "metadata": {},
   "outputs": [
    {
     "name": "stdout",
     "output_type": "stream",
     "text": [
      "[cirq.GridQubit(0, 0), cirq.GridQubit(1, 0), cirq.GridQubit(2, 0), cirq.GridQubit(3, 0)]\n"
     ]
    }
   ],
   "source": [
    "n_qubits=4\n",
    "print(cirq.GridQubit.rect(n_qubits, 1))"
   ]
  },
  {
   "cell_type": "code",
   "execution_count": 15,
   "metadata": {},
   "outputs": [
    {
     "name": "stdout",
     "output_type": "stream",
     "text": [
      "(0, 0): ───Ry(theta0)───cirq.circuits.qasm_output.QasmUGate(theta=Mod(theta3, 2), phi=0, lmda=0)───\n",
      "\n",
      "(1, 0): ───Ry(theta1)──────────────────────────────────────────────────────────────────────────────\n",
      "\n",
      "(2, 0): ───Ry(theta2)──────────────────────────────────────────────────────────────────────────────\n",
      "\n",
      "(3, 0): ───Ry(theta3)──────────────────────────────────────────────────────────────────────────────\n",
      "\n",
      "(4, 0): ───Ry(theta4)──────────────────────────────────────────────────────────────────────────────\n",
      "\n",
      "(5, 0): ───Ry(theta5)──────────────────────────────────────────────────────────────────────────────\n",
      "\n",
      "(6, 0): ───Ry(theta6)──────────────────────────────────────────────────────────────────────────────\n",
      "\n",
      "(7, 0): ───Ry(theta7)──────────────────────────────────────────────────────────────────────────────\n"
     ]
    }
   ],
   "source": [
    "# original one\n",
    "import sympy\n",
    "import cirq\n",
    "from cirq.circuits.qasm_output import QasmUGate\n",
    "import tensorflow_quantum as tfq\n",
    "import tensorflow as tf\n",
    "\n",
    "# n_layers, n_qubits, symbol_offset, n_params_SU4=1,8,0,15\n",
    "# qubits  = cirq.GridQubit.rect(n_qubits, 1)\n",
    "circuit = cirq.Circuit()\n",
    "# symbols = circuit_func(U, qubits, 1, n_qubits, symbol_offset=symbol_offset)\n",
    "# params = sympy.symbols('theta{}:{}'.format(symbol_offset, symbol_offset + n_params_SU4))\n",
    "\n",
    "def U_SU4(circuit,qubits,params):\n",
    "    u3_gate=[]\n",
    "    for i in range(4):\n",
    "        u3_gate.append(QasmUGate(params[3*i], params[3*i+1], params[3*i+2])) # The angles are normalized to the range [0, 2) half_turns\n",
    "    circuit.append(u3_gate[0](qubits[0]))\n",
    "    circuit.append(u3_gate[1](qubits[1]))\n",
    "    circuit.append(cirq.CNOT(qubits[0],qubits[1]))\n",
    "    circuit.append(cirq.ry(params[12])(qubits[0]))\n",
    "    circuit.append(cirq.rz(params[13])(qubits[1]))\n",
    "    circuit.append(cirq.CNOT(qubits[1],qubits[0]))\n",
    "    circuit.append(cirq.ry(params[14])(qubits[0]))\n",
    "    circuit.append(cirq.CNOT(qubits[0],qubits[1]))\n",
    "    circuit.append(u3_gate[2](qubits[0]))\n",
    "    circuit.append(u3_gate[3](qubits[1]))\n",
    "    \n",
    "def conv_layer1(unitary,circuit,qubits,params):\n",
    "    if unitary=='U_SU4':\n",
    "        unitary=U_SU4\n",
    "    for i in range(4):\n",
    "        unitary(circuit, qubits[2*i:2*i+2],params)\n",
    "    for i in range(4):\n",
    "        if i != 3:\n",
    "            unitary(circuit, qubits[2*i+1:2*i+3],params)\n",
    "        else:\n",
    "            qubit=[qubits[7],qubits[0]]\n",
    "            unitary(circuit, qubit,params)\n",
    "            \n",
    "def conv_layer2(unitary,circuit,qubits,params):\n",
    "    if unitary=='U_SU4':\n",
    "        unitary=U_SU4\n",
    "    # 2-3,6-7 wires\n",
    "    unitary(circuit, qubits[2:4],params)\n",
    "    unitary(circuit, qubits[6:8],params)\n",
    "    # 3-6,7-2 wires\n",
    "    qubit=[qubits[3],qubits[6]]\n",
    "    unitary(circuit, qubit,params)\n",
    "    qubit=[qubits[7],qubits[2]]\n",
    "    unitary(circuit, qubit,params)\n",
    "\n",
    "def conv_layer3(unitary,circuit,qubits,params):\n",
    "    if unitary=='U_SU4':\n",
    "        unitary=U_SU4\n",
    "    # 6-7 wires\n",
    "    unitary(circuit, qubits[6:8],params)\n",
    "\n",
    "# def TNN_pqc(circuit, qubits, n_layers=1, n_qubits=8, symbol_offset=0):\n",
    "#     n_params_SU4=15\n",
    "#     params = sympy.symbols('theta{}:{}'.format(symbol_offset, symbol_offset + n_params_SU4*3))\n",
    "#     params_each=[]\n",
    "#     for i in range(3):\n",
    "#         params_each.append(params[3*i:3*i+n_params_SU4])\n",
    "#     conv_layer1(U_SU4,circuit,qubits,params_each[0])\n",
    "#     conv_layer2(U_SU4,circuit,qubits,params_each[1])\n",
    "#     conv_layer3(U_SU4,circuit,qubits,params_each[2])\n",
    "\n",
    "def TNN_pqc(circuit, qubits, n_layers=1, n_qubits=8, symbol_offset=0):\n",
    "    params = sympy.symbols('theta{}:{}'.format(symbol_offset, symbol_offset + 8))\n",
    "    for i in range(8):\n",
    "        circuit.append(cirq.ry(params[i])(qubits[i]))\n",
    "    u3_gate=QasmUGate(params[3],0,0)\n",
    "    circuit.append(u3_gate(qubits[0]))    # for layer in range(n_layers):\n",
    "    # u2_gate = QasmUGate(0.5, 0, 1) # The angles are normalized to the range [0, 2) half_turns\n",
    "    # circuit = cirq.Circuit(u2_gate(q0))\n",
    "\n",
    "def simple_encoding_y(circuit, qubits, n_qubits=8):\n",
    "    input_  = sympy.symbols('x:{}'.format(n_qubits))\n",
    "    for idx, qubit in enumerate(qubits):\n",
    "        circuit.append(cirq.ry(input_[idx])(qubit))\n",
    "\n",
    "def measure_TNN(qubits, n_measurements=3):\n",
    "    return [cirq.Z(qubits[0]), cirq.Z(qubits[2]), cirq.Z(qubits[7])]\n",
    "\n",
    "\n",
    "TNN_pqc(circuit, qubits, n_layers=1, n_qubits=8, symbol_offset=0)\n",
    "print(circuit)\n",
    "# circuit_list=[simple_encoding_y(circuit, qubits, n_qubits=8),TNN_pqc(circuit, qubits, n_layers=1, n_qubits=8, symbol_offset=0)]\n",
    "# symbol_names = ['x{}'.format(i) for i in range(8)]\n",
    "# symbol_values=tf.Variable(tf.random.uniform(shape=[8,],minval=0,maxval=1))\n",
    "# for i in range(45):\n",
    "#     symbol_names.append('theta{}'.format(i)) \n",
    "# exp_layer(circuit_list,operator,symbol_names)\n"
   ]
  },
  {
   "cell_type": "code",
   "execution_count": 1,
   "metadata": {},
   "outputs": [
    {
     "name": "stderr",
     "output_type": "stream",
     "text": [
      "2023-07-18 14:38:10.439872: I tensorflow/core/platform/cpu_feature_guard.cc:193] This TensorFlow binary is optimized with oneAPI Deep Neural Network Library (oneDNN) to use the following CPU instructions in performance-critical operations:  AVX2 AVX_VNNI FMA\n",
      "To enable them in other operations, rebuild TensorFlow with the appropriate compiler flags.\n",
      "2023-07-18 14:38:10.554712: I tensorflow/core/util/port.cc:104] oneDNN custom operations are on. You may see slightly different numerical results due to floating-point round-off errors from different computation orders. To turn them off, set the environment variable `TF_ENABLE_ONEDNN_OPTS=0`.\n",
      "2023-07-18 14:38:10.560302: W tensorflow/compiler/xla/stream_executor/platform/default/dso_loader.cc:64] Could not load dynamic library 'libcudart.so.11.0'; dlerror: libcudart.so.11.0: cannot open shared object file: No such file or directory\n",
      "2023-07-18 14:38:10.560336: I tensorflow/compiler/xla/stream_executor/cuda/cudart_stub.cc:29] Ignore above cudart dlerror if you do not have a GPU set up on your machine.\n",
      "2023-07-18 14:38:11.359135: W tensorflow/compiler/xla/stream_executor/platform/default/dso_loader.cc:64] Could not load dynamic library 'libnvinfer.so.7'; dlerror: libnvinfer.so.7: cannot open shared object file: No such file or directory\n",
      "2023-07-18 14:38:11.359321: W tensorflow/compiler/xla/stream_executor/platform/default/dso_loader.cc:64] Could not load dynamic library 'libnvinfer_plugin.so.7'; dlerror: libnvinfer_plugin.so.7: cannot open shared object file: No such file or directory\n",
      "2023-07-18 14:38:11.359343: W tensorflow/compiler/tf2tensorrt/utils/py_utils.cc:38] TF-TRT Warning: Cannot dlopen some TensorRT libraries. If you would like to use Nvidia GPU with TensorRT, please make sure the missing libraries mentioned above are installed properly.\n"
     ]
    }
   ],
   "source": [
    "from tools.tools import *\n",
    "import yaml\n",
    "# with open('/home/yujin/Research/qtrkx-gnn-tracking/configs/test_env.yaml', 'r') as ymlfile:\n",
    "with open('/home/yujin/Research/qtrkx-gnn-tracking/configs/test_env_N8.yaml', 'r') as ymlfile:\n",
    "    config = yaml.load(ymlfile, Loader=yaml.FullLoader)\n",
    "tools.config = config"
   ]
  },
  {
   "cell_type": "code",
   "execution_count": 1,
   "metadata": {},
   "outputs": [
    {
     "name": "stderr",
     "output_type": "stream",
     "text": [
      "2023-07-18 15:37:46.226088: I tensorflow/core/platform/cpu_feature_guard.cc:193] This TensorFlow binary is optimized with oneAPI Deep Neural Network Library (oneDNN) to use the following CPU instructions in performance-critical operations:  AVX2 AVX_VNNI FMA\n",
      "To enable them in other operations, rebuild TensorFlow with the appropriate compiler flags.\n",
      "2023-07-18 15:37:46.340668: I tensorflow/core/util/port.cc:104] oneDNN custom operations are on. You may see slightly different numerical results due to floating-point round-off errors from different computation orders. To turn them off, set the environment variable `TF_ENABLE_ONEDNN_OPTS=0`.\n",
      "2023-07-18 15:37:46.346024: W tensorflow/compiler/xla/stream_executor/platform/default/dso_loader.cc:64] Could not load dynamic library 'libcudart.so.11.0'; dlerror: libcudart.so.11.0: cannot open shared object file: No such file or directory\n",
      "2023-07-18 15:37:46.346055: I tensorflow/compiler/xla/stream_executor/cuda/cudart_stub.cc:29] Ignore above cudart dlerror if you do not have a GPU set up on your machine.\n",
      "2023-07-18 15:37:47.116088: W tensorflow/compiler/xla/stream_executor/platform/default/dso_loader.cc:64] Could not load dynamic library 'libnvinfer.so.7'; dlerror: libnvinfer.so.7: cannot open shared object file: No such file or directory\n",
      "2023-07-18 15:37:47.116241: W tensorflow/compiler/xla/stream_executor/platform/default/dso_loader.cc:64] Could not load dynamic library 'libnvinfer_plugin.so.7'; dlerror: libnvinfer_plugin.so.7: cannot open shared object file: No such file or directory\n",
      "2023-07-18 15:37:47.116258: W tensorflow/compiler/tf2tensorrt/utils/py_utils.cc:38] TF-TRT Warning: Cannot dlopen some TensorRT libraries. If you would like to use Nvidia GPU with TensorRT, please make sure the missing libraries mentioned above are installed properly.\n",
      "2023-07-18 15:37:49.124280: W tensorflow/compiler/xla/stream_executor/platform/default/dso_loader.cc:64] Could not load dynamic library 'libcuda.so.1'; dlerror: libcuda.so.1: cannot open shared object file: No such file or directory\n",
      "2023-07-18 15:37:49.124354: W tensorflow/compiler/xla/stream_executor/cuda/cuda_driver.cc:265] failed call to cuInit: UNKNOWN ERROR (303)\n",
      "2023-07-18 15:37:49.124392: I tensorflow/compiler/xla/stream_executor/cuda/cuda_diagnostics.cc:156] kernel driver does not appear to be running on this host (yujin-virtual-machine): /proc/driver/nvidia/version does not exist\n",
      "2023-07-18 15:37:49.124740: I tensorflow/core/platform/cpu_feature_guard.cc:193] This TensorFlow binary is optimized with oneAPI Deep Neural Network Library (oneDNN) to use the following CPU instructions in performance-critical operations:  AVX2 AVX_VNNI FMA\n",
      "To enable them in other operations, rebuild TensorFlow with the appropriate compiler flags.\n"
     ]
    }
   ],
   "source": [
    "from tools.tools import *\n",
    "import yaml\n",
    "# with open('/home/yujin/Research/qtrkx-gnn-tracking/configs/test_env.yaml', 'r') as ymlfile:\n",
    "with open('/home/yujin/Research/qtrkx-gnn-tracking/configs/test_env_N8.yaml', 'r') as ymlfile:\n",
    "    config = yaml.load(ymlfile, Loader=yaml.FullLoader)\n",
    "tools.config = config\n",
    "from qcircuits.QCircuit import QCircuit\n",
    "import numpy as np\n",
    "import tensorflow as tf\n",
    "import tensorflow_quantum as tfq\n",
    "n_layers = 1\n",
    "n_qubits = 8\n",
    "dp_noise = None\n",
    "\n",
    "class Rescale01(tf.keras.layers.Layer):\n",
    "    def __init__(self, name='Rescale01'):\n",
    "        super(Rescale01, self).__init__(name=name)\n",
    "\n",
    "    def call(self, X):\n",
    "        X = tf.divide(\n",
    "                tf.subtract(\n",
    "                    X, \n",
    "                    tf.reduce_min(X)\n",
    "                ), \n",
    "                tf.subtract(\n",
    "                    tf.reduce_max(X), \n",
    "                    tf.reduce_min(X)\n",
    "                ),\n",
    "            lambda: X\n",
    "        )\n",
    "        return X\n",
    "qc = QCircuit(IEC_id=config['EN_qc']['IEC_id'],\n",
    "    PQC_id=config['EN_qc']['PQC_id'],\n",
    "    MC_id=config['EN_qc']['MC_id'],\n",
    "    n_layers=n_layers, \n",
    "    input_size=n_qubits,\n",
    "    p=0.01)\n",
    "model_circuit, qubits = qc.model_circuit()\n",
    "measurement_operators = qc.measurement_operators()\n",
    "\n",
    "# Prepare symbol list for inputs and parameters of the Quantum Circuits\n",
    "symbol_names = ['x{}'.format(i) for i in range(qc.n_inputs)]\n",
    "for i in range(qc.n_params):\n",
    "    symbol_names.append('theta{}'.format(i)) \n",
    "\n",
    "# Classical input layer of the Node Network\n",
    "# takes input data and feeds it to the PQC layer\n",
    "input_layer = tf.keras.Sequential([\n",
    "    tf.keras.layers.Dense(\n",
    "        n_qubits, \n",
    "        activation='relu'),\n",
    "    Rescale01()\n",
    "])\n",
    "exp_layer = tfq.layers.Expectation()\n",
    "# exp_layer = tfq.layers.SampledExpectation()\n",
    "\n",
    "readout_layer = tf.keras.layers.Dense(1, activation='sigmoid')\n",
    "\n",
    "params = tf.Variable(tf.random.uniform(\n",
    "    shape=(1,qc.n_params),\n",
    "    minval=0, maxval=1)*2*np.pi\n",
    ") \n",
    "B=tf.Variable(tf.random.uniform(\n",
    "    shape=(1,8),\n",
    "    minval=0, maxval=1)*2*np.pi\n",
    ") "
   ]
  },
  {
   "cell_type": "code",
   "execution_count": 2,
   "metadata": {},
   "outputs": [
    {
     "data": {
      "text/html": [
       "<pre style=\"overflow: auto; white-space: pre;\">                                                  ┌──┐                                 ┌──┐\n",
       "(0, 0): ───Ry(x0)───Ry(theta0)───@───Ry(theta1)─────X──────────────────────────────────────────────────────────\n",
       "                                 │                  │\n",
       "(1, 0): ───Ry(x1)───Ry(theta1)───X───Ry(theta0)────@┼──────────────────────────────────────────────────────────\n",
       "                                                   ││\n",
       "(2, 0): ───Ry(x2)───Ry(theta0)───@───Ry(theta1)────X┼────Ry(theta2)───@───Ry(theta3)─────X─────────────────────\n",
       "                                 │                  │                 │                  │\n",
       "(3, 0): ───Ry(x3)───Ry(theta1)───X───Ry(theta0)────@┼────Ry(theta3)───X───Ry(theta2)────@┼─────────────────────\n",
       "                                                   ││                                   ││\n",
       "(4, 0): ───Ry(x4)───Ry(theta0)───@───Ry(theta1)────X┼───────────────────────────────────┼┼─────────────────────\n",
       "                                 │                  │                                   ││\n",
       "(5, 0): ───Ry(x5)───Ry(theta1)───X───Ry(theta0)────@┼───────────────────────────────────┼┼─────────────────────\n",
       "                                                   ││                                   ││\n",
       "(6, 0): ───Ry(x6)───Ry(theta0)───@───Ry(theta1)────X┼────Ry(theta2)───@───Ry(theta3)────X┼────Ry(theta4)───@───\n",
       "                                 │                  │                 │                  │                 │\n",
       "(7, 0): ───Ry(x7)───Ry(theta1)───X───Ry(theta0)─────@────Ry(theta3)───X───Ry(theta2)─────@────Ry(theta5)───X───\n",
       "                                                  └──┘                                 └──┘</pre>"
      ],
      "text/plain": [
       "                                                  ┌──┐                                 ┌──┐\n",
       "(0, 0): ───Ry(x0)───Ry(theta0)───@───Ry(theta1)─────X──────────────────────────────────────────────────────────\n",
       "                                 │                  │\n",
       "(1, 0): ───Ry(x1)───Ry(theta1)───X───Ry(theta0)────@┼──────────────────────────────────────────────────────────\n",
       "                                                   ││\n",
       "(2, 0): ───Ry(x2)───Ry(theta0)───@───Ry(theta1)────X┼────Ry(theta2)───@───Ry(theta3)─────X─────────────────────\n",
       "                                 │                  │                 │                  │\n",
       "(3, 0): ───Ry(x3)───Ry(theta1)───X───Ry(theta0)────@┼────Ry(theta3)───X───Ry(theta2)────@┼─────────────────────\n",
       "                                                   ││                                   ││\n",
       "(4, 0): ───Ry(x4)───Ry(theta0)───@───Ry(theta1)────X┼───────────────────────────────────┼┼─────────────────────\n",
       "                                 │                  │                                   ││\n",
       "(5, 0): ───Ry(x5)───Ry(theta1)───X───Ry(theta0)────@┼───────────────────────────────────┼┼─────────────────────\n",
       "                                                   ││                                   ││\n",
       "(6, 0): ───Ry(x6)───Ry(theta0)───@───Ry(theta1)────X┼────Ry(theta2)───@───Ry(theta3)────X┼────Ry(theta4)───@───\n",
       "                                 │                  │                 │                  │                 │\n",
       "(7, 0): ───Ry(x7)───Ry(theta1)───X───Ry(theta0)─────@────Ry(theta3)───X───Ry(theta2)─────@────Ry(theta5)───X───\n",
       "                                                  └──┘                                 └──┘"
      ]
     },
     "execution_count": 2,
     "metadata": {},
     "output_type": "execute_result"
    }
   ],
   "source": [
    "model_circuit"
   ]
  },
  {
   "cell_type": "code",
   "execution_count": 1,
   "metadata": {},
   "outputs": [
    {
     "name": "stderr",
     "output_type": "stream",
     "text": [
      "2023-07-18 15:58:00.389644: I tensorflow/core/platform/cpu_feature_guard.cc:193] This TensorFlow binary is optimized with oneAPI Deep Neural Network Library (oneDNN) to use the following CPU instructions in performance-critical operations:  AVX2 AVX_VNNI FMA\n",
      "To enable them in other operations, rebuild TensorFlow with the appropriate compiler flags.\n",
      "2023-07-18 15:58:00.496371: I tensorflow/core/util/port.cc:104] oneDNN custom operations are on. You may see slightly different numerical results due to floating-point round-off errors from different computation orders. To turn them off, set the environment variable `TF_ENABLE_ONEDNN_OPTS=0`.\n",
      "2023-07-18 15:58:00.501825: W tensorflow/compiler/xla/stream_executor/platform/default/dso_loader.cc:64] Could not load dynamic library 'libcudart.so.11.0'; dlerror: libcudart.so.11.0: cannot open shared object file: No such file or directory\n",
      "2023-07-18 15:58:00.501859: I tensorflow/compiler/xla/stream_executor/cuda/cudart_stub.cc:29] Ignore above cudart dlerror if you do not have a GPU set up on your machine.\n",
      "2023-07-18 15:58:01.280181: W tensorflow/compiler/xla/stream_executor/platform/default/dso_loader.cc:64] Could not load dynamic library 'libnvinfer.so.7'; dlerror: libnvinfer.so.7: cannot open shared object file: No such file or directory\n",
      "2023-07-18 15:58:01.280308: W tensorflow/compiler/xla/stream_executor/platform/default/dso_loader.cc:64] Could not load dynamic library 'libnvinfer_plugin.so.7'; dlerror: libnvinfer_plugin.so.7: cannot open shared object file: No such file or directory\n",
      "2023-07-18 15:58:01.280324: W tensorflow/compiler/tf2tensorrt/utils/py_utils.cc:38] TF-TRT Warning: Cannot dlopen some TensorRT libraries. If you would like to use Nvidia GPU with TensorRT, please make sure the missing libraries mentioned above are installed properly.\n"
     ]
    },
    {
     "name": "stdout",
     "output_type": "stream",
     "text": [
      "[(theta0, theta1, theta2, theta3, theta4, theta5, theta6, theta7, theta8, theta9, theta10, theta11, theta12, theta13, theta14), (theta3, theta4, theta5, theta6, theta7, theta8, theta9, theta10, theta11, theta12, theta13, theta14, theta15, theta16, theta17), (theta6, theta7, theta8, theta9, theta10, theta11, theta12, theta13, theta14, theta15, theta16, theta17, theta18, theta19, theta20)]\n"
     ]
    },
    {
     "name": "stderr",
     "output_type": "stream",
     "text": [
      "2023-07-18 15:58:03.351813: W tensorflow/compiler/xla/stream_executor/platform/default/dso_loader.cc:64] Could not load dynamic library 'libcuda.so.1'; dlerror: libcuda.so.1: cannot open shared object file: No such file or directory\n",
      "2023-07-18 15:58:03.351893: W tensorflow/compiler/xla/stream_executor/cuda/cuda_driver.cc:265] failed call to cuInit: UNKNOWN ERROR (303)\n",
      "2023-07-18 15:58:03.351939: I tensorflow/compiler/xla/stream_executor/cuda/cuda_diagnostics.cc:156] kernel driver does not appear to be running on this host (yujin-virtual-machine): /proc/driver/nvidia/version does not exist\n",
      "2023-07-18 15:58:03.352517: I tensorflow/core/platform/cpu_feature_guard.cc:193] This TensorFlow binary is optimized with oneAPI Deep Neural Network Library (oneDNN) to use the following CPU instructions in performance-critical operations:  AVX2 AVX_VNNI FMA\n",
      "To enable them in other operations, rebuild TensorFlow with the appropriate compiler flags.\n"
     ]
    }
   ],
   "source": [
    "from tools.tools import *\n",
    "import yaml\n",
    "# with open('/home/yujin/Research/qtrkx-gnn-tracking/configs/test_env.yaml', 'r') as ymlfile:\n",
    "with open('/home/yujin/Research/qtrkx-gnn-tracking/configs/test_env_N8.yaml', 'r') as ymlfile:\n",
    "    config = yaml.load(ymlfile, Loader=yaml.FullLoader)\n",
    "tools.config = config\n",
    "from qcircuits.QCircuit import QCircuit\n",
    "import numpy as np\n",
    "import tensorflow as tf\n",
    "import tensorflow_quantum as tfq\n",
    "n_layers = 1\n",
    "n_qubits = 8\n",
    "dp_noise = None\n",
    "\n",
    "class Rescale01(tf.keras.layers.Layer):\n",
    "    def __init__(self, name='Rescale01'):\n",
    "        super(Rescale01, self).__init__(name=name)\n",
    "\n",
    "    def call(self, X):\n",
    "        X = tf.divide(\n",
    "                tf.subtract(\n",
    "                    X, \n",
    "                    tf.reduce_min(X)\n",
    "                ), \n",
    "                tf.subtract(\n",
    "                    tf.reduce_max(X), \n",
    "                    tf.reduce_min(X)\n",
    "                ),\n",
    "            lambda: X\n",
    "        )\n",
    "        return X\n",
    "qc = QCircuit(IEC_id=config['EN_qc']['IEC_id'],\n",
    "    PQC_id=config['EN_qc']['PQC_id'],\n",
    "    MC_id=config['EN_qc']['MC_id'],\n",
    "    n_layers=n_layers, \n",
    "    input_size=n_qubits,\n",
    "    p=0.01)\n",
    "model_circuit, qubits = qc.model_circuit()\n",
    "measurement_operators = qc.measurement_operators()\n",
    "\n",
    "# Prepare symbol list for inputs and parameters of the Quantum Circuits\n",
    "symbol_names = ['x{}'.format(i) for i in range(qc.n_inputs)]\n",
    "for i in range(qc.n_params):\n",
    "    symbol_names.append('theta{}'.format(i)) \n",
    "\n",
    "# Classical input layer of the Node Network\n",
    "# takes input data and feeds it to the PQC layer\n",
    "input_layer = tf.keras.Sequential([\n",
    "    tf.keras.layers.Dense(\n",
    "        n_qubits, \n",
    "        activation='relu'),\n",
    "    Rescale01()\n",
    "])\n",
    "exp_layer = tfq.layers.Expectation()\n",
    "# exp_layer = tfq.layers.SampledExpectation()\n",
    "\n",
    "readout_layer = tf.keras.layers.Dense(1, activation='sigmoid')\n",
    "\n",
    "params = tf.Variable(tf.random.uniform(\n",
    "    shape=(1,qc.n_params),\n",
    "    minval=0, maxval=1)*2*np.pi\n",
    ") \n",
    "B=tf.Variable(tf.random.uniform(\n",
    "    shape=(1,8),\n",
    "    minval=0, maxval=1)*2*np.pi\n",
    ") "
   ]
  },
  {
   "cell_type": "code",
   "execution_count": 2,
   "metadata": {},
   "outputs": [
    {
     "data": {
      "text/html": [
       "<pre style=\"overflow: auto; white-space: pre;\">                                                                                                                                                                                                                                                      ┌──┐                 ┌──┐                 ┌──┐                                                                                                                                                                                                                                                                                                   ┌──┐                 ┌──┐                 ┌──┐\n",
       "(0, 0): ───Ry(x0)───cirq.circuits.qasm_output.QasmUGate(theta=0, phi=0, lmda=0)───@───Ry(theta12)───X───Ry(theta14)───@───cirq.circuits.qasm_output.QasmUGate(theta=0, phi=0, lmda=0)───cirq.circuits.qasm_output.QasmUGate(theta=0, phi=0, lmda=0)─────X────Rz(theta13)─────@────────────────────X────cirq.circuits.qasm_output.QasmUGate(theta=0, phi=0, lmda=0)────────────────────────────────────────────────────────────────────────────────────────────────────────────────────────────────────────────────────────────────────────────────────────────────────────────────────────────────────────────────────────────────────────────────────────────────────────────────────────────────────────────────────────────────────────────────────────────────────────────────────────────────────────────────────────────────────────────────────────────────────────────────────────\n",
       "                                                                                  │                 │                 │                                                                                                                                 │                    │                    │\n",
       "(1, 0): ───Ry(x1)───cirq.circuits.qasm_output.QasmUGate(theta=0, phi=0, lmda=0)───X───Rz(theta13)───@─────────────────X───cirq.circuits.qasm_output.QasmUGate(theta=0, phi=0, lmda=0)───cirq.circuits.qasm_output.QasmUGate(theta=0, phi=0, lmda=0)────@┼────Ry(theta12)────X┼────Ry(theta14)────@┼────cirq.circuits.qasm_output.QasmUGate(theta=0, phi=0, lmda=0)────────────────────────────────────────────────────────────────────────────────────────────────────────────────────────────────────────────────────────────────────────────────────────────────────────────────────────────────────────────────────────────────────────────────────────────────────────────────────────────────────────────────────────────────────────────────────────────────────────────────────────────────────────────────────────────────────────────────────────────────────────────────────────\n",
       "                                                                                                                                                                                                                                                       ││                   ││                   ││\n",
       "(2, 0): ───Ry(x2)───cirq.circuits.qasm_output.QasmUGate(theta=0, phi=0, lmda=0)───@───Ry(theta12)───X───Ry(theta14)───@───cirq.circuits.qasm_output.QasmUGate(theta=0, phi=0, lmda=0)───cirq.circuits.qasm_output.QasmUGate(theta=0, phi=0, lmda=0)────X┼────Rz(theta13)────@┼───────────────────X┼────cirq.circuits.qasm_output.QasmUGate(theta=0, phi=0, lmda=0)───cirq.circuits.qasm_output.QasmUGate(theta=0, phi=0, lmda=0)───@───Ry(theta15)───X───Ry(theta17)───@───cirq.circuits.qasm_output.QasmUGate(theta=0, phi=0, lmda=0)───cirq.circuits.qasm_output.QasmUGate(theta=0, phi=0, lmda=0)─────X────Rz(theta16)─────@────────────────────X────cirq.circuits.qasm_output.QasmUGate(theta=0, phi=0, lmda=0)───────────────────────────────────────────────────────────────────────────────────────────────────────────────────────────────────────────────────────────────────────\n",
       "                                                                                  │                 │                 │                                                                                                                                 │                    │                    │                                                                                                                                │                 │                 │                                                                                                                                 │                    │                    │\n",
       "(3, 0): ───Ry(x3)───cirq.circuits.qasm_output.QasmUGate(theta=0, phi=0, lmda=0)───X───Rz(theta13)───@─────────────────X───cirq.circuits.qasm_output.QasmUGate(theta=0, phi=0, lmda=0)───cirq.circuits.qasm_output.QasmUGate(theta=0, phi=0, lmda=0)────@┼────Ry(theta12)────X┼────Ry(theta14)────@┼────cirq.circuits.qasm_output.QasmUGate(theta=0, phi=0, lmda=0)───cirq.circuits.qasm_output.QasmUGate(theta=0, phi=0, lmda=0)───X───Rz(theta16)───@─────────────────X───cirq.circuits.qasm_output.QasmUGate(theta=0, phi=0, lmda=0)───cirq.circuits.qasm_output.QasmUGate(theta=0, phi=0, lmda=0)────@┼────Ry(theta15)────X┼────Ry(theta17)────@┼────cirq.circuits.qasm_output.QasmUGate(theta=0, phi=0, lmda=0)───────────────────────────────────────────────────────────────────────────────────────────────────────────────────────────────────────────────────────────────────────\n",
       "                                                                                                                                                                                                                                                       ││                   ││                   ││                                                                                                                                                                                                                                                                                                     ││                   ││                   ││\n",
       "(4, 0): ───Ry(x4)───cirq.circuits.qasm_output.QasmUGate(theta=0, phi=0, lmda=0)───@───Ry(theta12)───X───Ry(theta14)───@───cirq.circuits.qasm_output.QasmUGate(theta=0, phi=0, lmda=0)───cirq.circuits.qasm_output.QasmUGate(theta=0, phi=0, lmda=0)────X┼────Rz(theta13)────@┼───────────────────X┼────cirq.circuits.qasm_output.QasmUGate(theta=0, phi=0, lmda=0)──────────────────────────────────────────────────────────────────────────────────────────────────────────────────────────────────────────────────────────────────────────────────────────────────────────────────────────────────────┼┼───────────────────┼┼───────────────────┼┼──────────────────────────────────────────────────────────────────────────────────────────────────────────────────────────────────────────────────────────────────────────────────────────────────────────────────────────────────────\n",
       "                                                                                  │                 │                 │                                                                                                                                 │                    │                    │                                                                                                                                                                                                                                                                                                     ││                   ││                   ││\n",
       "(5, 0): ───Ry(x5)───cirq.circuits.qasm_output.QasmUGate(theta=0, phi=0, lmda=0)───X───Rz(theta13)───@─────────────────X───cirq.circuits.qasm_output.QasmUGate(theta=0, phi=0, lmda=0)───cirq.circuits.qasm_output.QasmUGate(theta=0, phi=0, lmda=0)────@┼────Ry(theta12)────X┼────Ry(theta14)────@┼────cirq.circuits.qasm_output.QasmUGate(theta=0, phi=0, lmda=0)──────────────────────────────────────────────────────────────────────────────────────────────────────────────────────────────────────────────────────────────────────────────────────────────────────────────────────────────────────┼┼───────────────────┼┼───────────────────┼┼──────────────────────────────────────────────────────────────────────────────────────────────────────────────────────────────────────────────────────────────────────────────────────────────────────────────────────────────────────\n",
       "                                                                                                                                                                                                                                                       ││                   ││                   ││                                                                                                                                                                                                                                                                                                     ││                   ││                   ││\n",
       "(6, 0): ───Ry(x6)───cirq.circuits.qasm_output.QasmUGate(theta=0, phi=0, lmda=0)───@───Ry(theta12)───X───Ry(theta14)───@───cirq.circuits.qasm_output.QasmUGate(theta=0, phi=0, lmda=0)───cirq.circuits.qasm_output.QasmUGate(theta=0, phi=0, lmda=0)────X┼────Rz(theta13)────@┼───────────────────X┼────cirq.circuits.qasm_output.QasmUGate(theta=0, phi=0, lmda=0)───cirq.circuits.qasm_output.QasmUGate(theta=0, phi=0, lmda=0)───@───Ry(theta15)───X───Ry(theta17)───@───cirq.circuits.qasm_output.QasmUGate(theta=0, phi=0, lmda=0)───cirq.circuits.qasm_output.QasmUGate(theta=0, phi=0, lmda=0)────X┼────Rz(theta16)────@┼───────────────────X┼────cirq.circuits.qasm_output.QasmUGate(theta=0, phi=0, lmda=0)───cirq.circuits.qasm_output.QasmUGate(theta=0, phi=0, lmda=0)───@───Ry(theta18)───X───Ry(theta20)───@───cirq.circuits.qasm_output.QasmUGate(theta=0, phi=0, lmda=0)───\n",
       "                                                                                  │                 │                 │                                                                                                                                 │                    │                    │                                                                                                                                │                 │                 │                                                                                                                                 │                    │                    │                                                                                                                                │                 │                 │\n",
       "(7, 0): ───Ry(x7)───cirq.circuits.qasm_output.QasmUGate(theta=0, phi=0, lmda=0)───X───Rz(theta13)───@─────────────────X───cirq.circuits.qasm_output.QasmUGate(theta=0, phi=0, lmda=0)───cirq.circuits.qasm_output.QasmUGate(theta=0, phi=0, lmda=0)─────@────Ry(theta12)─────X────Ry(theta14)─────@────cirq.circuits.qasm_output.QasmUGate(theta=0, phi=0, lmda=0)───cirq.circuits.qasm_output.QasmUGate(theta=0, phi=0, lmda=0)───X───Rz(theta16)───@─────────────────X───cirq.circuits.qasm_output.QasmUGate(theta=0, phi=0, lmda=0)───cirq.circuits.qasm_output.QasmUGate(theta=0, phi=0, lmda=0)─────@────Ry(theta15)─────X────Ry(theta17)─────@────cirq.circuits.qasm_output.QasmUGate(theta=0, phi=0, lmda=0)───cirq.circuits.qasm_output.QasmUGate(theta=0, phi=0, lmda=0)───X───Rz(theta19)───@─────────────────X───cirq.circuits.qasm_output.QasmUGate(theta=0, phi=0, lmda=0)───\n",
       "                                                                                                                                                                                                                                                      └──┘                 └──┘                 └──┘                                                                                                                                                                                                                                                                                                   └──┘                 └──┘                 └──┘</pre>"
      ],
      "text/plain": [
       "                                                                                                                                                                                                                                                      ┌──┐                 ┌──┐                 ┌──┐                                                                                                                                                                                                                                                                                                   ┌──┐                 ┌──┐                 ┌──┐\n",
       "(0, 0): ───Ry(x0)───cirq.circuits.qasm_output.QasmUGate(theta=0, phi=0, lmda=0)───@───Ry(theta12)───X───Ry(theta14)───@───cirq.circuits.qasm_output.QasmUGate(theta=0, phi=0, lmda=0)───cirq.circuits.qasm_output.QasmUGate(theta=0, phi=0, lmda=0)─────X────Rz(theta13)─────@────────────────────X────cirq.circuits.qasm_output.QasmUGate(theta=0, phi=0, lmda=0)────────────────────────────────────────────────────────────────────────────────────────────────────────────────────────────────────────────────────────────────────────────────────────────────────────────────────────────────────────────────────────────────────────────────────────────────────────────────────────────────────────────────────────────────────────────────────────────────────────────────────────────────────────────────────────────────────────────────────────────────────────────────────────\n",
       "                                                                                  │                 │                 │                                                                                                                                 │                    │                    │\n",
       "(1, 0): ───Ry(x1)───cirq.circuits.qasm_output.QasmUGate(theta=0, phi=0, lmda=0)───X───Rz(theta13)───@─────────────────X───cirq.circuits.qasm_output.QasmUGate(theta=0, phi=0, lmda=0)───cirq.circuits.qasm_output.QasmUGate(theta=0, phi=0, lmda=0)────@┼────Ry(theta12)────X┼────Ry(theta14)────@┼────cirq.circuits.qasm_output.QasmUGate(theta=0, phi=0, lmda=0)────────────────────────────────────────────────────────────────────────────────────────────────────────────────────────────────────────────────────────────────────────────────────────────────────────────────────────────────────────────────────────────────────────────────────────────────────────────────────────────────────────────────────────────────────────────────────────────────────────────────────────────────────────────────────────────────────────────────────────────────────────────────────────\n",
       "                                                                                                                                                                                                                                                       ││                   ││                   ││\n",
       "(2, 0): ───Ry(x2)───cirq.circuits.qasm_output.QasmUGate(theta=0, phi=0, lmda=0)───@───Ry(theta12)───X───Ry(theta14)───@───cirq.circuits.qasm_output.QasmUGate(theta=0, phi=0, lmda=0)───cirq.circuits.qasm_output.QasmUGate(theta=0, phi=0, lmda=0)────X┼────Rz(theta13)────@┼───────────────────X┼────cirq.circuits.qasm_output.QasmUGate(theta=0, phi=0, lmda=0)───cirq.circuits.qasm_output.QasmUGate(theta=0, phi=0, lmda=0)───@───Ry(theta15)───X───Ry(theta17)───@───cirq.circuits.qasm_output.QasmUGate(theta=0, phi=0, lmda=0)───cirq.circuits.qasm_output.QasmUGate(theta=0, phi=0, lmda=0)─────X────Rz(theta16)─────@────────────────────X────cirq.circuits.qasm_output.QasmUGate(theta=0, phi=0, lmda=0)───────────────────────────────────────────────────────────────────────────────────────────────────────────────────────────────────────────────────────────────────────\n",
       "                                                                                  │                 │                 │                                                                                                                                 │                    │                    │                                                                                                                                │                 │                 │                                                                                                                                 │                    │                    │\n",
       "(3, 0): ───Ry(x3)───cirq.circuits.qasm_output.QasmUGate(theta=0, phi=0, lmda=0)───X───Rz(theta13)───@─────────────────X───cirq.circuits.qasm_output.QasmUGate(theta=0, phi=0, lmda=0)───cirq.circuits.qasm_output.QasmUGate(theta=0, phi=0, lmda=0)────@┼────Ry(theta12)────X┼────Ry(theta14)────@┼────cirq.circuits.qasm_output.QasmUGate(theta=0, phi=0, lmda=0)───cirq.circuits.qasm_output.QasmUGate(theta=0, phi=0, lmda=0)───X───Rz(theta16)───@─────────────────X───cirq.circuits.qasm_output.QasmUGate(theta=0, phi=0, lmda=0)───cirq.circuits.qasm_output.QasmUGate(theta=0, phi=0, lmda=0)────@┼────Ry(theta15)────X┼────Ry(theta17)────@┼────cirq.circuits.qasm_output.QasmUGate(theta=0, phi=0, lmda=0)───────────────────────────────────────────────────────────────────────────────────────────────────────────────────────────────────────────────────────────────────────\n",
       "                                                                                                                                                                                                                                                       ││                   ││                   ││                                                                                                                                                                                                                                                                                                     ││                   ││                   ││\n",
       "(4, 0): ───Ry(x4)───cirq.circuits.qasm_output.QasmUGate(theta=0, phi=0, lmda=0)───@───Ry(theta12)───X───Ry(theta14)───@───cirq.circuits.qasm_output.QasmUGate(theta=0, phi=0, lmda=0)───cirq.circuits.qasm_output.QasmUGate(theta=0, phi=0, lmda=0)────X┼────Rz(theta13)────@┼───────────────────X┼────cirq.circuits.qasm_output.QasmUGate(theta=0, phi=0, lmda=0)──────────────────────────────────────────────────────────────────────────────────────────────────────────────────────────────────────────────────────────────────────────────────────────────────────────────────────────────────────┼┼───────────────────┼┼───────────────────┼┼──────────────────────────────────────────────────────────────────────────────────────────────────────────────────────────────────────────────────────────────────────────────────────────────────────────────────────────────────────\n",
       "                                                                                  │                 │                 │                                                                                                                                 │                    │                    │                                                                                                                                                                                                                                                                                                     ││                   ││                   ││\n",
       "(5, 0): ───Ry(x5)───cirq.circuits.qasm_output.QasmUGate(theta=0, phi=0, lmda=0)───X───Rz(theta13)───@─────────────────X───cirq.circuits.qasm_output.QasmUGate(theta=0, phi=0, lmda=0)───cirq.circuits.qasm_output.QasmUGate(theta=0, phi=0, lmda=0)────@┼────Ry(theta12)────X┼────Ry(theta14)────@┼────cirq.circuits.qasm_output.QasmUGate(theta=0, phi=0, lmda=0)──────────────────────────────────────────────────────────────────────────────────────────────────────────────────────────────────────────────────────────────────────────────────────────────────────────────────────────────────────┼┼───────────────────┼┼───────────────────┼┼──────────────────────────────────────────────────────────────────────────────────────────────────────────────────────────────────────────────────────────────────────────────────────────────────────────────────────────────────────\n",
       "                                                                                                                                                                                                                                                       ││                   ││                   ││                                                                                                                                                                                                                                                                                                     ││                   ││                   ││\n",
       "(6, 0): ───Ry(x6)───cirq.circuits.qasm_output.QasmUGate(theta=0, phi=0, lmda=0)───@───Ry(theta12)───X───Ry(theta14)───@───cirq.circuits.qasm_output.QasmUGate(theta=0, phi=0, lmda=0)───cirq.circuits.qasm_output.QasmUGate(theta=0, phi=0, lmda=0)────X┼────Rz(theta13)────@┼───────────────────X┼────cirq.circuits.qasm_output.QasmUGate(theta=0, phi=0, lmda=0)───cirq.circuits.qasm_output.QasmUGate(theta=0, phi=0, lmda=0)───@───Ry(theta15)───X───Ry(theta17)───@───cirq.circuits.qasm_output.QasmUGate(theta=0, phi=0, lmda=0)───cirq.circuits.qasm_output.QasmUGate(theta=0, phi=0, lmda=0)────X┼────Rz(theta16)────@┼───────────────────X┼────cirq.circuits.qasm_output.QasmUGate(theta=0, phi=0, lmda=0)───cirq.circuits.qasm_output.QasmUGate(theta=0, phi=0, lmda=0)───@───Ry(theta18)───X───Ry(theta20)───@───cirq.circuits.qasm_output.QasmUGate(theta=0, phi=0, lmda=0)───\n",
       "                                                                                  │                 │                 │                                                                                                                                 │                    │                    │                                                                                                                                │                 │                 │                                                                                                                                 │                    │                    │                                                                                                                                │                 │                 │\n",
       "(7, 0): ───Ry(x7)───cirq.circuits.qasm_output.QasmUGate(theta=0, phi=0, lmda=0)───X───Rz(theta13)───@─────────────────X───cirq.circuits.qasm_output.QasmUGate(theta=0, phi=0, lmda=0)───cirq.circuits.qasm_output.QasmUGate(theta=0, phi=0, lmda=0)─────@────Ry(theta12)─────X────Ry(theta14)─────@────cirq.circuits.qasm_output.QasmUGate(theta=0, phi=0, lmda=0)───cirq.circuits.qasm_output.QasmUGate(theta=0, phi=0, lmda=0)───X───Rz(theta16)───@─────────────────X───cirq.circuits.qasm_output.QasmUGate(theta=0, phi=0, lmda=0)───cirq.circuits.qasm_output.QasmUGate(theta=0, phi=0, lmda=0)─────@────Ry(theta15)─────X────Ry(theta17)─────@────cirq.circuits.qasm_output.QasmUGate(theta=0, phi=0, lmda=0)───cirq.circuits.qasm_output.QasmUGate(theta=0, phi=0, lmda=0)───X───Rz(theta19)───@─────────────────X───cirq.circuits.qasm_output.QasmUGate(theta=0, phi=0, lmda=0)───\n",
       "                                                                                                                                                                                                                                                      └──┘                 └──┘                 └──┘                                                                                                                                                                                                                                                                                                   └──┘                 └──┘                 └──┘"
      ]
     },
     "execution_count": 2,
     "metadata": {},
     "output_type": "execute_result"
    }
   ],
   "source": [
    "model_circuit"
   ]
  },
  {
   "cell_type": "code",
   "execution_count": 9,
   "metadata": {},
   "outputs": [
    {
     "data": {
      "text/html": [
       "<pre style=\"overflow: auto; white-space: pre;\">                                                                                                                                                                                                                                                                                                                                                                             ┌──┐                 ┌──┐                 ┌──┐                                                                                                                                                                                                                                                                                                                                                                                                                                                                    ┌──┐                 ┌──┐                 ┌──┐\n",
       "(0, 0): ───Ry(x0)───cirq.circuits.qasm_output.QasmUGate(theta=Mod(theta0, 2), phi=Mod(theta1, 2), lmda=Mod(theta2, 2))───@───Ry(theta12)───X───Ry(theta14)───@───cirq.circuits.qasm_output.QasmUGate(theta=Mod(theta6, 2), phi=Mod(theta7, 2), lmda=Mod(theta8, 2))─────cirq.circuits.qasm_output.QasmUGate(theta=Mod(theta3, 2), phi=Mod(theta4, 2), lmda=Mod(theta5, 2))─────X────Rz(theta13)─────@────────────────────X────cirq.circuits.qasm_output.QasmUGate(theta=Mod(theta9, 2), phi=Mod(theta10, 2), lmda=Mod(theta11, 2))─────────────────────────────────────────────────────────────────────────────────────────────────────────────────────────────────────────────────────────────────────────────────────────────────────────────────────────────────────────────────────────────────────────────────────────────────────────────────────────────────────────────────────────────────────────────────────────────────────────────────────────────────────────────────────────────────────────────────────────────────────────────────────────────────────────────────────────────────────────────────────────────────────────────────────────────────────────────────────────────────────────────────────────────────────────────────────────────────────────────────────────────────────────────\n",
       "                                                                                                                         │                 │                 │                                                                                                                                                                                                                 │                    │                    │\n",
       "(1, 0): ───Ry(x1)───cirq.circuits.qasm_output.QasmUGate(theta=Mod(theta3, 2), phi=Mod(theta4, 2), lmda=Mod(theta5, 2))───X───Rz(theta13)───@─────────────────X───cirq.circuits.qasm_output.QasmUGate(theta=Mod(theta9, 2), phi=Mod(theta10, 2), lmda=Mod(theta11, 2))───cirq.circuits.qasm_output.QasmUGate(theta=Mod(theta0, 2), phi=Mod(theta1, 2), lmda=Mod(theta2, 2))────@┼────Ry(theta12)────X┼────Ry(theta14)────@┼────cirq.circuits.qasm_output.QasmUGate(theta=Mod(theta6, 2), phi=Mod(theta7, 2), lmda=Mod(theta8, 2))───────────────────────────────────────────────────────────────────────────────────────────────────────────────────────────────────────────────────────────────────────────────────────────────────────────────────────────────────────────────────────────────────────────────────────────────────────────────────────────────────────────────────────────────────────────────────────────────────────────────────────────────────────────────────────────────────────────────────────────────────────────────────────────────────────────────────────────────────────────────────────────────────────────────────────────────────────────────────────────────────────────────────────────────────────────────────────────────────────────────────────────────────────────────\n",
       "                                                                                                                                                                                                                                                                                                                                                                              ││                   ││                   ││\n",
       "(2, 0): ───Ry(x2)───cirq.circuits.qasm_output.QasmUGate(theta=Mod(theta0, 2), phi=Mod(theta1, 2), lmda=Mod(theta2, 2))───@───Ry(theta12)───X───Ry(theta14)───@───cirq.circuits.qasm_output.QasmUGate(theta=Mod(theta6, 2), phi=Mod(theta7, 2), lmda=Mod(theta8, 2))─────cirq.circuits.qasm_output.QasmUGate(theta=Mod(theta3, 2), phi=Mod(theta4, 2), lmda=Mod(theta5, 2))────X┼────Rz(theta13)────@┼───────────────────X┼────cirq.circuits.qasm_output.QasmUGate(theta=Mod(theta9, 2), phi=Mod(theta10, 2), lmda=Mod(theta11, 2))───cirq.circuits.qasm_output.QasmUGate(theta=Mod(theta3, 2), phi=Mod(theta4, 2), lmda=Mod(theta5, 2))───@───Ry(theta15)───X───Ry(theta17)───@───cirq.circuits.qasm_output.QasmUGate(theta=Mod(theta9, 2), phi=Mod(theta10, 2), lmda=Mod(theta11, 2))────cirq.circuits.qasm_output.QasmUGate(theta=Mod(theta6, 2), phi=Mod(theta7, 2), lmda=Mod(theta8, 2))─────X────Rz(theta16)─────@────────────────────X────cirq.circuits.qasm_output.QasmUGate(theta=Mod(theta12, 2), phi=Mod(theta13, 2), lmda=Mod(theta14, 2))──────────────────────────────────────────────────────────────────────────────────────────────────────────────────────────────────────────────────────────────────────────────────────────────────────────────────────────────────────────────────────────\n",
       "                                                                                                                         │                 │                 │                                                                                                                                                                                                                 │                    │                    │                                                                                                                                                                                                                │                 │                 │                                                                                                                                                                                                                  │                    │                    │\n",
       "(3, 0): ───Ry(x3)───cirq.circuits.qasm_output.QasmUGate(theta=Mod(theta3, 2), phi=Mod(theta4, 2), lmda=Mod(theta5, 2))───X───Rz(theta13)───@─────────────────X───cirq.circuits.qasm_output.QasmUGate(theta=Mod(theta9, 2), phi=Mod(theta10, 2), lmda=Mod(theta11, 2))───cirq.circuits.qasm_output.QasmUGate(theta=Mod(theta0, 2), phi=Mod(theta1, 2), lmda=Mod(theta2, 2))────@┼────Ry(theta12)────X┼────Ry(theta14)────@┼────cirq.circuits.qasm_output.QasmUGate(theta=Mod(theta6, 2), phi=Mod(theta7, 2), lmda=Mod(theta8, 2))─────cirq.circuits.qasm_output.QasmUGate(theta=Mod(theta6, 2), phi=Mod(theta7, 2), lmda=Mod(theta8, 2))───X───Rz(theta16)───@─────────────────X───cirq.circuits.qasm_output.QasmUGate(theta=Mod(theta12, 2), phi=Mod(theta13, 2), lmda=Mod(theta14, 2))───cirq.circuits.qasm_output.QasmUGate(theta=Mod(theta3, 2), phi=Mod(theta4, 2), lmda=Mod(theta5, 2))────@┼────Ry(theta15)────X┼────Ry(theta17)────@┼────cirq.circuits.qasm_output.QasmUGate(theta=Mod(theta9, 2), phi=Mod(theta10, 2), lmda=Mod(theta11, 2))───────────────────────────────────────────────────────────────────────────────────────────────────────────────────────────────────────────────────────────────────────────────────────────────────────────────────────────────────────────────────────────\n",
       "                                                                                                                                                                                                                                                                                                                                                                              ││                   ││                   ││                                                                                                                                                                                                                                                                                                                                                                                                                                                                      ││                   ││                   ││\n",
       "(4, 0): ───Ry(x4)───cirq.circuits.qasm_output.QasmUGate(theta=Mod(theta0, 2), phi=Mod(theta1, 2), lmda=Mod(theta2, 2))───@───Ry(theta12)───X───Ry(theta14)───@───cirq.circuits.qasm_output.QasmUGate(theta=Mod(theta6, 2), phi=Mod(theta7, 2), lmda=Mod(theta8, 2))─────cirq.circuits.qasm_output.QasmUGate(theta=Mod(theta3, 2), phi=Mod(theta4, 2), lmda=Mod(theta5, 2))────X┼────Rz(theta13)────@┼───────────────────X┼────cirq.circuits.qasm_output.QasmUGate(theta=Mod(theta9, 2), phi=Mod(theta10, 2), lmda=Mod(theta11, 2))──────────────────────────────────────────────────────────────────────────────────────────────────────────────────────────────────────────────────────────────────────────────────────────────────────────────────────────────────────────────────────────────────────────────────────────────────────────────────────────────────────────────────────────────┼┼───────────────────┼┼───────────────────┼┼───────────────────────────────────────────────────────────────────────────────────────────────────────────────────────────────────────────────────────────────────────────────────────────────────────────────────────────────────────────────────────────────────────────────────────────────────────────────────────────────────────────────────────────────────\n",
       "                                                                                                                         │                 │                 │                                                                                                                                                                                                                 │                    │                    │                                                                                                                                                                                                                                                                                                                                                                                                                                                                      ││                   ││                   ││\n",
       "(5, 0): ───Ry(x5)───cirq.circuits.qasm_output.QasmUGate(theta=Mod(theta3, 2), phi=Mod(theta4, 2), lmda=Mod(theta5, 2))───X───Rz(theta13)───@─────────────────X───cirq.circuits.qasm_output.QasmUGate(theta=Mod(theta9, 2), phi=Mod(theta10, 2), lmda=Mod(theta11, 2))───cirq.circuits.qasm_output.QasmUGate(theta=Mod(theta0, 2), phi=Mod(theta1, 2), lmda=Mod(theta2, 2))────@┼────Ry(theta12)────X┼────Ry(theta14)────@┼────cirq.circuits.qasm_output.QasmUGate(theta=Mod(theta6, 2), phi=Mod(theta7, 2), lmda=Mod(theta8, 2))────────────────────────────────────────────────────────────────────────────────────────────────────────────────────────────────────────────────────────────────────────────────────────────────────────────────────────────────────────────────────────────────────────────────────────────────────────────────────────────────────────────────────────────────┼┼───────────────────┼┼───────────────────┼┼───────────────────────────────────────────────────────────────────────────────────────────────────────────────────────────────────────────────────────────────────────────────────────────────────────────────────────────────────────────────────────────────────────────────────────────────────────────────────────────────────────────────────────────────────\n",
       "                                                                                                                                                                                                                                                                                                                                                                              ││                   ││                   ││                                                                                                                                                                                                                                                                                                                                                                                                                                                                      ││                   ││                   ││\n",
       "(6, 0): ───Ry(x6)───cirq.circuits.qasm_output.QasmUGate(theta=Mod(theta0, 2), phi=Mod(theta1, 2), lmda=Mod(theta2, 2))───@───Ry(theta12)───X───Ry(theta14)───@───cirq.circuits.qasm_output.QasmUGate(theta=Mod(theta6, 2), phi=Mod(theta7, 2), lmda=Mod(theta8, 2))─────cirq.circuits.qasm_output.QasmUGate(theta=Mod(theta3, 2), phi=Mod(theta4, 2), lmda=Mod(theta5, 2))────X┼────Rz(theta13)────@┼───────────────────X┼────cirq.circuits.qasm_output.QasmUGate(theta=Mod(theta9, 2), phi=Mod(theta10, 2), lmda=Mod(theta11, 2))───cirq.circuits.qasm_output.QasmUGate(theta=Mod(theta3, 2), phi=Mod(theta4, 2), lmda=Mod(theta5, 2))───@───Ry(theta15)───X───Ry(theta17)───@───cirq.circuits.qasm_output.QasmUGate(theta=Mod(theta9, 2), phi=Mod(theta10, 2), lmda=Mod(theta11, 2))────cirq.circuits.qasm_output.QasmUGate(theta=Mod(theta6, 2), phi=Mod(theta7, 2), lmda=Mod(theta8, 2))────X┼────Rz(theta16)────@┼───────────────────X┼────cirq.circuits.qasm_output.QasmUGate(theta=Mod(theta12, 2), phi=Mod(theta13, 2), lmda=Mod(theta14, 2))───cirq.circuits.qasm_output.QasmUGate(theta=Mod(theta6, 2), phi=Mod(theta7, 2), lmda=Mod(theta8, 2))─────@───Ry(theta18)───X───Ry(theta20)───@───cirq.circuits.qasm_output.QasmUGate(theta=Mod(theta12, 2), phi=Mod(theta13, 2), lmda=Mod(theta14, 2))───\n",
       "                                                                                                                         │                 │                 │                                                                                                                                                                                                                 │                    │                    │                                                                                                                                                                                                                │                 │                 │                                                                                                                                                                                                                  │                    │                    │                                                                                                                                                                                                                   │                 │                 │\n",
       "(7, 0): ───Ry(x7)───cirq.circuits.qasm_output.QasmUGate(theta=Mod(theta3, 2), phi=Mod(theta4, 2), lmda=Mod(theta5, 2))───X───Rz(theta13)───@─────────────────X───cirq.circuits.qasm_output.QasmUGate(theta=Mod(theta9, 2), phi=Mod(theta10, 2), lmda=Mod(theta11, 2))───cirq.circuits.qasm_output.QasmUGate(theta=Mod(theta0, 2), phi=Mod(theta1, 2), lmda=Mod(theta2, 2))─────@────Ry(theta12)─────X────Ry(theta14)─────@────cirq.circuits.qasm_output.QasmUGate(theta=Mod(theta6, 2), phi=Mod(theta7, 2), lmda=Mod(theta8, 2))─────cirq.circuits.qasm_output.QasmUGate(theta=Mod(theta6, 2), phi=Mod(theta7, 2), lmda=Mod(theta8, 2))───X───Rz(theta16)───@─────────────────X───cirq.circuits.qasm_output.QasmUGate(theta=Mod(theta12, 2), phi=Mod(theta13, 2), lmda=Mod(theta14, 2))───cirq.circuits.qasm_output.QasmUGate(theta=Mod(theta3, 2), phi=Mod(theta4, 2), lmda=Mod(theta5, 2))─────@────Ry(theta15)─────X────Ry(theta17)─────@────cirq.circuits.qasm_output.QasmUGate(theta=Mod(theta9, 2), phi=Mod(theta10, 2), lmda=Mod(theta11, 2))────cirq.circuits.qasm_output.QasmUGate(theta=Mod(theta9, 2), phi=Mod(theta10, 2), lmda=Mod(theta11, 2))───X───Rz(theta19)───@─────────────────X───cirq.circuits.qasm_output.QasmUGate(theta=Mod(theta15, 2), phi=Mod(theta16, 2), lmda=Mod(theta17, 2))───\n",
       "                                                                                                                                                                                                                                                                                                                                                                             └──┘                 └──┘                 └──┘                                                                                                                                                                                                                                                                                                                                                                                                                                                                    └──┘                 └──┘                 └──┘</pre>"
      ],
      "text/plain": [
       "                                                                                                                                                                                                                                                                                                                                                                             ┌──┐                 ┌──┐                 ┌──┐                                                                                                                                                                                                                                                                                                                                                                                                                                                                    ┌──┐                 ┌──┐                 ┌──┐\n",
       "(0, 0): ───Ry(x0)───cirq.circuits.qasm_output.QasmUGate(theta=Mod(theta0, 2), phi=Mod(theta1, 2), lmda=Mod(theta2, 2))───@───Ry(theta12)───X───Ry(theta14)───@───cirq.circuits.qasm_output.QasmUGate(theta=Mod(theta6, 2), phi=Mod(theta7, 2), lmda=Mod(theta8, 2))─────cirq.circuits.qasm_output.QasmUGate(theta=Mod(theta3, 2), phi=Mod(theta4, 2), lmda=Mod(theta5, 2))─────X────Rz(theta13)─────@────────────────────X────cirq.circuits.qasm_output.QasmUGate(theta=Mod(theta9, 2), phi=Mod(theta10, 2), lmda=Mod(theta11, 2))─────────────────────────────────────────────────────────────────────────────────────────────────────────────────────────────────────────────────────────────────────────────────────────────────────────────────────────────────────────────────────────────────────────────────────────────────────────────────────────────────────────────────────────────────────────────────────────────────────────────────────────────────────────────────────────────────────────────────────────────────────────────────────────────────────────────────────────────────────────────────────────────────────────────────────────────────────────────────────────────────────────────────────────────────────────────────────────────────────────────────────────────────────────────\n",
       "                                                                                                                         │                 │                 │                                                                                                                                                                                                                 │                    │                    │\n",
       "(1, 0): ───Ry(x1)───cirq.circuits.qasm_output.QasmUGate(theta=Mod(theta3, 2), phi=Mod(theta4, 2), lmda=Mod(theta5, 2))───X───Rz(theta13)───@─────────────────X───cirq.circuits.qasm_output.QasmUGate(theta=Mod(theta9, 2), phi=Mod(theta10, 2), lmda=Mod(theta11, 2))───cirq.circuits.qasm_output.QasmUGate(theta=Mod(theta0, 2), phi=Mod(theta1, 2), lmda=Mod(theta2, 2))────@┼────Ry(theta12)────X┼────Ry(theta14)────@┼────cirq.circuits.qasm_output.QasmUGate(theta=Mod(theta6, 2), phi=Mod(theta7, 2), lmda=Mod(theta8, 2))───────────────────────────────────────────────────────────────────────────────────────────────────────────────────────────────────────────────────────────────────────────────────────────────────────────────────────────────────────────────────────────────────────────────────────────────────────────────────────────────────────────────────────────────────────────────────────────────────────────────────────────────────────────────────────────────────────────────────────────────────────────────────────────────────────────────────────────────────────────────────────────────────────────────────────────────────────────────────────────────────────────────────────────────────────────────────────────────────────────────────────────────────────────────\n",
       "                                                                                                                                                                                                                                                                                                                                                                              ││                   ││                   ││\n",
       "(2, 0): ───Ry(x2)───cirq.circuits.qasm_output.QasmUGate(theta=Mod(theta0, 2), phi=Mod(theta1, 2), lmda=Mod(theta2, 2))───@───Ry(theta12)───X───Ry(theta14)───@───cirq.circuits.qasm_output.QasmUGate(theta=Mod(theta6, 2), phi=Mod(theta7, 2), lmda=Mod(theta8, 2))─────cirq.circuits.qasm_output.QasmUGate(theta=Mod(theta3, 2), phi=Mod(theta4, 2), lmda=Mod(theta5, 2))────X┼────Rz(theta13)────@┼───────────────────X┼────cirq.circuits.qasm_output.QasmUGate(theta=Mod(theta9, 2), phi=Mod(theta10, 2), lmda=Mod(theta11, 2))───cirq.circuits.qasm_output.QasmUGate(theta=Mod(theta3, 2), phi=Mod(theta4, 2), lmda=Mod(theta5, 2))───@───Ry(theta15)───X───Ry(theta17)───@───cirq.circuits.qasm_output.QasmUGate(theta=Mod(theta9, 2), phi=Mod(theta10, 2), lmda=Mod(theta11, 2))────cirq.circuits.qasm_output.QasmUGate(theta=Mod(theta6, 2), phi=Mod(theta7, 2), lmda=Mod(theta8, 2))─────X────Rz(theta16)─────@────────────────────X────cirq.circuits.qasm_output.QasmUGate(theta=Mod(theta12, 2), phi=Mod(theta13, 2), lmda=Mod(theta14, 2))──────────────────────────────────────────────────────────────────────────────────────────────────────────────────────────────────────────────────────────────────────────────────────────────────────────────────────────────────────────────────────────\n",
       "                                                                                                                         │                 │                 │                                                                                                                                                                                                                 │                    │                    │                                                                                                                                                                                                                │                 │                 │                                                                                                                                                                                                                  │                    │                    │\n",
       "(3, 0): ───Ry(x3)───cirq.circuits.qasm_output.QasmUGate(theta=Mod(theta3, 2), phi=Mod(theta4, 2), lmda=Mod(theta5, 2))───X───Rz(theta13)───@─────────────────X───cirq.circuits.qasm_output.QasmUGate(theta=Mod(theta9, 2), phi=Mod(theta10, 2), lmda=Mod(theta11, 2))───cirq.circuits.qasm_output.QasmUGate(theta=Mod(theta0, 2), phi=Mod(theta1, 2), lmda=Mod(theta2, 2))────@┼────Ry(theta12)────X┼────Ry(theta14)────@┼────cirq.circuits.qasm_output.QasmUGate(theta=Mod(theta6, 2), phi=Mod(theta7, 2), lmda=Mod(theta8, 2))─────cirq.circuits.qasm_output.QasmUGate(theta=Mod(theta6, 2), phi=Mod(theta7, 2), lmda=Mod(theta8, 2))───X───Rz(theta16)───@─────────────────X───cirq.circuits.qasm_output.QasmUGate(theta=Mod(theta12, 2), phi=Mod(theta13, 2), lmda=Mod(theta14, 2))───cirq.circuits.qasm_output.QasmUGate(theta=Mod(theta3, 2), phi=Mod(theta4, 2), lmda=Mod(theta5, 2))────@┼────Ry(theta15)────X┼────Ry(theta17)────@┼────cirq.circuits.qasm_output.QasmUGate(theta=Mod(theta9, 2), phi=Mod(theta10, 2), lmda=Mod(theta11, 2))───────────────────────────────────────────────────────────────────────────────────────────────────────────────────────────────────────────────────────────────────────────────────────────────────────────────────────────────────────────────────────────\n",
       "                                                                                                                                                                                                                                                                                                                                                                              ││                   ││                   ││                                                                                                                                                                                                                                                                                                                                                                                                                                                                      ││                   ││                   ││\n",
       "(4, 0): ───Ry(x4)───cirq.circuits.qasm_output.QasmUGate(theta=Mod(theta0, 2), phi=Mod(theta1, 2), lmda=Mod(theta2, 2))───@───Ry(theta12)───X───Ry(theta14)───@───cirq.circuits.qasm_output.QasmUGate(theta=Mod(theta6, 2), phi=Mod(theta7, 2), lmda=Mod(theta8, 2))─────cirq.circuits.qasm_output.QasmUGate(theta=Mod(theta3, 2), phi=Mod(theta4, 2), lmda=Mod(theta5, 2))────X┼────Rz(theta13)────@┼───────────────────X┼────cirq.circuits.qasm_output.QasmUGate(theta=Mod(theta9, 2), phi=Mod(theta10, 2), lmda=Mod(theta11, 2))──────────────────────────────────────────────────────────────────────────────────────────────────────────────────────────────────────────────────────────────────────────────────────────────────────────────────────────────────────────────────────────────────────────────────────────────────────────────────────────────────────────────────────────────┼┼───────────────────┼┼───────────────────┼┼───────────────────────────────────────────────────────────────────────────────────────────────────────────────────────────────────────────────────────────────────────────────────────────────────────────────────────────────────────────────────────────────────────────────────────────────────────────────────────────────────────────────────────────────────\n",
       "                                                                                                                         │                 │                 │                                                                                                                                                                                                                 │                    │                    │                                                                                                                                                                                                                                                                                                                                                                                                                                                                      ││                   ││                   ││\n",
       "(5, 0): ───Ry(x5)───cirq.circuits.qasm_output.QasmUGate(theta=Mod(theta3, 2), phi=Mod(theta4, 2), lmda=Mod(theta5, 2))───X───Rz(theta13)───@─────────────────X───cirq.circuits.qasm_output.QasmUGate(theta=Mod(theta9, 2), phi=Mod(theta10, 2), lmda=Mod(theta11, 2))───cirq.circuits.qasm_output.QasmUGate(theta=Mod(theta0, 2), phi=Mod(theta1, 2), lmda=Mod(theta2, 2))────@┼────Ry(theta12)────X┼────Ry(theta14)────@┼────cirq.circuits.qasm_output.QasmUGate(theta=Mod(theta6, 2), phi=Mod(theta7, 2), lmda=Mod(theta8, 2))────────────────────────────────────────────────────────────────────────────────────────────────────────────────────────────────────────────────────────────────────────────────────────────────────────────────────────────────────────────────────────────────────────────────────────────────────────────────────────────────────────────────────────────────┼┼───────────────────┼┼───────────────────┼┼───────────────────────────────────────────────────────────────────────────────────────────────────────────────────────────────────────────────────────────────────────────────────────────────────────────────────────────────────────────────────────────────────────────────────────────────────────────────────────────────────────────────────────────────────\n",
       "                                                                                                                                                                                                                                                                                                                                                                              ││                   ││                   ││                                                                                                                                                                                                                                                                                                                                                                                                                                                                      ││                   ││                   ││\n",
       "(6, 0): ───Ry(x6)───cirq.circuits.qasm_output.QasmUGate(theta=Mod(theta0, 2), phi=Mod(theta1, 2), lmda=Mod(theta2, 2))───@───Ry(theta12)───X───Ry(theta14)───@───cirq.circuits.qasm_output.QasmUGate(theta=Mod(theta6, 2), phi=Mod(theta7, 2), lmda=Mod(theta8, 2))─────cirq.circuits.qasm_output.QasmUGate(theta=Mod(theta3, 2), phi=Mod(theta4, 2), lmda=Mod(theta5, 2))────X┼────Rz(theta13)────@┼───────────────────X┼────cirq.circuits.qasm_output.QasmUGate(theta=Mod(theta9, 2), phi=Mod(theta10, 2), lmda=Mod(theta11, 2))───cirq.circuits.qasm_output.QasmUGate(theta=Mod(theta3, 2), phi=Mod(theta4, 2), lmda=Mod(theta5, 2))───@───Ry(theta15)───X───Ry(theta17)───@───cirq.circuits.qasm_output.QasmUGate(theta=Mod(theta9, 2), phi=Mod(theta10, 2), lmda=Mod(theta11, 2))────cirq.circuits.qasm_output.QasmUGate(theta=Mod(theta6, 2), phi=Mod(theta7, 2), lmda=Mod(theta8, 2))────X┼────Rz(theta16)────@┼───────────────────X┼────cirq.circuits.qasm_output.QasmUGate(theta=Mod(theta12, 2), phi=Mod(theta13, 2), lmda=Mod(theta14, 2))───cirq.circuits.qasm_output.QasmUGate(theta=Mod(theta6, 2), phi=Mod(theta7, 2), lmda=Mod(theta8, 2))─────@───Ry(theta18)───X───Ry(theta20)───@───cirq.circuits.qasm_output.QasmUGate(theta=Mod(theta12, 2), phi=Mod(theta13, 2), lmda=Mod(theta14, 2))───\n",
       "                                                                                                                         │                 │                 │                                                                                                                                                                                                                 │                    │                    │                                                                                                                                                                                                                │                 │                 │                                                                                                                                                                                                                  │                    │                    │                                                                                                                                                                                                                   │                 │                 │\n",
       "(7, 0): ───Ry(x7)───cirq.circuits.qasm_output.QasmUGate(theta=Mod(theta3, 2), phi=Mod(theta4, 2), lmda=Mod(theta5, 2))───X───Rz(theta13)───@─────────────────X───cirq.circuits.qasm_output.QasmUGate(theta=Mod(theta9, 2), phi=Mod(theta10, 2), lmda=Mod(theta11, 2))───cirq.circuits.qasm_output.QasmUGate(theta=Mod(theta0, 2), phi=Mod(theta1, 2), lmda=Mod(theta2, 2))─────@────Ry(theta12)─────X────Ry(theta14)─────@────cirq.circuits.qasm_output.QasmUGate(theta=Mod(theta6, 2), phi=Mod(theta7, 2), lmda=Mod(theta8, 2))─────cirq.circuits.qasm_output.QasmUGate(theta=Mod(theta6, 2), phi=Mod(theta7, 2), lmda=Mod(theta8, 2))───X───Rz(theta16)───@─────────────────X───cirq.circuits.qasm_output.QasmUGate(theta=Mod(theta12, 2), phi=Mod(theta13, 2), lmda=Mod(theta14, 2))───cirq.circuits.qasm_output.QasmUGate(theta=Mod(theta3, 2), phi=Mod(theta4, 2), lmda=Mod(theta5, 2))─────@────Ry(theta15)─────X────Ry(theta17)─────@────cirq.circuits.qasm_output.QasmUGate(theta=Mod(theta9, 2), phi=Mod(theta10, 2), lmda=Mod(theta11, 2))────cirq.circuits.qasm_output.QasmUGate(theta=Mod(theta9, 2), phi=Mod(theta10, 2), lmda=Mod(theta11, 2))───X───Rz(theta19)───@─────────────────X───cirq.circuits.qasm_output.QasmUGate(theta=Mod(theta15, 2), phi=Mod(theta16, 2), lmda=Mod(theta17, 2))───\n",
       "                                                                                                                                                                                                                                                                                                                                                                             └──┘                 └──┘                 └──┘                                                                                                                                                                                                                                                                                                                                                                                                                                                                    └──┘                 └──┘                 └──┘"
      ]
     },
     "execution_count": 9,
     "metadata": {},
     "output_type": "execute_result"
    }
   ],
   "source": [
    "# f = open(\"./model_circuit\", 'w')\n",
    "# f.write(model_circuit)\n",
    "# f.close()\n",
    "model_circuit"
   ]
  },
  {
   "cell_type": "code",
   "execution_count": 7,
   "metadata": {},
   "outputs": [
    {
     "name": "stdout",
     "output_type": "stream",
     "text": [
      "(0, 0): ───Rz(theta0)───Ry(theta1)───Rz(theta2)───@───Ry(theta6)───X───Ry(theta8)───@───Rz(theta9)────Ry(theta10)───Rz(theta11)───\n",
      "                                                  │                │                │\n",
      "(1, 0): ───Rz(theta3)───Ry(theta4)───Rz(theta5)───X───Rz(theta7)───@────────────────X───Rz(theta12)───Ry(theta13)───Rz(theta14)───\n"
     ]
    }
   ],
   "source": [
    "import cirq\n",
    "import sympy\n",
    "qubits  = cirq.GridQubit.rect(2,1)\n",
    "params = sympy.symbols('theta{}:{}'.format(0, 15))\n",
    "\n",
    "circuit=cirq.Circuit()\n",
    "def U_SU4(circuit,qubits,params):\n",
    "    circuit.append(cirq.rz(params[0])(qubits[0]))\n",
    "    circuit.append(cirq.ry(params[1])(qubits[0]))\n",
    "    circuit.append(cirq.rz(params[2])(qubits[0]))\n",
    "    circuit.append(cirq.rz(params[3])(qubits[1]))\n",
    "    circuit.append(cirq.ry(params[4])(qubits[1]))\n",
    "    circuit.append(cirq.rz(params[5])(qubits[1]))\n",
    "    circuit.append(cirq.CNOT(qubits[0],qubits[1]))\n",
    "    circuit.append(cirq.ry(params[6])(qubits[0]))\n",
    "    circuit.append(cirq.rz(params[7])(qubits[1]))\n",
    "    circuit.append(cirq.CNOT(qubits[1],qubits[0]))\n",
    "    circuit.append(cirq.ry(params[8])(qubits[0]))\n",
    "    circuit.append(cirq.CNOT(qubits[0],qubits[1]))\n",
    "    circuit.append(cirq.rz(params[9])(qubits[0]))\n",
    "    circuit.append(cirq.ry(params[10])(qubits[0]))\n",
    "    circuit.append(cirq.rz(params[11])(qubits[0]))\n",
    "    circuit.append(cirq.rz(params[12])(qubits[1]))\n",
    "    circuit.append(cirq.ry(params[13])(qubits[1]))\n",
    "    circuit.append(cirq.rz(params[14])(qubits[1]))\n",
    "U_SU4(circuit,qubits,params)\n",
    "print(circuit)"
   ]
  },
  {
   "cell_type": "code",
   "execution_count": 3,
   "metadata": {},
   "outputs": [
    {
     "data": {
      "text/plain": [
       "45"
      ]
     },
     "execution_count": 3,
     "metadata": {},
     "output_type": "execute_result"
    }
   ],
   "source": [
    "qc.n_params"
   ]
  },
  {
   "cell_type": "code",
   "execution_count": 4,
   "metadata": {},
   "outputs": [
    {
     "data": {
      "text/html": [
       "<pre style=\"overflow: auto; white-space: pre;\">(0, 0): ───Ry(x0)───Ry(theta0)───cirq.circuits.qasm_output.QasmUGate(theta=Mod(theta3, 2), phi=Mod(theta4, 2), lmda=Mod(theta5, 2))───\n",
       "\n",
       "(1, 0): ───Ry(x1)───Ry(theta1)────────────────────────────────────────────────────────────────────────────────────────────────────────\n",
       "\n",
       "(2, 0): ───Ry(x2)───Ry(theta2)────────────────────────────────────────────────────────────────────────────────────────────────────────\n",
       "\n",
       "(3, 0): ───Ry(x3)───Ry(theta3)────────────────────────────────────────────────────────────────────────────────────────────────────────\n",
       "\n",
       "(4, 0): ───Ry(x4)───Ry(theta4)────────────────────────────────────────────────────────────────────────────────────────────────────────\n",
       "\n",
       "(5, 0): ───Ry(x5)───Ry(theta5)────────────────────────────────────────────────────────────────────────────────────────────────────────\n",
       "\n",
       "(6, 0): ───Ry(x6)───Ry(theta6)────────────────────────────────────────────────────────────────────────────────────────────────────────\n",
       "\n",
       "(7, 0): ───Ry(x7)───Ry(theta7)────────────────────────────────────────────────────────────────────────────────────────────────────────</pre>"
      ],
      "text/plain": [
       "(0, 0): ───Ry(x0)───Ry(theta0)───cirq.circuits.qasm_output.QasmUGate(theta=Mod(theta3, 2), phi=Mod(theta4, 2), lmda=Mod(theta5, 2))───\n",
       "\n",
       "(1, 0): ───Ry(x1)───Ry(theta1)────────────────────────────────────────────────────────────────────────────────────────────────────────\n",
       "\n",
       "(2, 0): ───Ry(x2)───Ry(theta2)────────────────────────────────────────────────────────────────────────────────────────────────────────\n",
       "\n",
       "(3, 0): ───Ry(x3)───Ry(theta3)────────────────────────────────────────────────────────────────────────────────────────────────────────\n",
       "\n",
       "(4, 0): ───Ry(x4)───Ry(theta4)────────────────────────────────────────────────────────────────────────────────────────────────────────\n",
       "\n",
       "(5, 0): ───Ry(x5)───Ry(theta5)────────────────────────────────────────────────────────────────────────────────────────────────────────\n",
       "\n",
       "(6, 0): ───Ry(x6)───Ry(theta6)────────────────────────────────────────────────────────────────────────────────────────────────────────\n",
       "\n",
       "(7, 0): ───Ry(x7)───Ry(theta7)────────────────────────────────────────────────────────────────────────────────────────────────────────"
      ]
     },
     "execution_count": 4,
     "metadata": {},
     "output_type": "execute_result"
    }
   ],
   "source": [
    "model_circuit"
   ]
  },
  {
   "cell_type": "markdown",
   "metadata": {},
   "source": [
    "## qasmugate => problem!!!\n",
    "Cannot serialize op cirq.circuits.qasm_output.QasmUGate(theta=Mod(theta3, 2), phi=Mod(theta4, 2), lmda=Mod(theta5, 2)).on(cirq.GridQubit(0, 0)) of type \n"
   ]
  },
  {
   "cell_type": "code",
   "execution_count": 3,
   "metadata": {},
   "outputs": [
    {
     "name": "stdout",
     "output_type": "stream",
     "text": [
      "WARNING:tensorflow:From /home/yujin/miniconda3/envs/qtrkx/lib/python3.9/site-packages/tensorflow/python/autograph/pyct/static_analysis/liveness.py:83: Analyzer.lamba_check (from tensorflow.python.autograph.pyct.static_analysis.liveness) is deprecated and will be removed after 2023-09-23.\n",
      "Instructions for updating:\n",
      "Lambda fuctions will be no more assumed to be used in the statement where they are used, or at least in the same block. https://github.com/tensorflow/tensorflow/issues/56089\n"
     ]
    },
    {
     "ename": "ValueError",
     "evalue": "Exception encountered when calling layer 'expectation' (type Expectation).\n\nCannot serialize op cirq.circuits.qasm_output.QasmUGate(theta=0, phi=0, lmda=0).on(cirq.GridQubit(0, 0)) of type <class 'cirq.circuits.qasm_output.QasmUGate'>\n\nCall arguments received by layer 'expectation' (type Expectation):\n  • inputs=cirq.Circuit([\n    cirq.Moment(\n        cirq.Ry(rads=sympy.Symbol('x0')).on(cirq.GridQubit(0, 0)),\n        cirq.Ry(rads=sympy.Symbol('x1')).on(cirq.GridQubit(1, 0)),\n        cirq.Ry(rads=sympy.Symbol('x2')).on(cirq.GridQubit(2, 0)),\n        cirq.Ry(rads=sympy.Symbol('x3')).on(cirq.GridQubit(3, 0)),\n        cirq.Ry(rads=sympy.Symbol('x4')).on(cirq.GridQubit(4, 0)),\n        cirq.Ry(rads=sympy.Symbol('x5')).on(cirq.GridQubit(5, 0)),\n        cirq.Ry(rads=sympy.Symbol('x6')).on(cirq.GridQubit(6, 0)),\n        cirq.Ry(rads=sympy.Symbol('x7')).on(cirq.GridQubit(7, 0)),\n    ),\n    cirq.Moment(\n        cirq.circuits.qasm_output.QasmUGate(theta=0, phi=0, lmda=0).on(cirq.GridQubit(0, 0)),\n        cirq.circuits.qasm_output.QasmUGate(theta=0, phi=0, lmda=0).on(cirq.GridQubit(1, 0)),\n        cirq.circuits.qasm_output.QasmUGate(theta=0, phi=0, lmda=0).on(cirq.GridQubit(2, 0)),\n        cirq.circuits.qasm_output.QasmUGate(theta=0, phi=0, lmda=0).on(cirq.GridQubit(3, 0)),\n        cirq.circuits.qasm_output.QasmUGate(theta=0, phi=0, lmda=0).on(cirq.GridQubit(4, 0)),\n        cirq.circuits.qasm_output.QasmUGate(theta=0, phi=0, lmda=0).on(cirq.GridQubit(5, 0)),\n        cirq.circuits.qasm_output.QasmUGate(theta=0, phi=0, lmda=0).on(cirq.GridQubit(6, 0)),\n        cirq.circuits.qasm_output.QasmUGate(theta=0, phi=0, lmda=0).on(cirq.GridQubit(7, 0)),\n    ),\n    cirq.Moment(\n        cirq.CNOT(cirq.GridQubit(0, 0), cirq.GridQubit(1, 0)),\n        cirq.CNOT(cirq.GridQubit(2, 0), cirq.GridQubit(3, 0)),\n        cirq.CNOT(cirq.GridQubit(4, 0), cirq.GridQubit(5, 0)),\n        cirq.CNOT(cirq.GridQubit(6, 0), cirq.GridQubit(7, 0)),\n    ),\n    cirq.Moment(\n        cirq.Ry(rads=sympy.Symbol('theta12')).on(cirq.GridQubit(0, 0)),\n        cirq.Rz(rads=sympy.Symbol('theta13')).on(cirq.GridQubit(1, 0)),\n        cirq.Ry(rads=sympy.Symbol('theta12')).on(cirq.GridQubit(2, 0)),\n        cirq.Rz(rads=sympy.Symbol('theta13')).on(cirq.GridQubit(3, 0)),\n        cirq.Ry(rads=sympy.Symbol('theta12')).on(cirq.GridQubit(4, 0)),\n        cirq.Rz(rads=sympy.Symbol('theta13')).on(cirq.GridQubit(5, 0)),\n        cirq.Ry(rads=sympy.Symbol('theta12')).on(cirq.GridQubit(6, 0)),\n        cirq.Rz(rads=sympy.Symbol('theta13')).on(cirq.GridQubit(7, 0)),\n    ),\n    cirq.Moment(\n        cirq.CNOT(cirq.GridQubit(1, 0), cirq.GridQubit(0, 0)),\n        cirq.CNOT(cirq.GridQubit(3, 0), cirq.GridQubit(2, 0)),\n        cirq.CNOT(cirq.GridQubit(5, 0), cirq.GridQubit(4, 0)),\n        cirq.CNOT(cirq.GridQubit(7, 0), cirq.GridQubit(6, 0)),\n    ),\n    cirq.Moment(\n        cirq.Ry(rads=sympy.Symbol('theta14')).on(cirq.GridQubit(0, 0)),\n        cirq.Ry(rads=sympy.Symbol('theta14')).on(cirq.GridQubit(2, 0)),\n        cirq.Ry(rads=sympy.Symbol('theta14')).on(cirq.GridQubit(4, 0)),\n        cirq.Ry(rads=sympy.Symbol('theta14')).on(cirq.GridQubit(6, 0)),\n    ),\n    cirq.Moment(\n        cirq.CNOT(cirq.GridQubit(0, 0), cirq.GridQubit(1, 0)),\n        cirq.CNOT(cirq.GridQubit(2, 0), cirq.GridQubit(3, 0)),\n        cirq.CNOT(cirq.GridQubit(4, 0), cirq.GridQubit(5, 0)),\n        cirq.CNOT(cirq.GridQubit(6, 0), cirq.GridQubit(7, 0)),\n    ),\n    cirq.Moment(\n        cirq.circuits.qasm_output.QasmUGate(theta=0, phi=0, lmda=0).on(cirq.GridQubit(0, 0)),\n        cirq.circuits.qasm_output.QasmUGate(theta=0, phi=0, lmda=0).on(cirq.GridQubit(1, 0)),\n        cirq.circuits.qasm_output.QasmUGate(theta=0, phi=0, lmda=0).on(cirq.GridQubit(2, 0)),\n        cirq.circuits.qasm_output.QasmUGate(theta=0, phi=0, lmda=0).on(cirq.GridQubit(3, 0)),\n        cirq.circuits.qasm_output.QasmUGate(theta=0, phi=0, lmda=0).on(cirq.GridQubit(4, 0)),\n        cirq.circuits.qasm_output.QasmUGate(theta=0, phi=0, lmda=0).on(cirq.GridQubit(5, 0)),\n        cirq.circuits.qasm_output.QasmUGate(theta=0, phi=0, lmda=0).on(cirq.GridQubit(6, 0)),\n        cirq.circuits.qasm_output.QasmUGate(theta=0, phi=0, lmda=0).on(cirq.GridQubit(7, 0)),\n    ),\n    cirq.Moment(\n        cirq.circuits.qasm_output.QasmUGate(theta=0, phi=0, lmda=0).on(cirq.GridQubit(1, 0)),\n        cirq.circuits.qasm_output.QasmUGate(theta=0, phi=0, lmda=0).on(cirq.GridQubit(2, 0)),\n        cirq.circuits.qasm_output.QasmUGate(theta=0, phi=0, lmda=0).on(cirq.GridQubit(3, 0)),\n        cirq.circuits.qasm_output.QasmUGate(theta=0, phi=0, lmda=0).on(cirq.GridQubit(4, 0)),\n        cirq.circuits.qasm_output.QasmUGate(theta=0, phi=0, lmda=0).on(cirq.GridQubit(5, 0)),\n        cirq.circuits.qasm_output.QasmUGate(theta=0, phi=0, lmda=0).on(cirq.GridQubit(6, 0)),\n        cirq.circuits.qasm_output.QasmUGate(theta=0, phi=0, lmda=0).on(cirq.GridQubit(7, 0)),\n        cirq.circuits.qasm_output.QasmUGate(theta=0, phi=0, lmda=0).on(cirq.GridQubit(0, 0)),\n    ),\n    cirq.Moment(\n        cirq.CNOT(cirq.GridQubit(1, 0), cirq.GridQubit(2, 0)),\n        cirq.CNOT(cirq.GridQubit(3, 0), cirq.GridQubit(4, 0)),\n        cirq.CNOT(cirq.GridQubit(5, 0), cirq.GridQubit(6, 0)),\n        cirq.CNOT(cirq.GridQubit(7, 0), cirq.GridQubit(0, 0)),\n    ),\n    cirq.Moment(\n        cirq.Ry(rads=sympy.Symbol('theta12')).on(cirq.GridQubit(1, 0)),\n        cirq.Rz(rads=sympy.Symbol('theta13')).on(cirq.GridQubit(2, 0)),\n        cirq.Ry(rads=sympy.Symbol('theta12')).on(cirq.GridQubit(3, 0)),\n        cirq.Rz(rads=sympy.Symbol('theta13')).on(cirq.GridQubit(4, 0)),\n        cirq.Ry(rads=sympy.Symbol('theta12')).on(cirq.GridQubit(5, 0)),\n        cirq.Rz(rads=sympy.Symbol('theta13')).on(cirq.GridQubit(6, 0)),\n        cirq.Ry(rads=sympy.Symbol('theta12')).on(cirq.GridQubit(7, 0)),\n        cirq.Rz(rads=sympy.Symbol('theta13')).on(cirq.GridQubit(0, 0)),\n    ),\n    cirq.Moment(\n        cirq.CNOT(cirq.GridQubit(2, 0), cirq.GridQubit(1, 0)),\n        cirq.CNOT(cirq.GridQubit(4, 0), cirq.GridQubit(3, 0)),\n        cirq.CNOT(cirq.GridQubit(6, 0), cirq.GridQubit(5, 0)),\n        cirq.CNOT(cirq.GridQubit(0, 0), cirq.GridQubit(7, 0)),\n    ),\n    cirq.Moment(\n        cirq.Ry(rads=sympy.Symbol('theta14')).on(cirq.GridQubit(1, 0)),\n        cirq.Ry(rads=sympy.Symbol('theta14')).on(cirq.GridQubit(3, 0)),\n        cirq.Ry(rads=sympy.Symbol('theta14')).on(cirq.GridQubit(5, 0)),\n        cirq.Ry(rads=sympy.Symbol('theta14')).on(cirq.GridQubit(7, 0)),\n    ),\n    cirq.Moment(\n        cirq.CNOT(cirq.GridQubit(1, 0), cirq.GridQubit(2, 0)),\n        cirq.CNOT(cirq.GridQubit(3, 0), cirq.GridQubit(4, 0)),\n        cirq.CNOT(cirq.GridQubit(5, 0), cirq.GridQubit(6, 0)),\n        cirq.CNOT(cirq.GridQubit(7, 0), cirq.GridQubit(0, 0)),\n    ),\n    cirq.Moment(\n        cirq.circuits.qasm_output.QasmUGate(theta=0, phi=0, lmda=0).on(cirq.GridQubit(1, 0)),\n        cirq.circuits.qasm_output.QasmUGate(theta=0, phi=0, lmda=0).on(cirq.GridQubit(2, 0)),\n        cirq.circuits.qasm_output.QasmUGate(theta=0, phi=0, lmda=0).on(cirq.GridQubit(3, 0)),\n        cirq.circuits.qasm_output.QasmUGate(theta=0, phi=0, lmda=0).on(cirq.GridQubit(4, 0)),\n        cirq.circuits.qasm_output.QasmUGate(theta=0, phi=0, lmda=0).on(cirq.GridQubit(5, 0)),\n        cirq.circuits.qasm_output.QasmUGate(theta=0, phi=0, lmda=0).on(cirq.GridQubit(6, 0)),\n        cirq.circuits.qasm_output.QasmUGate(theta=0, phi=0, lmda=0).on(cirq.GridQubit(7, 0)),\n        cirq.circuits.qasm_output.QasmUGate(theta=0, phi=0, lmda=0).on(cirq.GridQubit(0, 0)),\n    ),\n    cirq.Moment(\n        cirq.circuits.qasm_output.QasmUGate(theta=0, phi=0, lmda=0).on(cirq.GridQubit(2, 0)),\n        cirq.circuits.qasm_output.QasmUGate(theta=0, phi=0, lmda=0).on(cirq.GridQubit(3, 0)),\n        cirq.circuits.qasm_output.QasmUGate(theta=0, phi=0, lmda=0).on(cirq.GridQubit(6, 0)),\n        cirq.circuits.qasm_output.QasmUGate(theta=0, phi=0, lmda=0).on(cirq.GridQubit(7, 0)),\n    ),\n    cirq.Moment(\n        cirq.CNOT(cirq.GridQubit(2, 0), cirq.GridQubit(3, 0)),\n        cirq.CNOT(cirq.GridQubit(6, 0), cirq.GridQubit(7, 0)),\n    ),\n    cirq.Moment(\n        cirq.Ry(rads=sympy.Symbol('theta15')).on(cirq.GridQubit(2, 0)),\n        cirq.Rz(rads=sympy.Symbol('theta16')).on(cirq.GridQubit(3, 0)),\n        cirq.Ry(rads=sympy.Symbol('theta15')).on(cirq.GridQubit(6, 0)),\n        cirq.Rz(rads=sympy.Symbol('theta16')).on(cirq.GridQubit(7, 0)),\n    ),\n    cirq.Moment(\n        cirq.CNOT(cirq.GridQubit(3, 0), cirq.GridQubit(2, 0)),\n        cirq.CNOT(cirq.GridQubit(7, 0), cirq.GridQubit(6, 0)),\n    ),\n    cirq.Moment(\n        cirq.Ry(rads=sympy.Symbol('theta17')).on(cirq.GridQubit(2, 0)),\n        cirq.Ry(rads=sympy.Symbol('theta17')).on(cirq.GridQubit(6, 0)),\n    ),\n    cirq.Moment(\n        cirq.CNOT(cirq.GridQubit(2, 0), cirq.GridQubit(3, 0)),\n        cirq.CNOT(cirq.GridQubit(6, 0), cirq.GridQubit(7, 0)),\n    ),\n    cirq.Moment(\n        cirq.circuits.qasm_output.QasmUGate(theta=0, phi=0, lmda=0).on(cirq.GridQubit(2, 0)),\n        cirq.circuits.qasm_output.QasmUGate(theta=0, phi=0, lmda=0).on(cirq.GridQubit(3, 0)),\n        cirq.circuits.qasm_output.QasmUGate(theta=0, phi=0, lmda=0).on(cirq.GridQubit(6, 0)),\n        cirq.circuits.qasm_output.QasmUGate(theta=0, phi=0, lmda=0).on(cirq.GridQubit(7, 0)),\n    ),\n    cirq.Moment(\n        cirq.circuits.qasm_output.QasmUGate(theta=0, phi=0, lmda=0).on(cirq.GridQubit(3, 0)),\n        cirq.circuits.qasm_output.QasmUGate(theta=0, phi=0, lmda=0).on(cirq.GridQubit(6, 0)),\n        cirq.circuits.qasm_output.QasmUGate(theta=0, phi=0, lmda=0).on(cirq.GridQubit(7, 0)),\n        cirq.circuits.qasm_output.QasmUGate(theta=0, phi=0, lmda=0).on(cirq.GridQubit(2, 0)),\n    ),\n    cirq.Moment(\n        cirq.CNOT(cirq.GridQubit(3, 0), cirq.GridQubit(6, 0)),\n        cirq.CNOT(cirq.GridQubit(7, 0), cirq.GridQubit(2, 0)),\n    ),\n    cirq.Moment(\n        cirq.Ry(rads=sympy.Symbol('theta15')).on(cirq.GridQubit(3, 0)),\n        cirq.Rz(rads=sympy.Symbol('theta16')).on(cirq.GridQubit(6, 0)),\n        cirq.Ry(rads=sympy.Symbol('theta15')).on(cirq.GridQubit(7, 0)),\n        cirq.Rz(rads=sympy.Symbol('theta16')).on(cirq.GridQubit(2, 0)),\n    ),\n    cirq.Moment(\n        cirq.CNOT(cirq.GridQubit(6, 0), cirq.GridQubit(3, 0)),\n        cirq.CNOT(cirq.GridQubit(2, 0), cirq.GridQubit(7, 0)),\n    ),\n    cirq.Moment(\n        cirq.Ry(rads=sympy.Symbol('theta17')).on(cirq.GridQubit(3, 0)),\n        cirq.Ry(rads=sympy.Symbol('theta17')).on(cirq.GridQubit(7, 0)),\n    ),\n    cirq.Moment(\n        cirq.CNOT(cirq.GridQubit(3, 0), cirq.GridQubit(6, 0)),\n        cirq.CNOT(cirq.GridQubit(7, 0), cirq.GridQubit(2, 0)),\n    ),\n    cirq.Moment(\n        cirq.circuits.qasm_output.QasmUGate(theta=0, phi=0, lmda=0).on(cirq.GridQubit(3, 0)),\n        cirq.circuits.qasm_output.QasmUGate(theta=0, phi=0, lmda=0).on(cirq.GridQubit(6, 0)),\n        cirq.circuits.qasm_output.QasmUGate(theta=0, phi=0, lmda=0).on(cirq.GridQubit(7, 0)),\n        cirq.circuits.qasm_output.QasmUGate(theta=0, phi=0, lmda=0).on(cirq.GridQubit(2, 0)),\n    ),\n    cirq.Moment(\n        cirq.circuits.qasm_output.QasmUGate(theta=0, phi=0, lmda=0).on(cirq.GridQubit(6, 0)),\n        cirq.circuits.qasm_output.QasmUGate(theta=0, phi=0, lmda=0).on(cirq.GridQubit(7, 0)),\n    ),\n    cirq.Moment(\n        cirq.CNOT(cirq.GridQubit(6, 0), cirq.GridQubit(7, 0)),\n    ),\n    cirq.Moment(\n        cirq.Ry(rads=sympy.Symbol('theta18')).on(cirq.GridQubit(6, 0)),\n        cirq.Rz(rads=sympy.Symbol('theta19')).on(cirq.GridQubit(7, 0)),\n    ),\n    cirq.Moment(\n        cirq.CNOT(cirq.GridQubit(7, 0), cirq.GridQubit(6, 0)),\n    ),\n    cirq.Moment(\n        cirq.Ry(rads=sympy.Symbol('theta20')).on(cirq.GridQubit(6, 0)),\n    ),\n    cirq.Moment(\n        cirq.CNOT(cirq.GridQubit(6, 0), cirq.GridQubit(7, 0)),\n    ),\n    cirq.Moment(\n        cirq.circuits.qasm_output.QasmUGate(theta=0, phi=0, lmda=0).on(cirq.GridQubit(6, 0)),\n        cirq.circuits.qasm_output.QasmUGate(theta=0, phi=0, lmda=0).on(cirq.GridQubit(7, 0)),\n    ),\n])\n  • symbol_names=[\"'x0'\", \"'x1'\", \"'x2'\", \"'x3'\", \"'x4'\", \"'x5'\", \"'x6'\", \"'x7'\", \"'theta0'\", \"'theta1'\", \"'theta2'\", \"'theta3'\", \"'theta4'\", \"'theta5'\", \"'theta6'\", \"'theta7'\", \"'theta8'\", \"'theta9'\", \"'theta10'\", \"'theta11'\", \"'theta12'\", \"'theta13'\", \"'theta14'\", \"'theta15'\", \"'theta16'\", \"'theta17'\", \"'theta18'\", \"'theta19'\", \"'theta20'\", \"'theta21'\", \"'theta22'\", \"'theta23'\", \"'theta24'\", \"'theta25'\", \"'theta26'\", \"'theta27'\", \"'theta28'\", \"'theta29'\", \"'theta30'\", \"'theta31'\", \"'theta32'\", \"'theta33'\", \"'theta34'\", \"'theta35'\", \"'theta36'\", \"'theta37'\", \"'theta38'\", \"'theta39'\", \"'theta40'\", \"'theta41'\", \"'theta42'\", \"'theta43'\", \"'theta44'\"]\n  • symbol_values=tf.Tensor(shape=(1, 53), dtype=float32)\n  • operators=['cirq.Z(cirq.GridQubit(0, 0))', 'cirq.Z(cirq.GridQubit(2, 0))', 'cirq.Z(cirq.GridQubit(7, 0))']\n  • repetitions=None\n  • initializer=<keras.initializers.initializers_v2.RandomUniform object at 0x7fe57f5baa00>",
     "output_type": "error",
     "traceback": [
      "\u001b[0;31m---------------------------------------------------------------------------\u001b[0m",
      "\u001b[0;31mValueError\u001b[0m                                Traceback (most recent call last)",
      "Cell \u001b[0;32mIn[3], line 11\u001b[0m\n\u001b[1;32m      9\u001b[0m circuit_data \u001b[39m#shape=(1, 36)\u001b[39;00m\n\u001b[1;32m     10\u001b[0m input_to_circuit \u001b[39m#shape=(1, 4)\u001b[39;00m\n\u001b[0;32m---> 11\u001b[0m exps \u001b[39m=\u001b[39m exp_layer(\n\u001b[1;32m     12\u001b[0m     model_circuit,\n\u001b[1;32m     13\u001b[0m     operators\u001b[39m=\u001b[39;49mmeasurement_operators,\n\u001b[1;32m     14\u001b[0m     symbol_names\u001b[39m=\u001b[39;49msymbol_names,\n\u001b[1;32m     15\u001b[0m     symbol_values\u001b[39m=\u001b[39;49mcircuit_data\n\u001b[1;32m     16\u001b[0m     \u001b[39m# symbol_values=input_to_circuit\u001b[39;49;00m\n\u001b[1;32m     17\u001b[0m )\n\u001b[1;32m     18\u001b[0m readout_layer(exps)\n",
      "File \u001b[0;32m~/miniconda3/envs/qtrkx/lib/python3.9/site-packages/keras/utils/traceback_utils.py:70\u001b[0m, in \u001b[0;36mfilter_traceback.<locals>.error_handler\u001b[0;34m(*args, **kwargs)\u001b[0m\n\u001b[1;32m     67\u001b[0m     filtered_tb \u001b[39m=\u001b[39m _process_traceback_frames(e\u001b[39m.\u001b[39m__traceback__)\n\u001b[1;32m     68\u001b[0m     \u001b[39m# To get the full stack trace, call:\u001b[39;00m\n\u001b[1;32m     69\u001b[0m     \u001b[39m# `tf.debugging.disable_traceback_filtering()`\u001b[39;00m\n\u001b[0;32m---> 70\u001b[0m     \u001b[39mraise\u001b[39;00m e\u001b[39m.\u001b[39mwith_traceback(filtered_tb) \u001b[39mfrom\u001b[39;00m \u001b[39mNone\u001b[39;00m\n\u001b[1;32m     71\u001b[0m \u001b[39mfinally\u001b[39;00m:\n\u001b[1;32m     72\u001b[0m     \u001b[39mdel\u001b[39;00m filtered_tb\n",
      "File \u001b[0;32m~/miniconda3/envs/qtrkx/lib/python3.9/site-packages/tensorflow_quantum/python/layers/circuit_executors/expectation.py:290\u001b[0m, in \u001b[0;36mExpectation.call\u001b[0;34m(self, inputs, symbol_names, symbol_values, operators, repetitions, initializer)\u001b[0m\n\u001b[1;32m    287\u001b[0m \u001b[39mif\u001b[39;00m symbol_values \u001b[39mis\u001b[39;00m \u001b[39mNone\u001b[39;00m:\n\u001b[1;32m    288\u001b[0m     values_empty \u001b[39m=\u001b[39m \u001b[39mTrue\u001b[39;00m\n\u001b[0;32m--> 290\u001b[0m inputs, symbol_names, symbol_values \u001b[39m=\u001b[39m input_checks\u001b[39m.\u001b[39;49mexpand_circuits(\n\u001b[1;32m    291\u001b[0m     inputs, symbol_names, symbol_values)\n\u001b[1;32m    293\u001b[0m circuit_batch_dim \u001b[39m=\u001b[39m tf\u001b[39m.\u001b[39mgather(tf\u001b[39m.\u001b[39mshape(inputs), \u001b[39m0\u001b[39m)\n\u001b[1;32m    295\u001b[0m operators \u001b[39m=\u001b[39m input_checks\u001b[39m.\u001b[39mexpand_operators(operators, circuit_batch_dim)\n",
      "File \u001b[0;32m~/miniconda3/envs/qtrkx/lib/python3.9/site-packages/tensorflow_quantum/python/layers/circuit_executors/input_checks.py:89\u001b[0m, in \u001b[0;36mexpand_circuits\u001b[0;34m(inputs, symbol_names, symbol_values, deterministic_proto_serialize)\u001b[0m\n\u001b[1;32m     85\u001b[0m \u001b[39m# Ingest and promote circuit.\u001b[39;00m\n\u001b[1;32m     86\u001b[0m \u001b[39mif\u001b[39;00m \u001b[39misinstance\u001b[39m(inputs, cirq\u001b[39m.\u001b[39mCircuit):\n\u001b[1;32m     87\u001b[0m     \u001b[39m# process single circuit.\u001b[39;00m\n\u001b[1;32m     88\u001b[0m     inputs \u001b[39m=\u001b[39m tf\u001b[39m.\u001b[39mtile(\n\u001b[0;32m---> 89\u001b[0m         util\u001b[39m.\u001b[39;49mconvert_to_tensor(\n\u001b[1;32m     90\u001b[0m             [inputs],\n\u001b[1;32m     91\u001b[0m             deterministic_proto_serialize\u001b[39m=\u001b[39;49mdeterministic_proto_serialize),\n\u001b[1;32m     92\u001b[0m         [symbol_batch_dim])\n\u001b[1;32m     94\u001b[0m \u001b[39melif\u001b[39;00m \u001b[39misinstance\u001b[39m(inputs, (\u001b[39mlist\u001b[39m, \u001b[39mtuple\u001b[39m, np\u001b[39m.\u001b[39mndarray)):\n\u001b[1;32m     95\u001b[0m     \u001b[39m# process list of circuits.\u001b[39;00m\n\u001b[1;32m     96\u001b[0m     inputs \u001b[39m=\u001b[39m util\u001b[39m.\u001b[39mconvert_to_tensor(\n\u001b[1;32m     97\u001b[0m         inputs, deterministic_proto_serialize\u001b[39m=\u001b[39mdeterministic_proto_serialize)\n",
      "File \u001b[0;32m~/miniconda3/envs/qtrkx/lib/python3.9/site-packages/tensorflow_quantum/python/util.py:333\u001b[0m, in \u001b[0;36mconvert_to_tensor\u001b[0;34m(items_to_convert, deterministic_proto_serialize)\u001b[0m\n\u001b[1;32m    330\u001b[0m     \u001b[39mreturn\u001b[39;00m tensored_items\n\u001b[1;32m    332\u001b[0m \u001b[39m# This will catch impossible dimensions\u001b[39;00m\n\u001b[0;32m--> 333\u001b[0m \u001b[39mreturn\u001b[39;00m tf\u001b[39m.\u001b[39mconvert_to_tensor(recur(items_to_convert))\n",
      "File \u001b[0;32m~/miniconda3/envs/qtrkx/lib/python3.9/site-packages/tensorflow_quantum/python/util.py:324\u001b[0m, in \u001b[0;36mconvert_to_tensor.<locals>.recur\u001b[0;34m(items_to_convert, curr_type)\u001b[0m\n\u001b[1;32m    320\u001b[0m \u001b[39melif\u001b[39;00m \u001b[39misinstance\u001b[39m(item, cirq\u001b[39m.\u001b[39mCircuit) \u001b[39mand\u001b[39;00m\\\n\u001b[1;32m    321\u001b[0m         \u001b[39mnot\u001b[39;00m curr_type \u001b[39m==\u001b[39m cirq\u001b[39m.\u001b[39mPauliSum:\n\u001b[1;32m    322\u001b[0m     curr_type \u001b[39m=\u001b[39m cirq\u001b[39m.\u001b[39mCircuit\n\u001b[1;32m    323\u001b[0m     tensored_items\u001b[39m.\u001b[39mappend(\n\u001b[0;32m--> 324\u001b[0m         serializer\u001b[39m.\u001b[39;49mserialize_circuit(item)\u001b[39m.\u001b[39mSerializeToString(\n\u001b[1;32m    325\u001b[0m             deterministic\u001b[39m=\u001b[39mdeterministic_proto_serialize))\n\u001b[1;32m    326\u001b[0m \u001b[39melse\u001b[39;00m:\n\u001b[1;32m    327\u001b[0m     \u001b[39mraise\u001b[39;00m \u001b[39mTypeError\u001b[39;00m(\u001b[39m\"\u001b[39m\u001b[39mIncompatible item passed into \u001b[39m\u001b[39m\"\u001b[39m\n\u001b[1;32m    328\u001b[0m                     \u001b[39m\"\u001b[39m\u001b[39mconvert_to_tensor. Tensor detected type: \u001b[39m\u001b[39m{}\u001b[39;00m\u001b[39m. \u001b[39m\u001b[39m\"\u001b[39m\n\u001b[1;32m    329\u001b[0m                     \u001b[39m\"\u001b[39m\u001b[39mgot: \u001b[39m\u001b[39m{}\u001b[39;00m\u001b[39m\"\u001b[39m\u001b[39m.\u001b[39mformat(curr_type, \u001b[39mtype\u001b[39m(item)))\n",
      "File \u001b[0;32m~/miniconda3/envs/qtrkx/lib/python3.9/site-packages/tensorflow_quantum/core/serialize/serializer.py:881\u001b[0m, in \u001b[0;36mserialize_circuit\u001b[0;34m(circuit_inp)\u001b[0m\n\u001b[1;32m    876\u001b[0m         new_ops[op\u001b[39m.\u001b[39mqubits] \u001b[39m=\u001b[39m tfq_compatible\n\u001b[1;32m    878\u001b[0m     circuit[i] \u001b[39m=\u001b[39m cirq\u001b[39m.\u001b[39mMoment(\n\u001b[1;32m    879\u001b[0m         new_ops[op\u001b[39m.\u001b[39mqubits] \u001b[39mif\u001b[39;00m op\u001b[39m.\u001b[39mqubits \u001b[39min\u001b[39;00m new_ops \u001b[39melse\u001b[39;00m op \u001b[39mfor\u001b[39;00m op \u001b[39min\u001b[39;00m moment)\n\u001b[0;32m--> 881\u001b[0m \u001b[39mreturn\u001b[39;00m SERIALIZER\u001b[39m.\u001b[39;49mserialize(circuit)\n",
      "File \u001b[0;32m~/miniconda3/envs/qtrkx/lib/python3.9/site-packages/tensorflow_quantum/core/serialize/serializable_gate_set.py:130\u001b[0m, in \u001b[0;36mSerializableGateSet.serialize\u001b[0;34m(self, program, msg, arg_function_language)\u001b[0m\n\u001b[1;32m    128\u001b[0m msg\u001b[39m.\u001b[39mlanguage\u001b[39m.\u001b[39mgate_set \u001b[39m=\u001b[39m \u001b[39mself\u001b[39m\u001b[39m.\u001b[39mgate_set_name\n\u001b[1;32m    129\u001b[0m \u001b[39mif\u001b[39;00m \u001b[39misinstance\u001b[39m(program, cirq\u001b[39m.\u001b[39mCircuit):\n\u001b[0;32m--> 130\u001b[0m     \u001b[39mself\u001b[39;49m\u001b[39m.\u001b[39;49m_serialize_circuit(program,\n\u001b[1;32m    131\u001b[0m                             msg\u001b[39m.\u001b[39;49mcircuit,\n\u001b[1;32m    132\u001b[0m                             arg_function_language\u001b[39m=\u001b[39;49marg_function_language)\n\u001b[1;32m    133\u001b[0m     \u001b[39mif\u001b[39;00m arg_function_language \u001b[39mis\u001b[39;00m \u001b[39mNone\u001b[39;00m:\n\u001b[1;32m    134\u001b[0m         arg_function_language \u001b[39m=\u001b[39m (_infer_function_language_from_circuit(\n\u001b[1;32m    135\u001b[0m             msg\u001b[39m.\u001b[39mcircuit))\n",
      "File \u001b[0;32m~/miniconda3/envs/qtrkx/lib/python3.9/site-packages/tensorflow_quantum/core/serialize/serializable_gate_set.py:229\u001b[0m, in \u001b[0;36mSerializableGateSet._serialize_circuit\u001b[0;34m(self, circuit, msg, arg_function_language)\u001b[0m\n\u001b[1;32m    227\u001b[0m moment_proto \u001b[39m=\u001b[39m msg\u001b[39m.\u001b[39mmoments\u001b[39m.\u001b[39madd()\n\u001b[1;32m    228\u001b[0m \u001b[39mfor\u001b[39;00m op \u001b[39min\u001b[39;00m moment:\n\u001b[0;32m--> 229\u001b[0m     \u001b[39mself\u001b[39;49m\u001b[39m.\u001b[39;49mserialize_op(op,\n\u001b[1;32m    230\u001b[0m                       moment_proto\u001b[39m.\u001b[39;49moperations\u001b[39m.\u001b[39;49madd(),\n\u001b[1;32m    231\u001b[0m                       arg_function_language\u001b[39m=\u001b[39;49marg_function_language)\n",
      "File \u001b[0;32m~/miniconda3/envs/qtrkx/lib/python3.9/site-packages/tensorflow_quantum/core/serialize/serializable_gate_set.py:168\u001b[0m, in \u001b[0;36mSerializableGateSet.serialize_op\u001b[0;34m(self, op, msg, arg_function_language)\u001b[0m\n\u001b[1;32m    166\u001b[0m             \u001b[39mif\u001b[39;00m proto_msg \u001b[39mis\u001b[39;00m \u001b[39mnot\u001b[39;00m \u001b[39mNone\u001b[39;00m:\n\u001b[1;32m    167\u001b[0m                 \u001b[39mreturn\u001b[39;00m proto_msg\n\u001b[0;32m--> 168\u001b[0m \u001b[39mraise\u001b[39;00m \u001b[39mValueError\u001b[39;00m(\u001b[39m'\u001b[39m\u001b[39mCannot serialize op \u001b[39m\u001b[39m{!r}\u001b[39;00m\u001b[39m of type \u001b[39m\u001b[39m{}\u001b[39;00m\u001b[39m'\u001b[39m\u001b[39m.\u001b[39mformat(\n\u001b[1;32m    169\u001b[0m     op, gate_type))\n",
      "\u001b[0;31mValueError\u001b[0m: Exception encountered when calling layer 'expectation' (type Expectation).\n\nCannot serialize op cirq.circuits.qasm_output.QasmUGate(theta=0, phi=0, lmda=0).on(cirq.GridQubit(0, 0)) of type <class 'cirq.circuits.qasm_output.QasmUGate'>\n\nCall arguments received by layer 'expectation' (type Expectation):\n  • inputs=cirq.Circuit([\n    cirq.Moment(\n        cirq.Ry(rads=sympy.Symbol('x0')).on(cirq.GridQubit(0, 0)),\n        cirq.Ry(rads=sympy.Symbol('x1')).on(cirq.GridQubit(1, 0)),\n        cirq.Ry(rads=sympy.Symbol('x2')).on(cirq.GridQubit(2, 0)),\n        cirq.Ry(rads=sympy.Symbol('x3')).on(cirq.GridQubit(3, 0)),\n        cirq.Ry(rads=sympy.Symbol('x4')).on(cirq.GridQubit(4, 0)),\n        cirq.Ry(rads=sympy.Symbol('x5')).on(cirq.GridQubit(5, 0)),\n        cirq.Ry(rads=sympy.Symbol('x6')).on(cirq.GridQubit(6, 0)),\n        cirq.Ry(rads=sympy.Symbol('x7')).on(cirq.GridQubit(7, 0)),\n    ),\n    cirq.Moment(\n        cirq.circuits.qasm_output.QasmUGate(theta=0, phi=0, lmda=0).on(cirq.GridQubit(0, 0)),\n        cirq.circuits.qasm_output.QasmUGate(theta=0, phi=0, lmda=0).on(cirq.GridQubit(1, 0)),\n        cirq.circuits.qasm_output.QasmUGate(theta=0, phi=0, lmda=0).on(cirq.GridQubit(2, 0)),\n        cirq.circuits.qasm_output.QasmUGate(theta=0, phi=0, lmda=0).on(cirq.GridQubit(3, 0)),\n        cirq.circuits.qasm_output.QasmUGate(theta=0, phi=0, lmda=0).on(cirq.GridQubit(4, 0)),\n        cirq.circuits.qasm_output.QasmUGate(theta=0, phi=0, lmda=0).on(cirq.GridQubit(5, 0)),\n        cirq.circuits.qasm_output.QasmUGate(theta=0, phi=0, lmda=0).on(cirq.GridQubit(6, 0)),\n        cirq.circuits.qasm_output.QasmUGate(theta=0, phi=0, lmda=0).on(cirq.GridQubit(7, 0)),\n    ),\n    cirq.Moment(\n        cirq.CNOT(cirq.GridQubit(0, 0), cirq.GridQubit(1, 0)),\n        cirq.CNOT(cirq.GridQubit(2, 0), cirq.GridQubit(3, 0)),\n        cirq.CNOT(cirq.GridQubit(4, 0), cirq.GridQubit(5, 0)),\n        cirq.CNOT(cirq.GridQubit(6, 0), cirq.GridQubit(7, 0)),\n    ),\n    cirq.Moment(\n        cirq.Ry(rads=sympy.Symbol('theta12')).on(cirq.GridQubit(0, 0)),\n        cirq.Rz(rads=sympy.Symbol('theta13')).on(cirq.GridQubit(1, 0)),\n        cirq.Ry(rads=sympy.Symbol('theta12')).on(cirq.GridQubit(2, 0)),\n        cirq.Rz(rads=sympy.Symbol('theta13')).on(cirq.GridQubit(3, 0)),\n        cirq.Ry(rads=sympy.Symbol('theta12')).on(cirq.GridQubit(4, 0)),\n        cirq.Rz(rads=sympy.Symbol('theta13')).on(cirq.GridQubit(5, 0)),\n        cirq.Ry(rads=sympy.Symbol('theta12')).on(cirq.GridQubit(6, 0)),\n        cirq.Rz(rads=sympy.Symbol('theta13')).on(cirq.GridQubit(7, 0)),\n    ),\n    cirq.Moment(\n        cirq.CNOT(cirq.GridQubit(1, 0), cirq.GridQubit(0, 0)),\n        cirq.CNOT(cirq.GridQubit(3, 0), cirq.GridQubit(2, 0)),\n        cirq.CNOT(cirq.GridQubit(5, 0), cirq.GridQubit(4, 0)),\n        cirq.CNOT(cirq.GridQubit(7, 0), cirq.GridQubit(6, 0)),\n    ),\n    cirq.Moment(\n        cirq.Ry(rads=sympy.Symbol('theta14')).on(cirq.GridQubit(0, 0)),\n        cirq.Ry(rads=sympy.Symbol('theta14')).on(cirq.GridQubit(2, 0)),\n        cirq.Ry(rads=sympy.Symbol('theta14')).on(cirq.GridQubit(4, 0)),\n        cirq.Ry(rads=sympy.Symbol('theta14')).on(cirq.GridQubit(6, 0)),\n    ),\n    cirq.Moment(\n        cirq.CNOT(cirq.GridQubit(0, 0), cirq.GridQubit(1, 0)),\n        cirq.CNOT(cirq.GridQubit(2, 0), cirq.GridQubit(3, 0)),\n        cirq.CNOT(cirq.GridQubit(4, 0), cirq.GridQubit(5, 0)),\n        cirq.CNOT(cirq.GridQubit(6, 0), cirq.GridQubit(7, 0)),\n    ),\n    cirq.Moment(\n        cirq.circuits.qasm_output.QasmUGate(theta=0, phi=0, lmda=0).on(cirq.GridQubit(0, 0)),\n        cirq.circuits.qasm_output.QasmUGate(theta=0, phi=0, lmda=0).on(cirq.GridQubit(1, 0)),\n        cirq.circuits.qasm_output.QasmUGate(theta=0, phi=0, lmda=0).on(cirq.GridQubit(2, 0)),\n        cirq.circuits.qasm_output.QasmUGate(theta=0, phi=0, lmda=0).on(cirq.GridQubit(3, 0)),\n        cirq.circuits.qasm_output.QasmUGate(theta=0, phi=0, lmda=0).on(cirq.GridQubit(4, 0)),\n        cirq.circuits.qasm_output.QasmUGate(theta=0, phi=0, lmda=0).on(cirq.GridQubit(5, 0)),\n        cirq.circuits.qasm_output.QasmUGate(theta=0, phi=0, lmda=0).on(cirq.GridQubit(6, 0)),\n        cirq.circuits.qasm_output.QasmUGate(theta=0, phi=0, lmda=0).on(cirq.GridQubit(7, 0)),\n    ),\n    cirq.Moment(\n        cirq.circuits.qasm_output.QasmUGate(theta=0, phi=0, lmda=0).on(cirq.GridQubit(1, 0)),\n        cirq.circuits.qasm_output.QasmUGate(theta=0, phi=0, lmda=0).on(cirq.GridQubit(2, 0)),\n        cirq.circuits.qasm_output.QasmUGate(theta=0, phi=0, lmda=0).on(cirq.GridQubit(3, 0)),\n        cirq.circuits.qasm_output.QasmUGate(theta=0, phi=0, lmda=0).on(cirq.GridQubit(4, 0)),\n        cirq.circuits.qasm_output.QasmUGate(theta=0, phi=0, lmda=0).on(cirq.GridQubit(5, 0)),\n        cirq.circuits.qasm_output.QasmUGate(theta=0, phi=0, lmda=0).on(cirq.GridQubit(6, 0)),\n        cirq.circuits.qasm_output.QasmUGate(theta=0, phi=0, lmda=0).on(cirq.GridQubit(7, 0)),\n        cirq.circuits.qasm_output.QasmUGate(theta=0, phi=0, lmda=0).on(cirq.GridQubit(0, 0)),\n    ),\n    cirq.Moment(\n        cirq.CNOT(cirq.GridQubit(1, 0), cirq.GridQubit(2, 0)),\n        cirq.CNOT(cirq.GridQubit(3, 0), cirq.GridQubit(4, 0)),\n        cirq.CNOT(cirq.GridQubit(5, 0), cirq.GridQubit(6, 0)),\n        cirq.CNOT(cirq.GridQubit(7, 0), cirq.GridQubit(0, 0)),\n    ),\n    cirq.Moment(\n        cirq.Ry(rads=sympy.Symbol('theta12')).on(cirq.GridQubit(1, 0)),\n        cirq.Rz(rads=sympy.Symbol('theta13')).on(cirq.GridQubit(2, 0)),\n        cirq.Ry(rads=sympy.Symbol('theta12')).on(cirq.GridQubit(3, 0)),\n        cirq.Rz(rads=sympy.Symbol('theta13')).on(cirq.GridQubit(4, 0)),\n        cirq.Ry(rads=sympy.Symbol('theta12')).on(cirq.GridQubit(5, 0)),\n        cirq.Rz(rads=sympy.Symbol('theta13')).on(cirq.GridQubit(6, 0)),\n        cirq.Ry(rads=sympy.Symbol('theta12')).on(cirq.GridQubit(7, 0)),\n        cirq.Rz(rads=sympy.Symbol('theta13')).on(cirq.GridQubit(0, 0)),\n    ),\n    cirq.Moment(\n        cirq.CNOT(cirq.GridQubit(2, 0), cirq.GridQubit(1, 0)),\n        cirq.CNOT(cirq.GridQubit(4, 0), cirq.GridQubit(3, 0)),\n        cirq.CNOT(cirq.GridQubit(6, 0), cirq.GridQubit(5, 0)),\n        cirq.CNOT(cirq.GridQubit(0, 0), cirq.GridQubit(7, 0)),\n    ),\n    cirq.Moment(\n        cirq.Ry(rads=sympy.Symbol('theta14')).on(cirq.GridQubit(1, 0)),\n        cirq.Ry(rads=sympy.Symbol('theta14')).on(cirq.GridQubit(3, 0)),\n        cirq.Ry(rads=sympy.Symbol('theta14')).on(cirq.GridQubit(5, 0)),\n        cirq.Ry(rads=sympy.Symbol('theta14')).on(cirq.GridQubit(7, 0)),\n    ),\n    cirq.Moment(\n        cirq.CNOT(cirq.GridQubit(1, 0), cirq.GridQubit(2, 0)),\n        cirq.CNOT(cirq.GridQubit(3, 0), cirq.GridQubit(4, 0)),\n        cirq.CNOT(cirq.GridQubit(5, 0), cirq.GridQubit(6, 0)),\n        cirq.CNOT(cirq.GridQubit(7, 0), cirq.GridQubit(0, 0)),\n    ),\n    cirq.Moment(\n        cirq.circuits.qasm_output.QasmUGate(theta=0, phi=0, lmda=0).on(cirq.GridQubit(1, 0)),\n        cirq.circuits.qasm_output.QasmUGate(theta=0, phi=0, lmda=0).on(cirq.GridQubit(2, 0)),\n        cirq.circuits.qasm_output.QasmUGate(theta=0, phi=0, lmda=0).on(cirq.GridQubit(3, 0)),\n        cirq.circuits.qasm_output.QasmUGate(theta=0, phi=0, lmda=0).on(cirq.GridQubit(4, 0)),\n        cirq.circuits.qasm_output.QasmUGate(theta=0, phi=0, lmda=0).on(cirq.GridQubit(5, 0)),\n        cirq.circuits.qasm_output.QasmUGate(theta=0, phi=0, lmda=0).on(cirq.GridQubit(6, 0)),\n        cirq.circuits.qasm_output.QasmUGate(theta=0, phi=0, lmda=0).on(cirq.GridQubit(7, 0)),\n        cirq.circuits.qasm_output.QasmUGate(theta=0, phi=0, lmda=0).on(cirq.GridQubit(0, 0)),\n    ),\n    cirq.Moment(\n        cirq.circuits.qasm_output.QasmUGate(theta=0, phi=0, lmda=0).on(cirq.GridQubit(2, 0)),\n        cirq.circuits.qasm_output.QasmUGate(theta=0, phi=0, lmda=0).on(cirq.GridQubit(3, 0)),\n        cirq.circuits.qasm_output.QasmUGate(theta=0, phi=0, lmda=0).on(cirq.GridQubit(6, 0)),\n        cirq.circuits.qasm_output.QasmUGate(theta=0, phi=0, lmda=0).on(cirq.GridQubit(7, 0)),\n    ),\n    cirq.Moment(\n        cirq.CNOT(cirq.GridQubit(2, 0), cirq.GridQubit(3, 0)),\n        cirq.CNOT(cirq.GridQubit(6, 0), cirq.GridQubit(7, 0)),\n    ),\n    cirq.Moment(\n        cirq.Ry(rads=sympy.Symbol('theta15')).on(cirq.GridQubit(2, 0)),\n        cirq.Rz(rads=sympy.Symbol('theta16')).on(cirq.GridQubit(3, 0)),\n        cirq.Ry(rads=sympy.Symbol('theta15')).on(cirq.GridQubit(6, 0)),\n        cirq.Rz(rads=sympy.Symbol('theta16')).on(cirq.GridQubit(7, 0)),\n    ),\n    cirq.Moment(\n        cirq.CNOT(cirq.GridQubit(3, 0), cirq.GridQubit(2, 0)),\n        cirq.CNOT(cirq.GridQubit(7, 0), cirq.GridQubit(6, 0)),\n    ),\n    cirq.Moment(\n        cirq.Ry(rads=sympy.Symbol('theta17')).on(cirq.GridQubit(2, 0)),\n        cirq.Ry(rads=sympy.Symbol('theta17')).on(cirq.GridQubit(6, 0)),\n    ),\n    cirq.Moment(\n        cirq.CNOT(cirq.GridQubit(2, 0), cirq.GridQubit(3, 0)),\n        cirq.CNOT(cirq.GridQubit(6, 0), cirq.GridQubit(7, 0)),\n    ),\n    cirq.Moment(\n        cirq.circuits.qasm_output.QasmUGate(theta=0, phi=0, lmda=0).on(cirq.GridQubit(2, 0)),\n        cirq.circuits.qasm_output.QasmUGate(theta=0, phi=0, lmda=0).on(cirq.GridQubit(3, 0)),\n        cirq.circuits.qasm_output.QasmUGate(theta=0, phi=0, lmda=0).on(cirq.GridQubit(6, 0)),\n        cirq.circuits.qasm_output.QasmUGate(theta=0, phi=0, lmda=0).on(cirq.GridQubit(7, 0)),\n    ),\n    cirq.Moment(\n        cirq.circuits.qasm_output.QasmUGate(theta=0, phi=0, lmda=0).on(cirq.GridQubit(3, 0)),\n        cirq.circuits.qasm_output.QasmUGate(theta=0, phi=0, lmda=0).on(cirq.GridQubit(6, 0)),\n        cirq.circuits.qasm_output.QasmUGate(theta=0, phi=0, lmda=0).on(cirq.GridQubit(7, 0)),\n        cirq.circuits.qasm_output.QasmUGate(theta=0, phi=0, lmda=0).on(cirq.GridQubit(2, 0)),\n    ),\n    cirq.Moment(\n        cirq.CNOT(cirq.GridQubit(3, 0), cirq.GridQubit(6, 0)),\n        cirq.CNOT(cirq.GridQubit(7, 0), cirq.GridQubit(2, 0)),\n    ),\n    cirq.Moment(\n        cirq.Ry(rads=sympy.Symbol('theta15')).on(cirq.GridQubit(3, 0)),\n        cirq.Rz(rads=sympy.Symbol('theta16')).on(cirq.GridQubit(6, 0)),\n        cirq.Ry(rads=sympy.Symbol('theta15')).on(cirq.GridQubit(7, 0)),\n        cirq.Rz(rads=sympy.Symbol('theta16')).on(cirq.GridQubit(2, 0)),\n    ),\n    cirq.Moment(\n        cirq.CNOT(cirq.GridQubit(6, 0), cirq.GridQubit(3, 0)),\n        cirq.CNOT(cirq.GridQubit(2, 0), cirq.GridQubit(7, 0)),\n    ),\n    cirq.Moment(\n        cirq.Ry(rads=sympy.Symbol('theta17')).on(cirq.GridQubit(3, 0)),\n        cirq.Ry(rads=sympy.Symbol('theta17')).on(cirq.GridQubit(7, 0)),\n    ),\n    cirq.Moment(\n        cirq.CNOT(cirq.GridQubit(3, 0), cirq.GridQubit(6, 0)),\n        cirq.CNOT(cirq.GridQubit(7, 0), cirq.GridQubit(2, 0)),\n    ),\n    cirq.Moment(\n        cirq.circuits.qasm_output.QasmUGate(theta=0, phi=0, lmda=0).on(cirq.GridQubit(3, 0)),\n        cirq.circuits.qasm_output.QasmUGate(theta=0, phi=0, lmda=0).on(cirq.GridQubit(6, 0)),\n        cirq.circuits.qasm_output.QasmUGate(theta=0, phi=0, lmda=0).on(cirq.GridQubit(7, 0)),\n        cirq.circuits.qasm_output.QasmUGate(theta=0, phi=0, lmda=0).on(cirq.GridQubit(2, 0)),\n    ),\n    cirq.Moment(\n        cirq.circuits.qasm_output.QasmUGate(theta=0, phi=0, lmda=0).on(cirq.GridQubit(6, 0)),\n        cirq.circuits.qasm_output.QasmUGate(theta=0, phi=0, lmda=0).on(cirq.GridQubit(7, 0)),\n    ),\n    cirq.Moment(\n        cirq.CNOT(cirq.GridQubit(6, 0), cirq.GridQubit(7, 0)),\n    ),\n    cirq.Moment(\n        cirq.Ry(rads=sympy.Symbol('theta18')).on(cirq.GridQubit(6, 0)),\n        cirq.Rz(rads=sympy.Symbol('theta19')).on(cirq.GridQubit(7, 0)),\n    ),\n    cirq.Moment(\n        cirq.CNOT(cirq.GridQubit(7, 0), cirq.GridQubit(6, 0)),\n    ),\n    cirq.Moment(\n        cirq.Ry(rads=sympy.Symbol('theta20')).on(cirq.GridQubit(6, 0)),\n    ),\n    cirq.Moment(\n        cirq.CNOT(cirq.GridQubit(6, 0), cirq.GridQubit(7, 0)),\n    ),\n    cirq.Moment(\n        cirq.circuits.qasm_output.QasmUGate(theta=0, phi=0, lmda=0).on(cirq.GridQubit(6, 0)),\n        cirq.circuits.qasm_output.QasmUGate(theta=0, phi=0, lmda=0).on(cirq.GridQubit(7, 0)),\n    ),\n])\n  • symbol_names=[\"'x0'\", \"'x1'\", \"'x2'\", \"'x3'\", \"'x4'\", \"'x5'\", \"'x6'\", \"'x7'\", \"'theta0'\", \"'theta1'\", \"'theta2'\", \"'theta3'\", \"'theta4'\", \"'theta5'\", \"'theta6'\", \"'theta7'\", \"'theta8'\", \"'theta9'\", \"'theta10'\", \"'theta11'\", \"'theta12'\", \"'theta13'\", \"'theta14'\", \"'theta15'\", \"'theta16'\", \"'theta17'\", \"'theta18'\", \"'theta19'\", \"'theta20'\", \"'theta21'\", \"'theta22'\", \"'theta23'\", \"'theta24'\", \"'theta25'\", \"'theta26'\", \"'theta27'\", \"'theta28'\", \"'theta29'\", \"'theta30'\", \"'theta31'\", \"'theta32'\", \"'theta33'\", \"'theta34'\", \"'theta35'\", \"'theta36'\", \"'theta37'\", \"'theta38'\", \"'theta39'\", \"'theta40'\", \"'theta41'\", \"'theta42'\", \"'theta43'\", \"'theta44'\"]\n  • symbol_values=tf.Tensor(shape=(1, 53), dtype=float32)\n  • operators=['cirq.Z(cirq.GridQubit(0, 0))', 'cirq.Z(cirq.GridQubit(2, 0))', 'cirq.Z(cirq.GridQubit(7, 0))']\n  • repetitions=None\n  • initializer=<keras.initializers.initializers_v2.RandomUniform object at 0x7fe57f5baa00>"
     ]
    }
   ],
   "source": [
    "input_to_circuit = input_layer(B) * np.pi\n",
    "circuit_data = tf.concat(\n",
    "    [\n",
    "        input_to_circuit, \n",
    "        tf.repeat(params,repeats=input_to_circuit.shape[0],axis=0)\n",
    "    ],\n",
    "    axis=1\n",
    ")   \n",
    "circuit_data #shape=(1, 36)\n",
    "input_to_circuit #shape=(1, 4)\n",
    "exps = exp_layer(\n",
    "    model_circuit,\n",
    "    operators=measurement_operators,\n",
    "    symbol_names=symbol_names,\n",
    "    symbol_values=circuit_data\n",
    "    # symbol_values=input_to_circuit\n",
    ")\n",
    "readout_layer(exps)"
   ]
  },
  {
   "cell_type": "code",
   "execution_count": 3,
   "metadata": {},
   "outputs": [
    {
     "name": "stdout",
     "output_type": "stream",
     "text": [
      "WARNING:tensorflow:From /home/yujin/miniconda3/envs/qtrkx/lib/python3.9/site-packages/tensorflow/python/autograph/pyct/static_analysis/liveness.py:83: Analyzer.lamba_check (from tensorflow.python.autograph.pyct.static_analysis.liveness) is deprecated and will be removed after 2023-09-23.\n",
      "Instructions for updating:\n",
      "Lambda fuctions will be no more assumed to be used in the statement where they are used, or at least in the same block. https://github.com/tensorflow/tensorflow/issues/56089\n"
     ]
    },
    {
     "data": {
      "text/plain": [
       "<tf.Tensor: shape=(1, 1), dtype=float32, numpy=array([[0.4983793]], dtype=float32)>"
      ]
     },
     "execution_count": 3,
     "metadata": {},
     "output_type": "execute_result"
    }
   ],
   "source": [
    "input_to_circuit = input_layer(B) * np.pi\n",
    "circuit_data = tf.concat(\n",
    "    [\n",
    "        input_to_circuit, \n",
    "        tf.repeat(params,repeats=input_to_circuit.shape[0],axis=0)\n",
    "    ],\n",
    "    axis=1\n",
    ")   \n",
    "circuit_data #shape=(1, 36)\n",
    "input_to_circuit #shape=(1, 4)\n",
    "exps = exp_layer(\n",
    "    model_circuit,\n",
    "    operators=measurement_operators,\n",
    "    symbol_names=symbol_names,\n",
    "    symbol_values=circuit_data\n",
    "    # symbol_values=input_to_circuit\n",
    ")\n",
    "readout_layer(exps)"
   ]
  },
  {
   "cell_type": "code",
   "execution_count": 4,
   "metadata": {},
   "outputs": [
    {
     "name": "stdout",
     "output_type": "stream",
     "text": [
      "WARNING:tensorflow:From /home/yujin/miniconda3/envs/qtrkx/lib/python3.9/site-packages/tensorflow/python/autograph/pyct/static_analysis/liveness.py:83: Analyzer.lamba_check (from tensorflow.python.autograph.pyct.static_analysis.liveness) is deprecated and will be removed after 2023-09-23.\n",
      "Instructions for updating:\n",
      "Lambda fuctions will be no more assumed to be used in the statement where they are used, or at least in the same block. https://github.com/tensorflow/tensorflow/issues/56089\n"
     ]
    },
    {
     "ename": "ValueError",
     "evalue": "Exception encountered when calling layer 'expectation' (type Expectation).\n\nCannot serialize op cirq.circuits.qasm_output.QasmUGate(theta=Mod(theta3, 2), phi=Mod(theta4, 2), lmda=Mod(theta5, 2)).on(cirq.GridQubit(0, 0)) of type <class 'cirq.circuits.qasm_output.QasmUGate'>\n\nCall arguments received by layer 'expectation' (type Expectation):\n  • inputs=cirq.Circuit([\n    cirq.Moment(\n        cirq.Ry(rads=sympy.Symbol('x0')).on(cirq.GridQubit(0, 0)),\n        cirq.Ry(rads=sympy.Symbol('x1')).on(cirq.GridQubit(1, 0)),\n        cirq.Ry(rads=sympy.Symbol('x2')).on(cirq.GridQubit(2, 0)),\n        cirq.Ry(rads=sympy.Symbol('x3')).on(cirq.GridQubit(3, 0)),\n        cirq.Ry(rads=sympy.Symbol('x4')).on(cirq.GridQubit(4, 0)),\n        cirq.Ry(rads=sympy.Symbol('x5')).on(cirq.GridQubit(5, 0)),\n        cirq.Ry(rads=sympy.Symbol('x6')).on(cirq.GridQubit(6, 0)),\n        cirq.Ry(rads=sympy.Symbol('x7')).on(cirq.GridQubit(7, 0)),\n    ),\n    cirq.Moment(\n        cirq.Ry(rads=sympy.Symbol('theta0')).on(cirq.GridQubit(0, 0)),\n        cirq.Ry(rads=sympy.Symbol('theta1')).on(cirq.GridQubit(1, 0)),\n        cirq.Ry(rads=sympy.Symbol('theta2')).on(cirq.GridQubit(2, 0)),\n        cirq.Ry(rads=sympy.Symbol('theta3')).on(cirq.GridQubit(3, 0)),\n        cirq.Ry(rads=sympy.Symbol('theta4')).on(cirq.GridQubit(4, 0)),\n        cirq.Ry(rads=sympy.Symbol('theta5')).on(cirq.GridQubit(5, 0)),\n        cirq.Ry(rads=sympy.Symbol('theta6')).on(cirq.GridQubit(6, 0)),\n        cirq.Ry(rads=sympy.Symbol('theta7')).on(cirq.GridQubit(7, 0)),\n    ),\n    cirq.Moment(\n        cirq.circuits.qasm_output.QasmUGate(theta=Mod(theta3, 2), phi=Mod(theta4, 2), lmda=Mod(theta5, 2)).on(cirq.GridQubit(0, 0)),\n    ),\n])\n  • symbol_names=[\"'x0'\", \"'x1'\", \"'x2'\", \"'x3'\", \"'x4'\", \"'x5'\", \"'x6'\", \"'x7'\", \"'theta0'\", \"'theta1'\", \"'theta2'\", \"'theta3'\", \"'theta4'\", \"'theta5'\", \"'theta6'\", \"'theta7'\", \"'theta8'\", \"'theta9'\", \"'theta10'\", \"'theta11'\", \"'theta12'\", \"'theta13'\", \"'theta14'\", \"'theta15'\", \"'theta16'\", \"'theta17'\", \"'theta18'\", \"'theta19'\", \"'theta20'\", \"'theta21'\", \"'theta22'\", \"'theta23'\", \"'theta24'\", \"'theta25'\", \"'theta26'\", \"'theta27'\", \"'theta28'\", \"'theta29'\", \"'theta30'\", \"'theta31'\", \"'theta32'\", \"'theta33'\", \"'theta34'\", \"'theta35'\", \"'theta36'\", \"'theta37'\", \"'theta38'\", \"'theta39'\", \"'theta40'\", \"'theta41'\", \"'theta42'\", \"'theta43'\", \"'theta44'\"]\n  • symbol_values=tf.Tensor(shape=(1, 53), dtype=float32)\n  • operators=['cirq.Z(cirq.GridQubit(0, 0))', 'cirq.Z(cirq.GridQubit(2, 0))', 'cirq.Z(cirq.GridQubit(7, 0))']\n  • repetitions=None\n  • initializer=<keras.initializers.initializers_v2.RandomUniform object at 0x7fa92be7bca0>",
     "output_type": "error",
     "traceback": [
      "\u001b[0;31m---------------------------------------------------------------------------\u001b[0m",
      "\u001b[0;31mValueError\u001b[0m                                Traceback (most recent call last)",
      "Cell \u001b[0;32mIn[4], line 11\u001b[0m\n\u001b[1;32m      9\u001b[0m circuit_data \u001b[39m#shape=(1, 36)\u001b[39;00m\n\u001b[1;32m     10\u001b[0m input_to_circuit \u001b[39m#shape=(1, 4)\u001b[39;00m\n\u001b[0;32m---> 11\u001b[0m exps \u001b[39m=\u001b[39m exp_layer(\n\u001b[1;32m     12\u001b[0m     model_circuit,\n\u001b[1;32m     13\u001b[0m     operators\u001b[39m=\u001b[39;49mmeasurement_operators,\n\u001b[1;32m     14\u001b[0m     symbol_names\u001b[39m=\u001b[39;49msymbol_names,\n\u001b[1;32m     15\u001b[0m     symbol_values\u001b[39m=\u001b[39;49mcircuit_data\n\u001b[1;32m     16\u001b[0m     \u001b[39m# symbol_values=input_to_circuit\u001b[39;49;00m\n\u001b[1;32m     17\u001b[0m )\n\u001b[1;32m     18\u001b[0m readout_layer(exps)\n",
      "File \u001b[0;32m~/miniconda3/envs/qtrkx/lib/python3.9/site-packages/keras/utils/traceback_utils.py:70\u001b[0m, in \u001b[0;36mfilter_traceback.<locals>.error_handler\u001b[0;34m(*args, **kwargs)\u001b[0m\n\u001b[1;32m     67\u001b[0m     filtered_tb \u001b[39m=\u001b[39m _process_traceback_frames(e\u001b[39m.\u001b[39m__traceback__)\n\u001b[1;32m     68\u001b[0m     \u001b[39m# To get the full stack trace, call:\u001b[39;00m\n\u001b[1;32m     69\u001b[0m     \u001b[39m# `tf.debugging.disable_traceback_filtering()`\u001b[39;00m\n\u001b[0;32m---> 70\u001b[0m     \u001b[39mraise\u001b[39;00m e\u001b[39m.\u001b[39mwith_traceback(filtered_tb) \u001b[39mfrom\u001b[39;00m \u001b[39mNone\u001b[39;00m\n\u001b[1;32m     71\u001b[0m \u001b[39mfinally\u001b[39;00m:\n\u001b[1;32m     72\u001b[0m     \u001b[39mdel\u001b[39;00m filtered_tb\n",
      "File \u001b[0;32m~/miniconda3/envs/qtrkx/lib/python3.9/site-packages/tensorflow_quantum/python/layers/circuit_executors/expectation.py:290\u001b[0m, in \u001b[0;36mExpectation.call\u001b[0;34m(self, inputs, symbol_names, symbol_values, operators, repetitions, initializer)\u001b[0m\n\u001b[1;32m    287\u001b[0m \u001b[39mif\u001b[39;00m symbol_values \u001b[39mis\u001b[39;00m \u001b[39mNone\u001b[39;00m:\n\u001b[1;32m    288\u001b[0m     values_empty \u001b[39m=\u001b[39m \u001b[39mTrue\u001b[39;00m\n\u001b[0;32m--> 290\u001b[0m inputs, symbol_names, symbol_values \u001b[39m=\u001b[39m input_checks\u001b[39m.\u001b[39;49mexpand_circuits(\n\u001b[1;32m    291\u001b[0m     inputs, symbol_names, symbol_values)\n\u001b[1;32m    293\u001b[0m circuit_batch_dim \u001b[39m=\u001b[39m tf\u001b[39m.\u001b[39mgather(tf\u001b[39m.\u001b[39mshape(inputs), \u001b[39m0\u001b[39m)\n\u001b[1;32m    295\u001b[0m operators \u001b[39m=\u001b[39m input_checks\u001b[39m.\u001b[39mexpand_operators(operators, circuit_batch_dim)\n",
      "File \u001b[0;32m~/miniconda3/envs/qtrkx/lib/python3.9/site-packages/tensorflow_quantum/python/layers/circuit_executors/input_checks.py:89\u001b[0m, in \u001b[0;36mexpand_circuits\u001b[0;34m(inputs, symbol_names, symbol_values, deterministic_proto_serialize)\u001b[0m\n\u001b[1;32m     85\u001b[0m \u001b[39m# Ingest and promote circuit.\u001b[39;00m\n\u001b[1;32m     86\u001b[0m \u001b[39mif\u001b[39;00m \u001b[39misinstance\u001b[39m(inputs, cirq\u001b[39m.\u001b[39mCircuit):\n\u001b[1;32m     87\u001b[0m     \u001b[39m# process single circuit.\u001b[39;00m\n\u001b[1;32m     88\u001b[0m     inputs \u001b[39m=\u001b[39m tf\u001b[39m.\u001b[39mtile(\n\u001b[0;32m---> 89\u001b[0m         util\u001b[39m.\u001b[39;49mconvert_to_tensor(\n\u001b[1;32m     90\u001b[0m             [inputs],\n\u001b[1;32m     91\u001b[0m             deterministic_proto_serialize\u001b[39m=\u001b[39;49mdeterministic_proto_serialize),\n\u001b[1;32m     92\u001b[0m         [symbol_batch_dim])\n\u001b[1;32m     94\u001b[0m \u001b[39melif\u001b[39;00m \u001b[39misinstance\u001b[39m(inputs, (\u001b[39mlist\u001b[39m, \u001b[39mtuple\u001b[39m, np\u001b[39m.\u001b[39mndarray)):\n\u001b[1;32m     95\u001b[0m     \u001b[39m# process list of circuits.\u001b[39;00m\n\u001b[1;32m     96\u001b[0m     inputs \u001b[39m=\u001b[39m util\u001b[39m.\u001b[39mconvert_to_tensor(\n\u001b[1;32m     97\u001b[0m         inputs, deterministic_proto_serialize\u001b[39m=\u001b[39mdeterministic_proto_serialize)\n",
      "File \u001b[0;32m~/miniconda3/envs/qtrkx/lib/python3.9/site-packages/tensorflow_quantum/python/util.py:333\u001b[0m, in \u001b[0;36mconvert_to_tensor\u001b[0;34m(items_to_convert, deterministic_proto_serialize)\u001b[0m\n\u001b[1;32m    330\u001b[0m     \u001b[39mreturn\u001b[39;00m tensored_items\n\u001b[1;32m    332\u001b[0m \u001b[39m# This will catch impossible dimensions\u001b[39;00m\n\u001b[0;32m--> 333\u001b[0m \u001b[39mreturn\u001b[39;00m tf\u001b[39m.\u001b[39mconvert_to_tensor(recur(items_to_convert))\n",
      "File \u001b[0;32m~/miniconda3/envs/qtrkx/lib/python3.9/site-packages/tensorflow_quantum/python/util.py:324\u001b[0m, in \u001b[0;36mconvert_to_tensor.<locals>.recur\u001b[0;34m(items_to_convert, curr_type)\u001b[0m\n\u001b[1;32m    320\u001b[0m \u001b[39melif\u001b[39;00m \u001b[39misinstance\u001b[39m(item, cirq\u001b[39m.\u001b[39mCircuit) \u001b[39mand\u001b[39;00m\\\n\u001b[1;32m    321\u001b[0m         \u001b[39mnot\u001b[39;00m curr_type \u001b[39m==\u001b[39m cirq\u001b[39m.\u001b[39mPauliSum:\n\u001b[1;32m    322\u001b[0m     curr_type \u001b[39m=\u001b[39m cirq\u001b[39m.\u001b[39mCircuit\n\u001b[1;32m    323\u001b[0m     tensored_items\u001b[39m.\u001b[39mappend(\n\u001b[0;32m--> 324\u001b[0m         serializer\u001b[39m.\u001b[39;49mserialize_circuit(item)\u001b[39m.\u001b[39mSerializeToString(\n\u001b[1;32m    325\u001b[0m             deterministic\u001b[39m=\u001b[39mdeterministic_proto_serialize))\n\u001b[1;32m    326\u001b[0m \u001b[39melse\u001b[39;00m:\n\u001b[1;32m    327\u001b[0m     \u001b[39mraise\u001b[39;00m \u001b[39mTypeError\u001b[39;00m(\u001b[39m\"\u001b[39m\u001b[39mIncompatible item passed into \u001b[39m\u001b[39m\"\u001b[39m\n\u001b[1;32m    328\u001b[0m                     \u001b[39m\"\u001b[39m\u001b[39mconvert_to_tensor. Tensor detected type: \u001b[39m\u001b[39m{}\u001b[39;00m\u001b[39m. \u001b[39m\u001b[39m\"\u001b[39m\n\u001b[1;32m    329\u001b[0m                     \u001b[39m\"\u001b[39m\u001b[39mgot: \u001b[39m\u001b[39m{}\u001b[39;00m\u001b[39m\"\u001b[39m\u001b[39m.\u001b[39mformat(curr_type, \u001b[39mtype\u001b[39m(item)))\n",
      "File \u001b[0;32m~/miniconda3/envs/qtrkx/lib/python3.9/site-packages/tensorflow_quantum/core/serialize/serializer.py:881\u001b[0m, in \u001b[0;36mserialize_circuit\u001b[0;34m(circuit_inp)\u001b[0m\n\u001b[1;32m    876\u001b[0m         new_ops[op\u001b[39m.\u001b[39mqubits] \u001b[39m=\u001b[39m tfq_compatible\n\u001b[1;32m    878\u001b[0m     circuit[i] \u001b[39m=\u001b[39m cirq\u001b[39m.\u001b[39mMoment(\n\u001b[1;32m    879\u001b[0m         new_ops[op\u001b[39m.\u001b[39mqubits] \u001b[39mif\u001b[39;00m op\u001b[39m.\u001b[39mqubits \u001b[39min\u001b[39;00m new_ops \u001b[39melse\u001b[39;00m op \u001b[39mfor\u001b[39;00m op \u001b[39min\u001b[39;00m moment)\n\u001b[0;32m--> 881\u001b[0m \u001b[39mreturn\u001b[39;00m SERIALIZER\u001b[39m.\u001b[39;49mserialize(circuit)\n",
      "File \u001b[0;32m~/miniconda3/envs/qtrkx/lib/python3.9/site-packages/tensorflow_quantum/core/serialize/serializable_gate_set.py:130\u001b[0m, in \u001b[0;36mSerializableGateSet.serialize\u001b[0;34m(self, program, msg, arg_function_language)\u001b[0m\n\u001b[1;32m    128\u001b[0m msg\u001b[39m.\u001b[39mlanguage\u001b[39m.\u001b[39mgate_set \u001b[39m=\u001b[39m \u001b[39mself\u001b[39m\u001b[39m.\u001b[39mgate_set_name\n\u001b[1;32m    129\u001b[0m \u001b[39mif\u001b[39;00m \u001b[39misinstance\u001b[39m(program, cirq\u001b[39m.\u001b[39mCircuit):\n\u001b[0;32m--> 130\u001b[0m     \u001b[39mself\u001b[39;49m\u001b[39m.\u001b[39;49m_serialize_circuit(program,\n\u001b[1;32m    131\u001b[0m                             msg\u001b[39m.\u001b[39;49mcircuit,\n\u001b[1;32m    132\u001b[0m                             arg_function_language\u001b[39m=\u001b[39;49marg_function_language)\n\u001b[1;32m    133\u001b[0m     \u001b[39mif\u001b[39;00m arg_function_language \u001b[39mis\u001b[39;00m \u001b[39mNone\u001b[39;00m:\n\u001b[1;32m    134\u001b[0m         arg_function_language \u001b[39m=\u001b[39m (_infer_function_language_from_circuit(\n\u001b[1;32m    135\u001b[0m             msg\u001b[39m.\u001b[39mcircuit))\n",
      "File \u001b[0;32m~/miniconda3/envs/qtrkx/lib/python3.9/site-packages/tensorflow_quantum/core/serialize/serializable_gate_set.py:229\u001b[0m, in \u001b[0;36mSerializableGateSet._serialize_circuit\u001b[0;34m(self, circuit, msg, arg_function_language)\u001b[0m\n\u001b[1;32m    227\u001b[0m moment_proto \u001b[39m=\u001b[39m msg\u001b[39m.\u001b[39mmoments\u001b[39m.\u001b[39madd()\n\u001b[1;32m    228\u001b[0m \u001b[39mfor\u001b[39;00m op \u001b[39min\u001b[39;00m moment:\n\u001b[0;32m--> 229\u001b[0m     \u001b[39mself\u001b[39;49m\u001b[39m.\u001b[39;49mserialize_op(op,\n\u001b[1;32m    230\u001b[0m                       moment_proto\u001b[39m.\u001b[39;49moperations\u001b[39m.\u001b[39;49madd(),\n\u001b[1;32m    231\u001b[0m                       arg_function_language\u001b[39m=\u001b[39;49marg_function_language)\n",
      "File \u001b[0;32m~/miniconda3/envs/qtrkx/lib/python3.9/site-packages/tensorflow_quantum/core/serialize/serializable_gate_set.py:168\u001b[0m, in \u001b[0;36mSerializableGateSet.serialize_op\u001b[0;34m(self, op, msg, arg_function_language)\u001b[0m\n\u001b[1;32m    166\u001b[0m             \u001b[39mif\u001b[39;00m proto_msg \u001b[39mis\u001b[39;00m \u001b[39mnot\u001b[39;00m \u001b[39mNone\u001b[39;00m:\n\u001b[1;32m    167\u001b[0m                 \u001b[39mreturn\u001b[39;00m proto_msg\n\u001b[0;32m--> 168\u001b[0m \u001b[39mraise\u001b[39;00m \u001b[39mValueError\u001b[39;00m(\u001b[39m'\u001b[39m\u001b[39mCannot serialize op \u001b[39m\u001b[39m{!r}\u001b[39;00m\u001b[39m of type \u001b[39m\u001b[39m{}\u001b[39;00m\u001b[39m'\u001b[39m\u001b[39m.\u001b[39mformat(\n\u001b[1;32m    169\u001b[0m     op, gate_type))\n",
      "\u001b[0;31mValueError\u001b[0m: Exception encountered when calling layer 'expectation' (type Expectation).\n\nCannot serialize op cirq.circuits.qasm_output.QasmUGate(theta=Mod(theta3, 2), phi=Mod(theta4, 2), lmda=Mod(theta5, 2)).on(cirq.GridQubit(0, 0)) of type <class 'cirq.circuits.qasm_output.QasmUGate'>\n\nCall arguments received by layer 'expectation' (type Expectation):\n  • inputs=cirq.Circuit([\n    cirq.Moment(\n        cirq.Ry(rads=sympy.Symbol('x0')).on(cirq.GridQubit(0, 0)),\n        cirq.Ry(rads=sympy.Symbol('x1')).on(cirq.GridQubit(1, 0)),\n        cirq.Ry(rads=sympy.Symbol('x2')).on(cirq.GridQubit(2, 0)),\n        cirq.Ry(rads=sympy.Symbol('x3')).on(cirq.GridQubit(3, 0)),\n        cirq.Ry(rads=sympy.Symbol('x4')).on(cirq.GridQubit(4, 0)),\n        cirq.Ry(rads=sympy.Symbol('x5')).on(cirq.GridQubit(5, 0)),\n        cirq.Ry(rads=sympy.Symbol('x6')).on(cirq.GridQubit(6, 0)),\n        cirq.Ry(rads=sympy.Symbol('x7')).on(cirq.GridQubit(7, 0)),\n    ),\n    cirq.Moment(\n        cirq.Ry(rads=sympy.Symbol('theta0')).on(cirq.GridQubit(0, 0)),\n        cirq.Ry(rads=sympy.Symbol('theta1')).on(cirq.GridQubit(1, 0)),\n        cirq.Ry(rads=sympy.Symbol('theta2')).on(cirq.GridQubit(2, 0)),\n        cirq.Ry(rads=sympy.Symbol('theta3')).on(cirq.GridQubit(3, 0)),\n        cirq.Ry(rads=sympy.Symbol('theta4')).on(cirq.GridQubit(4, 0)),\n        cirq.Ry(rads=sympy.Symbol('theta5')).on(cirq.GridQubit(5, 0)),\n        cirq.Ry(rads=sympy.Symbol('theta6')).on(cirq.GridQubit(6, 0)),\n        cirq.Ry(rads=sympy.Symbol('theta7')).on(cirq.GridQubit(7, 0)),\n    ),\n    cirq.Moment(\n        cirq.circuits.qasm_output.QasmUGate(theta=Mod(theta3, 2), phi=Mod(theta4, 2), lmda=Mod(theta5, 2)).on(cirq.GridQubit(0, 0)),\n    ),\n])\n  • symbol_names=[\"'x0'\", \"'x1'\", \"'x2'\", \"'x3'\", \"'x4'\", \"'x5'\", \"'x6'\", \"'x7'\", \"'theta0'\", \"'theta1'\", \"'theta2'\", \"'theta3'\", \"'theta4'\", \"'theta5'\", \"'theta6'\", \"'theta7'\", \"'theta8'\", \"'theta9'\", \"'theta10'\", \"'theta11'\", \"'theta12'\", \"'theta13'\", \"'theta14'\", \"'theta15'\", \"'theta16'\", \"'theta17'\", \"'theta18'\", \"'theta19'\", \"'theta20'\", \"'theta21'\", \"'theta22'\", \"'theta23'\", \"'theta24'\", \"'theta25'\", \"'theta26'\", \"'theta27'\", \"'theta28'\", \"'theta29'\", \"'theta30'\", \"'theta31'\", \"'theta32'\", \"'theta33'\", \"'theta34'\", \"'theta35'\", \"'theta36'\", \"'theta37'\", \"'theta38'\", \"'theta39'\", \"'theta40'\", \"'theta41'\", \"'theta42'\", \"'theta43'\", \"'theta44'\"]\n  • symbol_values=tf.Tensor(shape=(1, 53), dtype=float32)\n  • operators=['cirq.Z(cirq.GridQubit(0, 0))', 'cirq.Z(cirq.GridQubit(2, 0))', 'cirq.Z(cirq.GridQubit(7, 0))']\n  • repetitions=None\n  • initializer=<keras.initializers.initializers_v2.RandomUniform object at 0x7fa92be7bca0>"
     ]
    }
   ],
   "source": [
    "input_to_circuit = input_layer(B) * np.pi\n",
    "circuit_data = tf.concat(\n",
    "    [\n",
    "        input_to_circuit, \n",
    "        tf.repeat(params,repeats=input_to_circuit.shape[0],axis=0)\n",
    "    ],\n",
    "    axis=1\n",
    ")   \n",
    "circuit_data #shape=(1, 36)\n",
    "input_to_circuit #shape=(1, 4)\n",
    "exps = exp_layer(\n",
    "    model_circuit,\n",
    "    operators=measurement_operators,\n",
    "    symbol_names=symbol_names,\n",
    "    symbol_values=circuit_data\n",
    "    # symbol_values=input_to_circuit\n",
    ")\n",
    "readout_layer(exps)"
   ]
  },
  {
   "cell_type": "code",
   "execution_count": 9,
   "metadata": {},
   "outputs": [
    {
     "data": {
      "text/plain": [
       "{cirq.X: 1,\n",
       " cirq.XX: 2,\n",
       " cirq.Y: 1,\n",
       " cirq.YY: 2,\n",
       " cirq.Z: 1,\n",
       " cirq.ZZ: 2,\n",
       " cirq.H: 1,\n",
       " cirq.CZ: 2,\n",
       " cirq.CNOT: 2,\n",
       " cirq.SWAP: 2,\n",
       " cirq.ISWAP: 2,\n",
       " cirq.PhasedXPowGate(phase_exponent=0.123): 1,\n",
       " cirq.PhasedISwapPowGate(phase_exponent=0.123): 2,\n",
       " cirq.FSimGate(theta=0.123, phi=0.456): 2,\n",
       " cirq.I: 1}"
      ]
     },
     "execution_count": 9,
     "metadata": {},
     "output_type": "execute_result"
    }
   ],
   "source": [
    "tfq.util.get_supported_gates()\n",
    "# https://quantumcomputing.stackexchange.com/questions/11522/implementing-u2-gates-on-cirq\n",
    "# https://github.com/tensorflow/quantum/issues/200"
   ]
  },
  {
   "cell_type": "code",
   "execution_count": 51,
   "metadata": {},
   "outputs": [
    {
     "name": "stdout",
     "output_type": "stream",
     "text": [
      "                                             ┌───────────┐\n",
      "(0, 0): ───Ry(theta0)───────────@─────────────@──────────────Ry(theta4)───\n",
      "                                │             │\n",
      "(1, 0): ───Ry(theta1)───────@───@─────────────┼Ry(theta5)─────────────────\n",
      "                            │                 │\n",
      "(2, 0): ───Ry(theta2)───@───@───Ry(theta6)────┼───────────────────────────\n",
      "                        │                     │\n",
      "(3, 0): ───Ry(theta3)───@─────────────────────@──────────────Ry(theta7)───\n",
      "                                             └───────────┘\n"
     ]
    }
   ],
   "source": [
    "# original one\n",
    "import sympy\n",
    "import cirq\n",
    "n_layers, n_qubits, symbol_offset=1,4,0\n",
    "qubits  = cirq.GridQubit.rect(n_qubits, 1)\n",
    "circuit = cirq.Circuit()\n",
    "\n",
    "params = sympy.symbols('theta{}:{}'.format(symbol_offset, symbol_offset + n_qubits*(1+n_layers)))\n",
    "for i, qubit in enumerate(qubits):\n",
    "    #symbol = sympy.Symbol('theta_{}'.format(i+1))\n",
    "    circuit.append(cirq.ry(params[i])(qubit))\n",
    "for layer in range(n_layers):\n",
    "    for i in range(n_qubits):\n",
    "        circuit.append(cirq.CZ(qubits[(n_qubits-2-i)%n_qubits], qubits[(n_qubits-1-i)%n_qubits]))\n",
    "    for i, qubit in enumerate(qubits):\n",
    "        #symbol = sympy.Symbol('theta_{}'.format(i+1+n_qubits*(layer+1)))\n",
    "        circuit.append(cirq.ry(params[i+n_qubits*(layer+1)])(qubit))\n",
    "        # print(i+n_qubits*(layer+1)) #4,5,6,7\n",
    "print(circuit)"
   ]
  },
  {
   "cell_type": "code",
   "execution_count": 5,
   "metadata": {},
   "outputs": [
    {
     "data": {
      "text/plain": [
       "(<Figure size 1000x300 with 1 Axes>, <Axes: >)"
      ]
     },
     "execution_count": 5,
     "metadata": {},
     "output_type": "execute_result"
    },
    {
     "data": {
      "image/png": "[encoded data removed]",
      "text/plain": [
       "<Figure size 1000x300 with 1 Axes>"
      ]
     },
     "metadata": {},
     "output_type": "display_data"
    }
   ],
   "source": [
    "import pennylane as qml\n",
    "import tensorflow as tf\n",
    "\n",
    "def U_SU4(params, wires): # 15 params\n",
    "    qml.U3(params[0], params[1], params[2], wires=wires[0])\n",
    "    qml.U3(params[3], params[4], params[5], wires=wires[1])\n",
    "    # qml.CNOT(wires=[wires[0], wires[1]])\n",
    "    qml.CRZ(params[12],wires=[wires[0], wires[1]])\n",
    "    qml.RY(params[6], wires=wires[0])\n",
    "    qml.RZ(params[7], wires=wires[1])\n",
    "    qml.CNOT(wires=[wires[1], wires[0]])\n",
    "    qml.RY(params[8], wires=wires[0])\n",
    "    qml.CNOT(wires=[wires[0], wires[1]])\n",
    "    qml.U3(params[9], params[10], params[11], wires=wires[0])\n",
    "    # qml.U3(params[12], params[13], params[14], wires=wires[1])\n",
    "    \n",
    "dev=qml.device('default.qubit',wires=2)\n",
    "params=tf.Variable(tf.random.uniform(shape=[15,],minval=0,maxval=1))\n",
    "wires=[0,1]\n",
    "@qml.qnode(dev)\n",
    "def unitary(params,wires):\n",
    "    U_SU4(params,wires)\n",
    "    return qml.expval(qml.PauliZ(wires=0))\n",
    "qml.draw_mpl(unitary)(params,wires)"
   ]
  }
 ],
 "metadata": {
  "kernelspec": {
   "display_name": "qtrkx",
   "language": "python",
   "name": "python3"
  },
  "language_info": {
   "codemirror_mode": {
    "name": "ipython",
    "version": 3
   },
   "file_extension": ".py",
   "mimetype": "text/x-python",
   "name": "python",
   "nbconvert_exporter": "python",
   "pygments_lexer": "ipython3",
   "version": "3.9.17"
  },
  "orig_nbformat": 4
 },
 "nbformat": 4,
 "nbformat_minor": 2
}
